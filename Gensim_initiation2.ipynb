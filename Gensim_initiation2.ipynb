{
  "nbformat": 4,
  "nbformat_minor": 0,
  "metadata": {
    "colab": {
      "provenance": [],
      "toc_visible": true,
      "include_colab_link": true
    },
    "kernelspec": {
      "name": "python3",
      "display_name": "Python 3"
    },
    "language_info": {
      "name": "python"
    }
  },
  "cells": [
    {
      "cell_type": "markdown",
      "metadata": {
        "id": "view-in-github",
        "colab_type": "text"
      },
      "source": [
        "<a href=\"https://colab.research.google.com/github/Faouzi-Slimi/Text_Mining__NLP/blob/main/Gensim_initiation2.ipynb\" target=\"_parent\"><img src=\"https://colab.research.google.com/assets/colab-badge.svg\" alt=\"Open In Colab\"/></a>"
      ]
    },
    {
      "cell_type": "markdown",
      "metadata": {
        "id": "F1QNyg6gQ74p"
      },
      "source": [
        "# Projection des données dans l'espace des termes descripteurs\n",
        "Dans la première partie nous détectons les termes descripteurs en utilisant la fonction CountVectorizer() "
      ]
    },
    {
      "cell_type": "code",
      "metadata": {
        "id": "Mxk5o3qteDCc"
      },
      "source": [
        "import nltk \n",
        "from gensim import corpora\n",
        "import string\n",
        "from nltk.probability import FreqDist\n",
        "from nltk.corpus import stopwords\n",
        "import pandas as pd\n",
        "from gensim import matutils, models\n",
        "import re\n",
        "from sklearn.feature_extraction.text import CountVectorizer\n",
        "import scipy.sparse"
      ],
      "execution_count": null,
      "outputs": []
    },
    {
      "cell_type": "code",
      "metadata": {
        "id": "sS7DOL6lcC3L"
      },
      "source": [
        "# import logging\n",
        "# logging.basicConfig(format='%(asctime)s : %(levelname)s : %(message)s', level=logging.INFO)"
      ],
      "execution_count": null,
      "outputs": []
    },
    {
      "cell_type": "code",
      "metadata": {
        "colab": {
          "base_uri": "https://localhost:8080/"
        },
        "id": "vO7lfXh9m4FZ",
        "outputId": "981355c3-346f-4a61-925b-3a6bbd1cb2f6"
      },
      "source": [
        "nltk.download('stopwords')\n",
        "#nltk.download('punkt')\n",
        "#nltk.download('averaged_perceptron_tagger')\n",
        "nltk.download('brown')\n"
      ],
      "execution_count": null,
      "outputs": [
        {
          "output_type": "stream",
          "name": "stdout",
          "text": [
            "[nltk_data] Downloading package stopwords to /root/nltk_data...\n",
            "[nltk_data]   Unzipping corpora/stopwords.zip.\n",
            "[nltk_data] Downloading package brown to /root/nltk_data...\n",
            "[nltk_data]   Unzipping corpora/brown.zip.\n"
          ]
        },
        {
          "output_type": "execute_result",
          "data": {
            "text/plain": [
              "True"
            ]
          },
          "metadata": {},
          "execution_count": 2
        }
      ]
    },
    {
      "cell_type": "code",
      "metadata": {
        "colab": {
          "base_uri": "https://localhost:8080/"
        },
        "id": "GU3_dJ0qOb0u",
        "outputId": "67529345-2b60-4389-ea6c-a5fbbf37c5c7"
      },
      "source": [
        "nltk.download('wordnet')"
      ],
      "execution_count": null,
      "outputs": [
        {
          "output_type": "stream",
          "name": "stdout",
          "text": [
            "[nltk_data] Downloading package wordnet to /root/nltk_data...\n",
            "[nltk_data]   Unzipping corpora/wordnet.zip.\n"
          ]
        },
        {
          "output_type": "execute_result",
          "data": {
            "text/plain": [
              "True"
            ]
          },
          "metadata": {},
          "execution_count": 3
        }
      ]
    },
    {
      "cell_type": "code",
      "metadata": {
        "colab": {
          "base_uri": "https://localhost:8080/"
        },
        "id": "X1_WQ0SqdMD6",
        "outputId": "fee37ef6-317d-4121-9b6c-b3d236fe8563"
      },
      "source": [
        "from google.colab import drive\n",
        "drive.mount('/gdrive')\n",
        "%cd /gdrive"
      ],
      "execution_count": null,
      "outputs": [
        {
          "output_type": "stream",
          "name": "stdout",
          "text": [
            "Mounted at /gdrive\n",
            "/gdrive\n"
          ]
        }
      ]
    },
    {
      "cell_type": "markdown",
      "metadata": {
        "id": "j4HLy3QvNRRJ"
      },
      "source": [
        "## Recherche du vocabulaire\n",
        "1) On charge le corpus des documents\n",
        "\n"
      ]
    },
    {
      "cell_type": "code",
      "metadata": {
        "id": "k3FLqT7R9OGI"
      },
      "source": [
        "from nltk.corpus import brown\n",
        "corpus = {}\n",
        "for fileid in ['cn02','cn01','cn03','cd01','cd02']:\n",
        "  corpus[fileid] = [' '.join(brown.words(fileids=fileid))]"
      ],
      "execution_count": null,
      "outputs": []
    },
    {
      "cell_type": "code",
      "metadata": {
        "colab": {
          "base_uri": "https://localhost:8080/"
        },
        "id": "Erwngyb-LsUz",
        "outputId": "ff850637-2f1e-455c-86a8-74d7ab6116b3"
      },
      "source": [
        "print(corpus['cd01'])"
      ],
      "execution_count": null,
      "outputs": [
        {
          "output_type": "stream",
          "name": "stdout",
          "text": [
            "As a result , although we still make use of this distinction , there is much confusion as to the meaning of the basic terms employed . Just what is meant by `` spirit '' and by `` matter '' ? ? The terms are generally taken for granted as though they referred to direct and axiomatic elements in the common experience of all . Yet in the contemporary context this is precisely what one must not do . For in the modern world neither `` spirit '' nor `` matter '' refer to any generally agreed-upon elements of experience . We are in a transitional stage in which many of the connotations of former usage have had to be revised or rejected . When the words are used , we are never sure which of the traditional meanings the user may have in mind , or to what extent his revisions and rejections of former understandings correspond to ours . One of the most widespread features of contemporary thought is the almost universal disbelief in the reality of spirit . Just a few centuries ago the world of spirits was as populous and real as the world of material entities . Not only in popular thought but in that of the highly educated as well was this true . Demons , fairies , angels , and a host of other spiritual beings were as much a part of the experiential world of western man as were rocks and trees and stars . In such a world the words `` matter '' and `` spirit '' both referred to directly known realities in the common experience of all . In it important elements of Christianity and of the Biblical view of reality in general , which now cause us much difficulty , could be responded to quite naturally and spontaneously . The progress of science over these last few centuries and the gradual replacement of Biblical by scientific categories of reality have to a large extent emptied the spirit world of the entities which previously populated it . In carrying out this program science has undoubtedly performed a very considerable service for which it can claim due credit . The objectification of the world of spirit in popular superstition had certainly gone far beyond what the experience of spirit could justify or support . Science is fully competent to deal with any element of experience which arises from an object in space and time . When , therefore , it turned its attention to the concrete entities with which popular imagination had peopled the world of spirit , these entities soon lost whatever status they had enjoyed as actual elements of external reality . In doing so science has unquestionably cleared up widespread misconceptions , removed extraneous and illusory sources of fear , and dispelled many undesirable popular superstitions . There have been , indeed , many important and valuable gains from the development of our present scientific view of the world for which we may be rightly grateful . All this has not , however , been an unmixed blessing . The scientific debunking of the spirit world has been in a way too successful and too thorough . The house has been swept so clean that contemporary man has been left with no means , or at best with wholly inadequate means , for dealing with his experience of spirit . Although the particular form of conceptualization which popular imagination had made in response to the experience of spirit was undoubtedly defective , the raw experience itself which led to such excesses remains with us as vividly as ever . We simply find ourselves in the position of having no means for inquiring into the structure and meaning of this range of our experience . There is no framework or structure of thought with respect to which we can organize it and no part of reality , as we know and apprehend it , with respect to which we can refer this experience . Science has simply left us helpless and powerless in this important sector of our lives . The situation in which we find ourselves is brought out with dramatic force in Arthur Miller's play The Crucible , which deals with the Salem witch trials . As the play opens the audience is introduced to the community of Salem in Puritan America at the end of the eighteenth century . Aside from a quaint concern with witches and devils which provides the immediate problem in the opening scene , it is a quite normal community . The conversation of the characters creates an atmosphere suggesting the usual mixture of pleasures , foibles , irritations , and concerns which would characterize the common life of a normal village in any age . There is no occasion to feel uneasy or disturbed about these people . Instead , the audience can sit back at ease and , from the perspective of an enlightened time which no longer believes in such things , enjoy the dead seriousness with which the characters in the play take the witches and devils which are under discussion . A teenage girl , Abigail Williams , is being sharply questioned by her minister uncle , the Reverend Samuel Parris , about a wild night affair in the woods in which she and some other girls had seemed to have had contact with these evil beings . For all involved in this discussion the devil is a real entity who can really be confronted in the woods on a dark night , the demon world is populated with real creatures , and witches actually can be seen flying through the air . As the play unfolds , however , the audience is subtly brought into the grip of an awful evil which grows with ominously gathering power and soon engulfs the community . Everyone in Salem , saint and sinner alike , is swept up by it . It is like a mysterious epidemic which , starting first with Abigail and Parris , spreads inexorably with a dreadfully growing virulence through the whole town until all have been infected by it . It grows terribly and unavoidably in power and leaves in its wake a trail of misery , moral disintegration , and destruction . The audience leaves the play under a spell , It is the kind of spell which the exposure to spirit in its living active manifestation always evokes . If one asks about this play , what it is that comes upon this community and works within it with such terrible power , there is no better answer to give than `` spirit '' . This is not to attempt to say what spirit is , but only to employ a commonly used word to designate or simply identify a common experience . In the end the good man , John Proctor , expresses what the audience has already come to feel when he says , `` A fire , a fire is burning ! ! I hear the boot of Lucifer , I see his filthy face '' ! ! The tragic irony of the play is that the very belief in and concern with a devil who could be met in the woods and combatted with formulae set out in books was the very thing that prevented them from detecting the real devil when he came among them . We marvel at their blindness for not seeing this . Yet are not we of the mid-twentieth century , who rightly do not believe there is any such `` thing '' as the devil , just as bad off as they -- only in a different way ? ? In our disbelief we think that we can no longer even use the word and so are unable to even name the elemental power which is so vividly real in this play . We are left helpless to cope with it because we do not dare speak of it as anything real for fear that to do so would imply a commitment to that which has already been discredited and proved false . Even Mr. Miller himself seems uncertain on this score . In a long commentary which he has inserted in the published text of the first act of the play , he says at one point : `` However , that experience never raised a doubt in his mind as to the reality of the underworld or the existence of Lucifer's many-faced lieutenants . And his belief is not to his discredit . Better minds than Hale's were -- and still are -- convinced that there is a society of spirits beyond our ken '' . ( page 33 ) On the other hand , a little later on he says : `` Since 1692 a great but superficial change has wiped out God's beard and the Devil's horns , but the world is still gripped between two diametrically opposed absolutes . The concept of unity , in which positive and negative are attributes of the same force , in which good and evil are relative , ever-changing , and always joined to the same phenomenon -- such a concept is still reserved to the physical sciences and to the few who have grasped the history of ideas . When we see the steady and methodical inculcation into humanity of the idea of man's worthlessness -- until redeemed -- the necessity of the Devil may become evident as a weapon , a weapon designed and used time and time again in every age to whip men into a surrender to a particular church or church-state '' . ( page 34 ) Apparently he does not intend that those who read or view this play should think of the devil as being actually real . Yet such is the dramatic power of his writing that the audience is nevertheless left in the grip of the terrible power and potency of that which came over Salem . It casts a spell upon them so that they leave with a feeling of having been in the mysterious presence of an evil power . It is not enough in accounting for this feeling to analyze it into the wickedness of individual people added together to produce a cumulative effect . For this does not account for the integral , elemental power of that which grows with abounding vigor as the play unfolds , nor does it explain the strange numinous sense of presentness which comes over those who watch the play like a spell . The reality of spirit emerges in this play in spite of the author's convictions to the contrary . Spirit and community There is nothing in the whole range of human experience more widely known and universally felt than spirit . Apart from spirit there could be no community , for it is spirit which draws men into community and gives to any community its unity , cohesiveness , and permanence . Think , for example , of the spirit of the Marine Corps . Surely this is a reality we all acknowledge . We cannot , of course , assign it any substance . It is not material and is not a `` thing '' occupying space and time . Yet it exists and has an objective reality which can be experienced and known . So it is too with many other spirits which we all know : the spirit of Nazism or Communism , school spirit , the spirit of a street corner gang or a football team , the spirit of Rotary or the Ku Klux Klan . Every community , if it is alive has a spirit , and that spirit is the center of its unity and identity . In searching for clues which might lead us to a fresh apprehension of the reality of spirit , the close connection between spirit and community is likely to prove the most fruitful . For it is primarily in community that we know and experience spirit . It is spirit which gives life to a community and causes it to cohere . It is the spirit which is the source of a community's drawing power by means of which others are drawn into it from the world outside so that the community grows and prospers . Yet the spirit which lives in community is not identical with the community . The idea of community and the idea of spirit are two distinct and separable ideas . One characteristic of the spirit in community is its givenness . The members of the community do not create the spirit but rather find it present and waiting for them . It is for them a given which they and they alone possess . The spirit of the Marine Corps was present and operative before any of the present members of it came into it . It is they , of course , who keep it alive and preserve it so the same spirit will continue to be present in the Corps for future recruits to find as they come into it .\n"
          ]
        }
      ]
    },
    {
      "cell_type": "code",
      "metadata": {
        "colab": {
          "base_uri": "https://localhost:8080/"
        },
        "id": "iBlv9OYnc0eT",
        "outputId": "c5b3edec-534f-4459-8d89-63a170d6494d"
      },
      "source": [
        "combined_corpus={key: [corpus[key]] for (key, value) in corpus.items()}\n",
        "print(combined_corpus.keys())\n",
        "print(corpus.keys())"
      ],
      "execution_count": null,
      "outputs": [
        {
          "output_type": "stream",
          "name": "stdout",
          "text": [
            "dict_keys(['cn02', 'cn01', 'cn03', 'cd01', 'cd02'])\n",
            "dict_keys(['cn02', 'cn01', 'cn03', 'cd01', 'cd02'])\n"
          ]
        }
      ]
    },
    {
      "cell_type": "code",
      "metadata": {
        "colab": {
          "base_uri": "https://localhost:8080/"
        },
        "id": "vw_vNsKlPgcW",
        "outputId": "418e7d28-bc66-4ce5-a2c6-1e4828a883ea"
      },
      "source": [
        "print(corpus['cn02'])"
      ],
      "execution_count": null,
      "outputs": [
        {
          "output_type": "stream",
          "name": "stdout",
          "text": [
            "Gavin paused wearily . `` You can't stay here with me . It's late and you said they'd be here by dawn '' . `` You can't make me go '' . Gavin sank down again into his chair and began to rock . He was thinking of Rittenhouse and how he had left him there , to rock to death on the porch of the Splendide . It was the only thing in his life for which he felt guilt . Beneath his black shirt his frail shoulders shook and croaks of pain broke from his throat , the stored pain shattering free in slow gasps , terrible to see . Clayton tried to call back the face of the man he had known . Against that other man he could rally his anger ; ; against this bent man in the chair he was powerless . Gavin's lips moved so that Clayton had to stoop to catch the words . `` Do you remember Big Charlie '' ? ? He whispered . `` He stuck with me all these years . Just a half-breed 'pache , never said much , never meant anythin to me , but he stuck with me . He got into a fight with Tom English , your brother's son . It was a fair fight , the boy provoked it -- Big Charlie told me so . I believed him . They killed Big Charlie , dumped his body in my rose garden two nights ago . My men , they all left me . Just cleared out . I didn't understand why , Clay . They just all cleared out . I treated them fair '' He wiped his lips with a sleeve , then stared at Clayton in a childish kind of wonder . `` Do you mean '' -- he asked almost shyly -- `` you want me to go with you , wherever you're goin '' ? ? `` Yes '' . `` You don't hate me any more '' ? ? Clayton choked , shook his head , murmuring , `` No '' . `` Come here '' . The old man beckoned with one finger and Clayton went forward to him . Gavin slipped his arms around his chest and hugged him fiercely . `` All my life '' , he said , `` I tried . I tried . I saw you driftin away -- but I tried . And you wanted no part of me when I had so much to give . Now there's nothin left of me . Laurel is gone , my men are gone , Ed is dead -- and you come to me , to help me . Oh ! ! God in Heaven , I can't refuse you now . That would mock me too much ! ! Can't let you go way from me again '' He closed his eyes , ashamed of his tears . `` I'll go , Clay '' . Clayton freed himself from the embrace and stepped back . The eyes followed him fearfully . `` The horses . There isn't much time . I'll saddle the horses and bring them round . You get ready '' He burst from the hot confinement of the room into the cold night air . Gavin's stallion was in the barn and he tightened the cinches over the saddle blanket , working by touch in the darkness , comforting the animal with easy words . When he had finished he led him and the mare to the porch . The stallion had smelled the mare coming into heat and began to paw the turf , shaking his head . Clayton looped the reins in a knot over the veranda post and patted the warm flesh of his neck . The mare had backed away . `` You take it easy , boy '' , Clayton whispered . `` She doesn't want you now . You take it easy , your time will come '' . Gavin stood on the porch , a thin figure . He had taken a carbine down from the wall and it trailed from his hand , the stock bumping on the wood floor . Clayton called to him and he came slowly down the steps . `` Clay '' , he said , `` where are we goin '' ? ? `` To a ranch in the valley . There's someone there I have to see . We may take her with us -- to California . I don't know yet , it's crazy ; ; I have to think about it . But California is where we're goin '' . `` California '' . Gavin began to nod . `` That's a new land . A man could make a mark there . Two men , together like us , we could do somethin fine out there , maybe find a place where no one's ever been . Start out fresh , the two of us , like nothin had ever happened '' . `` Yes , like a father and son '' . `` I made you what you are '' , Gavin whispered . `` I made you so you could stand up . I made you a man '' . `` Yes , Gavin , you did '' . He approached the horse and laid a hand on the stallion's quivering neck . `` Help me up , Clay . Help me up , I feel kind of stiff '' . Clayton lifted him gently into the saddle , like a child . `` I hate to leave my garden '' , Gavin said . `` They'll trample it down . I loved my garden '' . `` It will grow again -- in California '' . `` I loved this valley '' , he whispered huskily . `` Lived alone here for three years , before any man came . Lived alone by the river . It was nice then , so peaceful and quiet . There was no one but me . I don't want to leave it '' . Clayton swung into the saddle and whacked the stallion's rump . The two horses broke from the yard , from the circle of light cast by the lamp still burning in the house , into the darkness . Thirty-five they rode at a measured pace through the valley . Dawn would come soon and the night was at its coldest . The moon had sunk below the black crest of the mountains and the land , seen through eyes that had grown accustomed to the absence of light , looked primeval , as if no man had ever trespassed before . It looked as Gavin had first seen it years ago , on those nights when he slept alone by his campfire and waked suddenly to the hoot of an owl or the rustle of a blade of grass in the moon's wind -- a savage land , untenanted and brooding , too strong to be broken by the will of men . Gavin sighed bitterly . In that inert landscape the caravan of his desires passed before his mind . He saw them ambushed , strewn in the postures of the broken and the dying . In vain his mind groped to reassemble the bones of the relationships he had sought so desperately , but they would not come to life . The silence oppressed him , made him bend low over the horse's neck as if to hide from a wind that had begun to blow far away and was twisting slowly through the darkness in its slow search . They passed ranches that were framed dark gray against the black hills . Then at last the darkness began to dissolve . A bold line of violet broke loose from the high ridge of the mountains , followed by feathers of red that swept the last stars from the sky . The wan light spread over the ground and the valley revealed in the first glimmer the contours of trees and fences and palely shadowed gullies . They had been seen as soon as they left the ranch , picked out of the darkness by the weary though watchful eyes of two men posted a few hundred yards away in the windless shelter of the trees . The two men whipped their horses into town and flung themselves up the steps of the saloon , crying their intelligence . The men in Pettigrew's were tired from a night's drinking , their faces red and baggy . But the liquor had flushed their courage . They greeted the news angrily , as though they had been cheated of purpose . Lester heard their muttering , saw their eyes reveal their desire . He worked his tongue round and round in the hollow of his cheek and his voice came out of his throat , dry and cracked . `` He's leavin . That's what you wanted , isn't it ? ? Clayton is with him , takin him out of the valley . You can't '' -- `` Keep out of this '' , Purvis snarled . `` He's not your brother , he's Gavin's son . You see , he lied to us when he said he was leavin alone '' . Joe Purvis was thinking back many years . First he thought of the time he had ridden to Gavin and told him how his cattle were being rustled at the far end of the valley . He remembered Gavin's smirk , his own cringing feeling , his impotence . Then he thought of a time when Clayton's horse had fallen lame in the Gap . His wife had said to him : `` Nellie is in love with Clayton Roy . He wouldn't even dance with her at Gavin's party . He treats her like she was dirt . And you stand by like a fool and let him do it '' He remembered Clayton's mocking smile in the saloon when he had asked him what he would do if they brought their cattle to water . It was the night Clayton had tricked them in the poker game . `` You're Gavin's son '' , Joe Purvis had said . He turned to Lester . `` You brought him back to this valley thinkin he would help you find your boy . He meant to help Gavin all the time . He made a fool of you , Lester '' . He swung round to the other men -- `` We can catch him easy ! ! There are plenty of fresh horses halfway at my place . If we let them go , they won't stay away , they'll find men to ride with them and they'll be back . There's only one way they can get out now and that's through the Gap -- if we ride hard we can take them '' . Lester's hand fluttered to Cabot's shoulder . The boy jerked away . `` He killed Tom -- do you understand that '' ? ? Cabot turned back to the men and he was drunk with the thing they would do , wild to break from the cloying warmth of the saloon into the cold of the ebbing night . He fled through the door and down the steps , running , and the men grunted and followed , pushing Lester to one side where he backed against the wall with the sleeve of his jacket raised before his eyes to shut out the light . Purvis and Silas Pettigrew were the last to leave . They mounted up and rode slowly behind the others at a safe distance . Thirty-six in the cold dawn the mist swirled low to the ground , then rose with a gust of sudden wind to leave the valley clear . The clouds parted and hard gashes of sunlight swooped down to stain the earth with streaks of white and gold light so that the shadows of the running horses flowed like dark streams over the dazzling snow . When they turned in the saddle they could see the men behind them , strung out on the prairie in a flat black line . The wind of their running was cold and wild , the horses were lathered and their manes streamed like stiff black pennants in the wind . The mare began to tire and Clayton felt the spray of snow from the hoofs of Gavin's stallion . He looked over his shoulder at the thin dotting of pursuers . They neither gained nor fell back . He rode low on the mare's neck . Ahead of him Gavin turned slightly off the trail and pointed for the Gap , no more than a mile away . Gavin's face was bloodless with excitement . He did not look back ; ; he could feel more than hear the staccato beat of hoofs that fanned out across the prairie to the north . He knew who was riding after him -- the men he had known all his life , the men who had worked for him , sworn their loyalty to him . Now they were riding to kill him . And he was fleeing , running -- fleeing his death and his life at the same time . The land over which he sped was the land he had created and lived in : his valley . With every leaping stride of the horse beneath him he crossed one more patch of earth that had been his , that he would never see again . The Gap looming before him -- the place where had confronted Jack English on that day so many years ago -- was his exit from all that had meaning to him . California is too far , he thought . He would never reach California . He was too old -- when he passed up and through the corridor of pines that lined the trail he could see ahead , he was passing from life .\n"
          ]
        }
      ]
    },
    {
      "cell_type": "code",
      "metadata": {
        "colab": {
          "base_uri": "https://localhost:8080/"
        },
        "id": "FbP8NS7KdifJ",
        "outputId": "36951d4e-1930-4596-a289-cbe68499b013"
      },
      "source": [
        "print(combined_corpus['cn02'])"
      ],
      "execution_count": null,
      "outputs": [
        {
          "output_type": "stream",
          "name": "stdout",
          "text": [
            "[\"Gavin paused wearily . `` You can't stay here with me . It's late and you said they'd be here by dawn '' . `` You can't make me go '' . Gavin sank down again into his chair and began to rock . He was thinking of Rittenhouse and how he had left him there , to rock to death on the porch of the Splendide . It was the only thing in his life for which he felt guilt . Beneath his black shirt his frail shoulders shook and croaks of pain broke from his throat , the stored pain shattering free in slow gasps , terrible to see . Clayton tried to call back the face of the man he had known . Against that other man he could rally his anger ; ; against this bent man in the chair he was powerless . Gavin's lips moved so that Clayton had to stoop to catch the words . `` Do you remember Big Charlie '' ? ? He whispered . `` He stuck with me all these years . Just a half-breed 'pache , never said much , never meant anythin to me , but he stuck with me . He got into a fight with Tom English , your brother's son . It was a fair fight , the boy provoked it -- Big Charlie told me so . I believed him . They killed Big Charlie , dumped his body in my rose garden two nights ago . My men , they all left me . Just cleared out . I didn't understand why , Clay . They just all cleared out . I treated them fair '' He wiped his lips with a sleeve , then stared at Clayton in a childish kind of wonder . `` Do you mean '' -- he asked almost shyly -- `` you want me to go with you , wherever you're goin '' ? ? `` Yes '' . `` You don't hate me any more '' ? ? Clayton choked , shook his head , murmuring , `` No '' . `` Come here '' . The old man beckoned with one finger and Clayton went forward to him . Gavin slipped his arms around his chest and hugged him fiercely . `` All my life '' , he said , `` I tried . I tried . I saw you driftin away -- but I tried . And you wanted no part of me when I had so much to give . Now there's nothin left of me . Laurel is gone , my men are gone , Ed is dead -- and you come to me , to help me . Oh ! ! God in Heaven , I can't refuse you now . That would mock me too much ! ! Can't let you go way from me again '' He closed his eyes , ashamed of his tears . `` I'll go , Clay '' . Clayton freed himself from the embrace and stepped back . The eyes followed him fearfully . `` The horses . There isn't much time . I'll saddle the horses and bring them round . You get ready '' He burst from the hot confinement of the room into the cold night air . Gavin's stallion was in the barn and he tightened the cinches over the saddle blanket , working by touch in the darkness , comforting the animal with easy words . When he had finished he led him and the mare to the porch . The stallion had smelled the mare coming into heat and began to paw the turf , shaking his head . Clayton looped the reins in a knot over the veranda post and patted the warm flesh of his neck . The mare had backed away . `` You take it easy , boy '' , Clayton whispered . `` She doesn't want you now . You take it easy , your time will come '' . Gavin stood on the porch , a thin figure . He had taken a carbine down from the wall and it trailed from his hand , the stock bumping on the wood floor . Clayton called to him and he came slowly down the steps . `` Clay '' , he said , `` where are we goin '' ? ? `` To a ranch in the valley . There's someone there I have to see . We may take her with us -- to California . I don't know yet , it's crazy ; ; I have to think about it . But California is where we're goin '' . `` California '' . Gavin began to nod . `` That's a new land . A man could make a mark there . Two men , together like us , we could do somethin fine out there , maybe find a place where no one's ever been . Start out fresh , the two of us , like nothin had ever happened '' . `` Yes , like a father and son '' . `` I made you what you are '' , Gavin whispered . `` I made you so you could stand up . I made you a man '' . `` Yes , Gavin , you did '' . He approached the horse and laid a hand on the stallion's quivering neck . `` Help me up , Clay . Help me up , I feel kind of stiff '' . Clayton lifted him gently into the saddle , like a child . `` I hate to leave my garden '' , Gavin said . `` They'll trample it down . I loved my garden '' . `` It will grow again -- in California '' . `` I loved this valley '' , he whispered huskily . `` Lived alone here for three years , before any man came . Lived alone by the river . It was nice then , so peaceful and quiet . There was no one but me . I don't want to leave it '' . Clayton swung into the saddle and whacked the stallion's rump . The two horses broke from the yard , from the circle of light cast by the lamp still burning in the house , into the darkness . Thirty-five they rode at a measured pace through the valley . Dawn would come soon and the night was at its coldest . The moon had sunk below the black crest of the mountains and the land , seen through eyes that had grown accustomed to the absence of light , looked primeval , as if no man had ever trespassed before . It looked as Gavin had first seen it years ago , on those nights when he slept alone by his campfire and waked suddenly to the hoot of an owl or the rustle of a blade of grass in the moon's wind -- a savage land , untenanted and brooding , too strong to be broken by the will of men . Gavin sighed bitterly . In that inert landscape the caravan of his desires passed before his mind . He saw them ambushed , strewn in the postures of the broken and the dying . In vain his mind groped to reassemble the bones of the relationships he had sought so desperately , but they would not come to life . The silence oppressed him , made him bend low over the horse's neck as if to hide from a wind that had begun to blow far away and was twisting slowly through the darkness in its slow search . They passed ranches that were framed dark gray against the black hills . Then at last the darkness began to dissolve . A bold line of violet broke loose from the high ridge of the mountains , followed by feathers of red that swept the last stars from the sky . The wan light spread over the ground and the valley revealed in the first glimmer the contours of trees and fences and palely shadowed gullies . They had been seen as soon as they left the ranch , picked out of the darkness by the weary though watchful eyes of two men posted a few hundred yards away in the windless shelter of the trees . The two men whipped their horses into town and flung themselves up the steps of the saloon , crying their intelligence . The men in Pettigrew's were tired from a night's drinking , their faces red and baggy . But the liquor had flushed their courage . They greeted the news angrily , as though they had been cheated of purpose . Lester heard their muttering , saw their eyes reveal their desire . He worked his tongue round and round in the hollow of his cheek and his voice came out of his throat , dry and cracked . `` He's leavin . That's what you wanted , isn't it ? ? Clayton is with him , takin him out of the valley . You can't '' -- `` Keep out of this '' , Purvis snarled . `` He's not your brother , he's Gavin's son . You see , he lied to us when he said he was leavin alone '' . Joe Purvis was thinking back many years . First he thought of the time he had ridden to Gavin and told him how his cattle were being rustled at the far end of the valley . He remembered Gavin's smirk , his own cringing feeling , his impotence . Then he thought of a time when Clayton's horse had fallen lame in the Gap . His wife had said to him : `` Nellie is in love with Clayton Roy . He wouldn't even dance with her at Gavin's party . He treats her like she was dirt . And you stand by like a fool and let him do it '' He remembered Clayton's mocking smile in the saloon when he had asked him what he would do if they brought their cattle to water . It was the night Clayton had tricked them in the poker game . `` You're Gavin's son '' , Joe Purvis had said . He turned to Lester . `` You brought him back to this valley thinkin he would help you find your boy . He meant to help Gavin all the time . He made a fool of you , Lester '' . He swung round to the other men -- `` We can catch him easy ! ! There are plenty of fresh horses halfway at my place . If we let them go , they won't stay away , they'll find men to ride with them and they'll be back . There's only one way they can get out now and that's through the Gap -- if we ride hard we can take them '' . Lester's hand fluttered to Cabot's shoulder . The boy jerked away . `` He killed Tom -- do you understand that '' ? ? Cabot turned back to the men and he was drunk with the thing they would do , wild to break from the cloying warmth of the saloon into the cold of the ebbing night . He fled through the door and down the steps , running , and the men grunted and followed , pushing Lester to one side where he backed against the wall with the sleeve of his jacket raised before his eyes to shut out the light . Purvis and Silas Pettigrew were the last to leave . They mounted up and rode slowly behind the others at a safe distance . Thirty-six in the cold dawn the mist swirled low to the ground , then rose with a gust of sudden wind to leave the valley clear . The clouds parted and hard gashes of sunlight swooped down to stain the earth with streaks of white and gold light so that the shadows of the running horses flowed like dark streams over the dazzling snow . When they turned in the saddle they could see the men behind them , strung out on the prairie in a flat black line . The wind of their running was cold and wild , the horses were lathered and their manes streamed like stiff black pennants in the wind . The mare began to tire and Clayton felt the spray of snow from the hoofs of Gavin's stallion . He looked over his shoulder at the thin dotting of pursuers . They neither gained nor fell back . He rode low on the mare's neck . Ahead of him Gavin turned slightly off the trail and pointed for the Gap , no more than a mile away . Gavin's face was bloodless with excitement . He did not look back ; ; he could feel more than hear the staccato beat of hoofs that fanned out across the prairie to the north . He knew who was riding after him -- the men he had known all his life , the men who had worked for him , sworn their loyalty to him . Now they were riding to kill him . And he was fleeing , running -- fleeing his death and his life at the same time . The land over which he sped was the land he had created and lived in : his valley . With every leaping stride of the horse beneath him he crossed one more patch of earth that had been his , that he would never see again . The Gap looming before him -- the place where had confronted Jack English on that day so many years ago -- was his exit from all that had meaning to him . California is too far , he thought . He would never reach California . He was too old -- when he passed up and through the corridor of pines that lined the trail he could see ahead , he was passing from life .\"]\n"
          ]
        }
      ]
    },
    {
      "cell_type": "code",
      "metadata": {
        "id": "KlFfbML5hs5f"
      },
      "source": [
        "def stopwords_free(text_vec,stopwords):\n",
        "  clean_words = [w for w in text_vec if w not in stopwords]\n",
        "  return clean_words"
      ],
      "execution_count": null,
      "outputs": []
    },
    {
      "cell_type": "code",
      "metadata": {
        "id": "MDAYVcJAhxJv"
      },
      "source": [
        "def ponctuation_free(words, punctuation):\n",
        "  words_clean = [w for w in words if w not in punctuation and w.isalpha() ]\n",
        "  return words_clean"
      ],
      "execution_count": null,
      "outputs": []
    },
    {
      "cell_type": "code",
      "metadata": {
        "id": "HqPH5MIwFjBk"
      },
      "source": [
        "def clean_data(text):\n",
        "  #Mise en miniscule\n",
        "  text = text.lower()\n",
        "  #Elimination de la ponctuation et des digits\n",
        "  text = re.sub('\\[.*?\\]','',text)\n",
        "  text =  re.sub('[%s]' % re.escape(string.punctuation), ' ', text)\n",
        "  text = re.sub('\\w*\\d\\w*', '', text)\n",
        "  # diviser en des tokens \n",
        "  tokens = re.split('\\W+',text)\n",
        "  text = [w for w in tokens if w not in stopwords.words('english')]\n",
        "  wnl = nltk.WordNetLemmatizer()\n",
        "  term_lem = []\n",
        "  for w in text:\n",
        "    term_lem.append(wnl.lemmatize(w))\n",
        "  \n",
        "  return term_lem"
      ],
      "execution_count": null,
      "outputs": []
    },
    {
      "cell_type": "code",
      "metadata": {
        "colab": {
          "base_uri": "https://localhost:8080/"
        },
        "id": "egIzPs9xTM0S",
        "outputId": "5cbff8d5-cef8-4a92-929e-b5c889bc767d"
      },
      "source": [
        "print(corpus['cd02'])"
      ],
      "execution_count": null,
      "outputs": [
        {
          "output_type": "stream",
          "name": "stdout",
          "text": [
            "If the content of faith is to be presented today in a form that can be `` understanded of the people '' -- and this , it must not be forgotten , is one of the goals of the perennial theological task -- there is no other choice but to abandon completely a mythological manner of representation . This does not mean that mythological language as such can no longer be used in theology and preaching . The absurd notion that demythologization entails the expurgation of all mythological concepts completely misrepresents Bultmann's intention . His point is not that mythology may not be used , but that it may no longer be regarded as the only or even the most appropriate conceptuality for expressing the Christian kerygma . When we say that a mythological mode of thought must be completely abandoned , we mean it must be abandoned as the sole or proper means for presenting the Christian understanding of existence . Mythological concepts may by all means still be used , but they can be used responsibly only as `` symbols '' or `` ciphers '' , that is , only if they are also constantly interpreted in nonmythological ( or existential ) terms . The statement is often made that when Bultmann argues in this way , he `` overestimates the intellectual stumbling-block which myth is supposed to put in the way of accepting the Christian faith '' . But this statement is completely unconvincing . If Bultmann's own definition of myth is strictly adhered to ( and it is interesting that this is almost never done by those who make such pronouncements ) , the evidence is overwhelming that he does not at all exaggerate the extent to which the mythological concepts of traditional theology have become incredible and irrelevant . Nor is it necessary to look for such evidence in the great urban centers of our culture that are admittedly almost entirely secularized and so profoundly estranged from the conventional forms in which the gospel has been communicated . On the contrary , even in the heart of `` the Bible belt '' itself , as can be attested by any one who is called to work there , the industrial and technological revolutions have long been under way , together with the corresponding changes in man's picture of himself and his world . In fact , it is in just such a situation that the profundity of Bultmann's argument is disclosed . Although the theological forms of the past continue to exist in a way they do not in a more secularized situation , the striking thing is the rapidity with which they are being reduced to a marginal existence . This is especially in evidence among the present generation of the suburban middle class . Time and again in counseling and teaching , one encounters members of this group whose attempts to bring into some kind of unity the insubstantial mythologies of their `` fundamentalist '' heritage and the stubborn reality of the modern world are only too painfully obvious . The same thing is also evidenced by the extreme `` culture-Protestantism '' so often observed to characterize the preaching and teaching of the American churches . In the absence of a truly adequate conceptuality in which the gospel can be expressed , the unavoidable need to demythologize it makes use of whatever resources are at hand -- and this usually means one or another of the various forms of `` folk religion '' current in the situation . This is not to say that the only explanation of the present infatuation with Norman Vincent Peale's `` cult of reassurance '' or the other types of a purely cultural Christianity is the ever-present need for a demythologized gospel . But it is to say that this need is far more important for such infatuation than most of the pundits seem to have suspected . However , even if the latent demand for demythologization is not nearly as widespread as we are claiming , at least among the cultured elements of the population there tends to be an almost complete indifference to the church and its traditional message of sin and grace . To be sure , when this is pointed out , a common response among certain churchmen is to fulminate about `` the little flock '' and `` the great crowd '' and to take solace from Paul's castigation of the `` wisdom of the wise '' in the opening chapter of First Corinthians . But can we any longer afford the luxury of such smug indigation ? ? Can the church risk assuming that the `` folly '' of men is as dear to God as their `` wisdom '' , or , as is also commonly implied , that `` the foolishness of God '' and `` the foolishness of men '' are simply two ways of talking about the same thing ? ? Can we continue to alienate precisely those whose gifts we so desperately need and apart from whose co-operation our mission in the world must become increasingly precarious ? ? There is an ancient and venerable tradition in the church ( which derives , however , from the heritage of the Greeks rather than from the Bible ) that God is completely independent of his creation and so has no need of men for accomplishing his work in the world . By analogy , the church also has been regarded as entirely independent of the `` world '' in the sense of requiring nothing from it in order to be the church . But , as Scripture everywhere reminds us , God does have need of his creatures , and the church , a fortiori , can ill afford to do without the talents with which the world , by God's providence , presents it . And yet this is exactly the risk we run when we assume , as we too often do , that we can continue to preach the gospel in a form that makes it seem incredible and irrelevant to cultured men . Until we translate this gospel into a language that enlightened men today can understand , we are depriving ourselves of the very resources on which the continued success of our witness most certainly depends . In arguing in this way , we are obviously taking for granted that a demythologized restatement of the kerygma can be achieved ; ; and that we firmly believe this will presently become evident when we set forth reasons to justify such a conviction . But the main point here is that even if such a restatement were not possible , the demand to demythologize the kerygma would still be unavoidable . This is what we mean when we say this demand must be accepted without condition . If to be a Christian means to say yes where I otherwise say no , or where I do not have the right to say anything at all , then my only choice is to refuse to be a Christian . Expressed differently : if the price for becoming a faithful follower of Jesus Christ is some form of self-destruction , whether of the body or of the mind -- sacrificium corporis , sacrificium intellectus -- then there is no alternative but that the price remain unpaid . This must be stressed because it is absolutely essential to the argument of this concluding chapter . Modern man , as Dietrich Bonhoeffer has told us , has `` come of age '' ; ; and though this process by no means represents an unambiguous gain and is , in fact , marked by the estrangement from the depths that seems to be the cost of human maturation , it is still a positive step forward ; ; and those of us who so richly benefit from it should be the last to despise it . In any event , it is an irreversible step , and if we are at all honest with ourselves , we will know we have no other alternative than to live in the world in which God has seen fit to place us . To say this , of course , is to take up a position on one side of a controversy going on now for some two hundred years , or , at any rate , since the beginning of the distinctively modern period in theological thought . We have aligned ourselves with that `` liberal '' tradition in Protestant Christianity that counts among the great names in its history those of Schleiermacher , Ritschl , Herrmann , Harnack , and Troeltsch , and more recently , Schweitzer and the early Barth and , in part at least , Bultmann . It is to this same tradition that most of the creative figures in the last century and a half of American theology also belong . For we must number here not only the names of Bushnell , Clarke , and Rauschenbusch , not to mention those of `` the Chicago School '' and Macintosh , but those of the brothers Niebuhr and ( if America may claim him ! ! ) Tillich as well . Finally , we may also mention the several members of the self-consciously `` neoliberal '' movement that developed at the University of Chicago and is heavily indebted philosophically to the creative work of Alfred North Whitehead . What makes this long and diverse tradition essentially one is that those who have belonged to it have been profoundly in earnest about being modern men in a distinctively modern world . Although they have also been concerned to stand squarely within the tradition of the apostolic church , they have exhibited no willingness whatever to sacrifice their modernity to their Christianity . They have insisted , rather , on living fully and completely within modern culture and , so far from considering this treason to God , have looked upon it as the only way they could be faithful to him . When we say , then , that today , in our situation , the demand for demythologization must be accepted without condition , we are simply saying that at least this much of the liberal tradition is an enduring achievement . However much we may have to criticize liberal theology's constructive formulations , the theology we ourselves must strive to formulate can only go beyond liberalism , not behind it . In affirming this we have already taken the decisive step in breaking the deadlock into which Bultmann's attempt to formulate such a theology has led . For we have said , in effect , that of the two alternatives to his position variously represented by the other participants in the demythologizing discussion , only one is really an alternative . If the demand for demythologization is unavoidable and so must be accepted by theology unconditionally , the position of the `` right '' is clearly untenable . Whereas Bultmann's `` center '' position is structurally inconsistent and is therefore indefensible on formal grounds alone , the general position of the `` right '' , as represented , say , by Karl Barth , involves the rejection or at least qualification of the demand for demythologization and so is invalidated on the material grounds we have just considered . It follows , then , provided the possibilities have been exhausted , that the only real alternative is the general viewpoint of the `` left '' , which has been represented on the Continent by Fritz Buri and , to some extent at least , is found in much that is significant in American and English theology . In order to make the implications of our position as clear as possible , we may develop this argument at greater length . We may show , first , that there cannot possibly be an alternative other than the three typically represented by Bultmann , Barth , and Buri . To do this , it is sufficient to point out that if the principle in terms of which alternatives are to be conceived is such as to exclude more than two , then the question of a `` third '' possibility is a meaningless question . Thus , if what is at issue is whether `` All S is P '' , it is indifferent whether `` Some S is not P '' or `` No S is P '' , since in either case the judgment in question is false . Hence , if what is in question is whether in a given theology myth is or is not completely rejected , it is unimportant whether only a little bit of myth or a considerable quantity is accepted ; ; for , in either event , the first possibility is excluded . Therefore , the only conceivable alternatives are those represented , on the one hand , by the two at least apparently self-consistent but mutually exclusive positions of Buri and Barth and , on the other hand , by the third but really pseudo position ( analogous to a round square ) of Bultmann . A second point requires more extended comment . It will be recalled from the discussion in Section 7 that the position of the `` right '' , as represented by Barth , rests on the following thesis : The only tenable alternative to Bultmann's position is a theology that ( 1 ) rejects or at least qualifies his unconditioned demand for demythologization and existential interpretation ; ; ( 2 ) accepts instead a special biblical hermeneutics or method of interpretation ; ; and ( 3 ) in so doing , frees itself to give appropriate emphasis to the event Jesus Christ by means of statements that , from Bultmann's point of view , are mythological .\n"
          ]
        }
      ]
    },
    {
      "cell_type": "code",
      "metadata": {
        "colab": {
          "base_uri": "https://localhost:8080/"
        },
        "id": "sFPNB7fMYliI",
        "outputId": "2dd4f5bc-1e15-4117-d789-6c54941816c0"
      },
      "source": [
        "for key,val in corpus.items():\n",
        "  print(key)\n",
        "  print(val)"
      ],
      "execution_count": null,
      "outputs": [
        {
          "output_type": "stream",
          "name": "stdout",
          "text": [
            "cn02\n",
            "Gavin paused wearily . `` You can't stay here with me . It's late and you said they'd be here by dawn '' . `` You can't make me go '' . Gavin sank down again into his chair and began to rock . He was thinking of Rittenhouse and how he had left him there , to rock to death on the porch of the Splendide . It was the only thing in his life for which he felt guilt . Beneath his black shirt his frail shoulders shook and croaks of pain broke from his throat , the stored pain shattering free in slow gasps , terrible to see . Clayton tried to call back the face of the man he had known . Against that other man he could rally his anger ; ; against this bent man in the chair he was powerless . Gavin's lips moved so that Clayton had to stoop to catch the words . `` Do you remember Big Charlie '' ? ? He whispered . `` He stuck with me all these years . Just a half-breed 'pache , never said much , never meant anythin to me , but he stuck with me . He got into a fight with Tom English , your brother's son . It was a fair fight , the boy provoked it -- Big Charlie told me so . I believed him . They killed Big Charlie , dumped his body in my rose garden two nights ago . My men , they all left me . Just cleared out . I didn't understand why , Clay . They just all cleared out . I treated them fair '' He wiped his lips with a sleeve , then stared at Clayton in a childish kind of wonder . `` Do you mean '' -- he asked almost shyly -- `` you want me to go with you , wherever you're goin '' ? ? `` Yes '' . `` You don't hate me any more '' ? ? Clayton choked , shook his head , murmuring , `` No '' . `` Come here '' . The old man beckoned with one finger and Clayton went forward to him . Gavin slipped his arms around his chest and hugged him fiercely . `` All my life '' , he said , `` I tried . I tried . I saw you driftin away -- but I tried . And you wanted no part of me when I had so much to give . Now there's nothin left of me . Laurel is gone , my men are gone , Ed is dead -- and you come to me , to help me . Oh ! ! God in Heaven , I can't refuse you now . That would mock me too much ! ! Can't let you go way from me again '' He closed his eyes , ashamed of his tears . `` I'll go , Clay '' . Clayton freed himself from the embrace and stepped back . The eyes followed him fearfully . `` The horses . There isn't much time . I'll saddle the horses and bring them round . You get ready '' He burst from the hot confinement of the room into the cold night air . Gavin's stallion was in the barn and he tightened the cinches over the saddle blanket , working by touch in the darkness , comforting the animal with easy words . When he had finished he led him and the mare to the porch . The stallion had smelled the mare coming into heat and began to paw the turf , shaking his head . Clayton looped the reins in a knot over the veranda post and patted the warm flesh of his neck . The mare had backed away . `` You take it easy , boy '' , Clayton whispered . `` She doesn't want you now . You take it easy , your time will come '' . Gavin stood on the porch , a thin figure . He had taken a carbine down from the wall and it trailed from his hand , the stock bumping on the wood floor . Clayton called to him and he came slowly down the steps . `` Clay '' , he said , `` where are we goin '' ? ? `` To a ranch in the valley . There's someone there I have to see . We may take her with us -- to California . I don't know yet , it's crazy ; ; I have to think about it . But California is where we're goin '' . `` California '' . Gavin began to nod . `` That's a new land . A man could make a mark there . Two men , together like us , we could do somethin fine out there , maybe find a place where no one's ever been . Start out fresh , the two of us , like nothin had ever happened '' . `` Yes , like a father and son '' . `` I made you what you are '' , Gavin whispered . `` I made you so you could stand up . I made you a man '' . `` Yes , Gavin , you did '' . He approached the horse and laid a hand on the stallion's quivering neck . `` Help me up , Clay . Help me up , I feel kind of stiff '' . Clayton lifted him gently into the saddle , like a child . `` I hate to leave my garden '' , Gavin said . `` They'll trample it down . I loved my garden '' . `` It will grow again -- in California '' . `` I loved this valley '' , he whispered huskily . `` Lived alone here for three years , before any man came . Lived alone by the river . It was nice then , so peaceful and quiet . There was no one but me . I don't want to leave it '' . Clayton swung into the saddle and whacked the stallion's rump . The two horses broke from the yard , from the circle of light cast by the lamp still burning in the house , into the darkness . Thirty-five they rode at a measured pace through the valley . Dawn would come soon and the night was at its coldest . The moon had sunk below the black crest of the mountains and the land , seen through eyes that had grown accustomed to the absence of light , looked primeval , as if no man had ever trespassed before . It looked as Gavin had first seen it years ago , on those nights when he slept alone by his campfire and waked suddenly to the hoot of an owl or the rustle of a blade of grass in the moon's wind -- a savage land , untenanted and brooding , too strong to be broken by the will of men . Gavin sighed bitterly . In that inert landscape the caravan of his desires passed before his mind . He saw them ambushed , strewn in the postures of the broken and the dying . In vain his mind groped to reassemble the bones of the relationships he had sought so desperately , but they would not come to life . The silence oppressed him , made him bend low over the horse's neck as if to hide from a wind that had begun to blow far away and was twisting slowly through the darkness in its slow search . They passed ranches that were framed dark gray against the black hills . Then at last the darkness began to dissolve . A bold line of violet broke loose from the high ridge of the mountains , followed by feathers of red that swept the last stars from the sky . The wan light spread over the ground and the valley revealed in the first glimmer the contours of trees and fences and palely shadowed gullies . They had been seen as soon as they left the ranch , picked out of the darkness by the weary though watchful eyes of two men posted a few hundred yards away in the windless shelter of the trees . The two men whipped their horses into town and flung themselves up the steps of the saloon , crying their intelligence . The men in Pettigrew's were tired from a night's drinking , their faces red and baggy . But the liquor had flushed their courage . They greeted the news angrily , as though they had been cheated of purpose . Lester heard their muttering , saw their eyes reveal their desire . He worked his tongue round and round in the hollow of his cheek and his voice came out of his throat , dry and cracked . `` He's leavin . That's what you wanted , isn't it ? ? Clayton is with him , takin him out of the valley . You can't '' -- `` Keep out of this '' , Purvis snarled . `` He's not your brother , he's Gavin's son . You see , he lied to us when he said he was leavin alone '' . Joe Purvis was thinking back many years . First he thought of the time he had ridden to Gavin and told him how his cattle were being rustled at the far end of the valley . He remembered Gavin's smirk , his own cringing feeling , his impotence . Then he thought of a time when Clayton's horse had fallen lame in the Gap . His wife had said to him : `` Nellie is in love with Clayton Roy . He wouldn't even dance with her at Gavin's party . He treats her like she was dirt . And you stand by like a fool and let him do it '' He remembered Clayton's mocking smile in the saloon when he had asked him what he would do if they brought their cattle to water . It was the night Clayton had tricked them in the poker game . `` You're Gavin's son '' , Joe Purvis had said . He turned to Lester . `` You brought him back to this valley thinkin he would help you find your boy . He meant to help Gavin all the time . He made a fool of you , Lester '' . He swung round to the other men -- `` We can catch him easy ! ! There are plenty of fresh horses halfway at my place . If we let them go , they won't stay away , they'll find men to ride with them and they'll be back . There's only one way they can get out now and that's through the Gap -- if we ride hard we can take them '' . Lester's hand fluttered to Cabot's shoulder . The boy jerked away . `` He killed Tom -- do you understand that '' ? ? Cabot turned back to the men and he was drunk with the thing they would do , wild to break from the cloying warmth of the saloon into the cold of the ebbing night . He fled through the door and down the steps , running , and the men grunted and followed , pushing Lester to one side where he backed against the wall with the sleeve of his jacket raised before his eyes to shut out the light . Purvis and Silas Pettigrew were the last to leave . They mounted up and rode slowly behind the others at a safe distance . Thirty-six in the cold dawn the mist swirled low to the ground , then rose with a gust of sudden wind to leave the valley clear . The clouds parted and hard gashes of sunlight swooped down to stain the earth with streaks of white and gold light so that the shadows of the running horses flowed like dark streams over the dazzling snow . When they turned in the saddle they could see the men behind them , strung out on the prairie in a flat black line . The wind of their running was cold and wild , the horses were lathered and their manes streamed like stiff black pennants in the wind . The mare began to tire and Clayton felt the spray of snow from the hoofs of Gavin's stallion . He looked over his shoulder at the thin dotting of pursuers . They neither gained nor fell back . He rode low on the mare's neck . Ahead of him Gavin turned slightly off the trail and pointed for the Gap , no more than a mile away . Gavin's face was bloodless with excitement . He did not look back ; ; he could feel more than hear the staccato beat of hoofs that fanned out across the prairie to the north . He knew who was riding after him -- the men he had known all his life , the men who had worked for him , sworn their loyalty to him . Now they were riding to kill him . And he was fleeing , running -- fleeing his death and his life at the same time . The land over which he sped was the land he had created and lived in : his valley . With every leaping stride of the horse beneath him he crossed one more patch of earth that had been his , that he would never see again . The Gap looming before him -- the place where had confronted Jack English on that day so many years ago -- was his exit from all that had meaning to him . California is too far , he thought . He would never reach California . He was too old -- when he passed up and through the corridor of pines that lined the trail he could see ahead , he was passing from life .\n",
            "cn01\n",
            "Dan Morgan told himself he would forget Ann Turner . He was well rid of her . He certainly didn't want a wife who was fickle as Ann . If he had married her , he'd have been asking for trouble . But all of this was rationalization . Sometimes he woke up in the middle of the night thinking of Ann , and then could not get back to sleep . His plans and dreams had revolved around her so much and for so long that now he felt as if he had nothing . The easiest thing would be to sell out to Al Budd and leave the country , but there was a stubborn streak in him that wouldn't allow it . The best antidote for the bitterness and disappointment that poisoned him was hard work . He found that if he was tired enough at night , he went to sleep simply because he was too exhausted to stay awake . Each day he found himself thinking less often of Ann ; ; each day the hurt was a little duller , a little less poignant . He had plenty of work to do . Because the summer was unusually dry and hot , the spring produced a smaller stream than in ordinary years . The grass in the meadows came fast , now that the warm weather was here . He could not afford to lose a drop of the precious water , so he spent most of his waking hours along the ditches in his meadows . He had no idea how much time Budd would give him . In any case , he had no intention of being caught asleep , so he carried his revolver in its holster on his hip and he took his Winchester with him and leaned it against the fence . He stopped every few minutes and leaned on his shovel as he studied the horizon , but nothing happened , each day dragging out with monotonous calm . When , in late afternoon on the last day in June , he saw two people top the ridge to the south and walk toward the house , he quit work immediately and strode to his rifle . It could be some kind of trick Budd had thought up . No one walked in this country , least of all Ed Dow or Dutch Renfro or any of the rest of the Bar B crew . Morgan watched the two figures for a time , puzzled . When they were closer and he saw that one was a woman , he was more puzzled than ever . He cleaned his shovel , left it against the fence , picked up his Winchester , and started downstream . His visitors had crawled through the south fence and were crossing the meadow , angling toward the house . Now he saw that both the man and woman were moving slowly and irregularly , staggering , as if they found it a struggle to remain on their feet . Reaching the house ahead of them , he waited with his Winchester in his hands . They crawled through the north fence and came on toward him , and now he saw that both were young , not more than nineteen or twenty . They were dirty , their clothes were torn , and the girl was so exhausted that she fell when she was still twenty feet from the front door . She lay there , making no effort to get back on her feet . The boy came on to the porch and sat down , his gaze on Morgan as if half expecting him to shoot and not really caring . Morgan hesitated , thinking that if this was a trick , it was a good one . He didn't think it was possible for this couple to be pretending . The boy licked his dry lips . He asked , `` Could we have a drink '' ? ? Morgan jerked his head toward the front door . `` In the kitchen '' , he said . Leaning his Winchester against the front of the house , he walked to the girl . `` Get up . There's water in the house '' . She didn't move or say anything . Her eyes were glazed as if she didn't hear or even see him . She had reached a point at which she didn't even care how she looked . Her face was very thin , and burned by the sun until much of the skin was dead and peeling , the new skin under it red and angry . Her blond hair was frowzy , her dress torn in several places , and her shoes were so completely worn out that they were practically no protection . It must have hurt her even to walk , for the sole was completely off her left foot and Morgan saw that it was bruised and bleeding . He picked her up , sliding one hand under her shoulders , the other under her knees , and carried her into the house . She was amazingly light , and so relaxed in his arms that he wasn't even sure she was conscious . Any lingering suspicion that this was a trick Al Budd had thought up was dispelled . No girl would go this far to fool a man so she could kill him . Besides , she had a sweet face that attracted him . He put her down on the couch , and going into the kitchen , saw that the boy had dropped into a chair beside the table . They looked a good deal alike , Morgan thought . Both had blonde hair and blue eyes , and there was even a faint similarity of features . Morgan filled the dipper from the water bucket on the shelf , went back into the front room , lifted the girl's head , and held the edge of the dipper to her mouth . She drank greedily , and murmured , `` Thank you '' , as he lowered her head . He stood looking down at her for a moment , wondering what could have reduced her to this condition . He had seen a few nester wagons go through the country , the families almost starving to death , but he had never seen any of them on foot and as bad off as these two . The girl dropped off to sleep . Morgan returned to the kitchen , built a fire , and carried in several buckets of water from the spring which he poured into the copper boiler that he had placed on the stove . He brought his Winchester in from the front of the house , then faced the boy . `` Who are you and what happened to you '' ? ? He asked . `` I'm Billy Jones '' , the boy answered . `` That's my wife Sharon . We ran out of money and we haven't eaten for two days '' . `` What are you doing here '' ? ? `` Are we in Wyoming '' ? ? Morgan nodded . `` About five miles north of the line '' . Jones sighed as if relieved . `` We've been looking for work , but all the ranchers have turned us down '' . `` You mean you dragged your wife all over hell's half-acre looking for work '' ? ? Morgan demanded . `` The town of Buckhorn's only about six miles from here . Why didn't you go there '' ? ? `` We didn't want town work '' , Jones said . `` This is a mighty empty country '' , Morgan said . `` There's only one more ranch three miles north of here . You'd have starved to death if you'd missed both places '' . `` Then we're lucky we got here . Could you give us a job , Mr. '' `` Morgan . Dan Morgan '' . He was silent a moment , thinking he could use a man this time of year , and if the girl could cook , it would give him more time in the meadows , but he knew nothing about the couple . They might kill him in his sleep , thinking there was money in the house . He dismissed the possibility at once . The girl's thin face haunted him . It wasn't the face of a killer . He wasn't so sure about the boy . He hadn't shaved for several weeks , his sparse beard giving his face a pathetic , woebegone expression . There was more to this than Jones had told him . They were running from something . He'd be an idiot to let them stay he thought , but he couldn't send them on , either . `` I could use some help '' , Morgan said finally , `` but I can't afford to pay you anything . I guess you'd better go on in the morning '' . `` We'll work for our keep '' , the boy said eagerly . `` I've been mucking in a mine in the San Juan , but I used to work on a ranch . Sharon , she's cooked in a restaurant . We'll work hard , Mr. Morgan '' . `` I'll see '' , Morgan said . `` Right now you need a meal and a bath . Your wife's in terrible shape '' . `` I know '' , Jones said dejectedly . Morgan filled the fire box with wood again , then started supper and set the table . When the meal was ready , he told Jones to wash up , and going into the front room , woke the girl . He said , `` I've got some supper ready '' . She rubbed her eyes and stretched , then sat up , her hands going to her hair . `` I'm a mess '' , she said , and suddenly she was alarmed . `` Who are you ? ? How did we get here '' ? ? `` I'm Dan Morgan . This is the Rafter Aj . You fell down in front of the house , and I carried you in . I gave you a drink and then you went to sleep '' . `` Oh '' . She stared at him , her eyes wide as she thought about what he had said ; ; then she murmured : `` You're very kind , Mr. Morgan . Do you take in all the strays who come by '' ? ? `` I don't have many strays coming to my front door '' , he said . `` Think you can walk to the table '' ? ? `` Of course '' . She got to her feet , staggered , and almost fell . He caught her by an arm and helped her into the kitchen . She sat down at the table , shaking her head . `` I'm sorry , Mr. Morgan . I'm usually a very strong woman , but I'm awfully tired '' . `` And hungry '' , he said . `` Start in . It's not much of a meal , but it's what I eat '' . `` Not much of a meal '' ? ? The girl cried . `` Mr. Morgan , it's the best-looking food I ever saw '' . He told himself he had never seen two people eat so much . When they were finally satisfied , Jones said , `` I think he's going to give us work '' . The grateful way she looked at Morgan made him ashamed of himself . When he saw the expression in her eyes , he knew he couldn't send them on . She said , `` I guess the Lord looks out for fools , drunkards , and innocents '' . Morgan laughed . `` Which are you '' ? ? `` We're not drunkards '' , she said . `` That's all I'm sure of '' . She helped him with the dishes , then he brought more water in from the spring before it got dark . He carried the tub from the back of the house where it hung from a nail in the wall . He said : `` You'll feel a lot better after you have a bath . Your feet are in bad shape , Mrs. Jones . You'll have to go to town to see the doc '' . `` No , she'll be all right '' , Jones said quickly . `` I mean , we don't have any way to get there and we can't expect you to quit work just to take us to town '' . `` We'll see '' , Morgan said . `` Could you find me a needle and thread '' ? ? The girl asked . `` My dress needs some work on it '' . He nodded and , going into the bedroom , brought a needle , thread , and scissors . He said : `` I'm going to bed '' . He nodded at the door in front of him . `` That's my spare bedroom . The bed isn't made , but you'll find plenty of blankets there '' . `` You're awfully kind '' , the girl said . `` We'll pay you back if you'll let us . Some way '' . `` It's all right '' , he said . `` I get up early . You'd better sleep '' . Jones followed him into the front room , closing the door behind him . He said : `` If it's all right with you , Mr. Morgan , I'll sleep out here on the couch . We haven't slept together since we started . I just can't take any chances on getting her pregnant , and if we were sleeping together '' He stopped , embarrassed , and Morgan said , `` I understand that , but I don't savvy why you'd go off and leave your jobs in the first place '' . `` We got fired '' , Jones said . `` We had to do something '' . They were a pair of lost , whipped kids , Morgan thought as he went to bed .\n",
            "cn03\n",
            "The sentry was not dead . He was , in fact , showing signs of reviving . He had been carrying an Enfield rifle and a holstered navy cap-and-ball pistol . A bayonet hung in a belt scabbard . He was partially uniformed in a cavalry tunic and hat . Mike stripped these from him and donned them . He and Dean tied and gagged the man , using his belt and shirt for the purpose . They dragged him inside the building . Fiske joined them , unsteady on his feet . Julia , seeing the bandage , rushed to him . `` You are hurt '' ! ! She breathed . `` I never felt better in my life '' , Fiske blustered . He turned to Susan and kissed her on the cheek . `` Thank you , My dear '' , he said . `` You are very brave '' . Mike silenced them . `` We'll talk later . First , we've got to get out of here '' . `` We'll grab horses '' , Dean said . `` The main bunch is outside , but there are some over there inside the wall '' . Mike debated it , trying to decide whether Fiske was strong enough to ride . But it at least offered him a chance for living . He had none here . And , for the sake of Julia and Susan , it had to be tried . The guerrilla bivouac remained silent . Light showed in the orderly room across the parade ground . Someone evidently was on duty there . No doubt there would be men guarding the horses . About a dozen animals were held inside the stockade , as best Mike could make out in the moonlight . Evidently this was a precaution so that mounts would be available in an emergency . He handed the guard's rifle to Fiske . `` Dean and myself will try to cut out horses to ride '' , he said . `` We'll stampede the rest . You stay with the ladies . All of you be ready to ride hell for leather '' . He added , `` If this doesn't work out , the three of you barricade yourself in the house and talk terms with them '' . He handed the bayonet to Dean and kept the pistol . Susan halted Dean and kissed him . She clung to him , talking to him , and dabbing at her eyes . Mike turned away . He was thinking that the way she had responded to his own kiss hadn't meant what he had believed it had . He felt unutterably weary . Dean turned from Susan and took Julia Fortune in his arms . He kissed her also , and with deep tenderness . She too began to weep . He released her and joined Mike . `` All right '' , he said . Mike only said , `` Later '' . `` Be careful , McLish '' ! ! Susan said fiercely . `` The way you were careful '' ? ? He snorted . `` Running around in the moonlight almost naked and slugging a man with a rock '' ? ? He kept going . He wanted no more sentimental scenes with her . He might say or do something foolish . Something all of them would regret . He might tell her how sorry a spectacle she was making of herself , pretending to be blind to the way Julia Fortune had taken Dean's affections from her . And using him , Mike McLish , as a sop to her pride . He handed the bayonet to Dean and kept the pistol . `` Stay well back of me '' , he said . `` I'm going to walk up to the horses , bold as brass , pretending I'm one of the guerrillas . There's bound to be someone on guard , but the hat might fool them long enough for me to get close '' . Holding the pistol concealed , he walked to the rear wall of the stockade . It was pierced by a wagon gate built of two wings . One wing stood open . Mike passed through it and moved toward the dark mass of horses . They were tethered , army style , on stable lines . A voice spoke near-at-hand . `` Who's that '' ? ? Just me '' , Mike said . `` Is that you , Bill '' ? ? He located his man . The guard stood in the shadow of the stockade wall just out of reach of the moonlight . Mike kept walking and got within arm's reach before the man became suspicious and straightened from his lax slouch . Mike struck with the muzzle of the pistol . But the luck that had been running their way left him . The guard instinctively parried the blow with his rifle . He tried to veer the rifle around to fire into Mike's body . Mike , off balance , managed to bat the muzzle away a moment before it exploded . The bullet went wide . Mike swung the pistol in a savage backlash . This time it connected solidly on the man's temple , felling him . The explosion of the rifle had crashed against the walls of the stockade and the deep echoes were still rolling in the hills . The startled horses began rearing on their tethers . Dean came rushing up . `` Are you hit '' ? ? He demanded . `` No , but the fat's in the fire '' ! ! Mike said . `` There's no chance now of all of us getting away . You'll have to try it alone '' . The sentry's saddled horse stood picketed nearby , having been kept handy in case of need . Mike took the bayonet from Dean's hand and slashed the picket line . `` Up you go '' ! ! He said . `` Ride '' ! ! Dean resisted Mike's attempt to push him toward the horse . `` Why not you '' ? ? He protested . `` Dammit '' ! ! Mike said frantically . `` You're lighter than me . It's our only chance now . Try to find these Feds . The rest of us can fort up in the house and hang on until you get back . You're the one that's taking the big chance '' . Dean still hesitated , but Mike lifted him almost bodily into the saddle and thrust the reins in his hand . `` No telling how good this horse is '' , Mike panted . `` Favor him and save something in case you hit trouble . Watch out for Apaches when it comes daylight . Take the pistol . You might need it . We'll still have the rifle , and I might be able to round up some more . I'll stampede the rest of these horses so they can't chase you '' . Dean leaned from the saddle and gave him a mighty whack on the back . `` McLish '' , he said as he kicked the horse into motion , `` I'd be a mighty sad man if we never met again '' . Then he was on his way at a gallop . Mike ran down the line , slashing picket ropes with the bayonet . He lifted a screeching war whoop . That touched off a total stampede . He darted inside the stockade and freed the horses there . These poured through the gate and joined the flight . The animals thundered away into the moonlight , heading for the ridges . The guerrillas were swarming from their bivouac at the west end of the enclosure . `` Apaches '' ! ! Mike yelled . `` They're stealin' the stock '' ! ! He scuttled in shadow along the east wall of the stockade and then followed the south wall until he was at the rear of the two frame buildings . He crouched there . His shout had been taken up and repeated . The guerrillas were running across the parade ground and through the rear gate in the wake of the departing horses . All were carrying guns they had seized up , but they were half-clad or hardly clad at all . Durkin and Calhoun came running from the post . They had pistols in their hands . They bawled questions that were not answered in the uproar . They followed the others toward the east gate . Beyond the stockade rifles began to explode as some of the guerrillas fired at shadows that they imagined were Apaches . Mike made a dash to the rear of the frame buildings . He crawled beneath the two supply wagons which stood between the buildings and peered around a corner . The area was deserted . A man was standing in the open door of the lighted orderly room a few yards to Mike's left , but he , too , suddenly made up his mind and went racing to join the confused activity at the east end of the stockade . Mike crawled to the door and peered in . The orderly room seemed to be deserted . A lantern hung from a peg , giving light . Ducking inside , he found that three rifles were stacked in a corner . A brace of pistols , holstered on belts , hung from a peg , along with ammunition pouches . An ammunition case stood open , containing canisters which contained powder cartridges . Mike seized a blanket from a pallet in a corner , spread it on the floor and used it to form a bag in which he placed his booty . Shouldering the load he peered from the door . His looting of the orderly room had taken only a minute or two and the vicinity was still clear of guerrillas . He looked at the looming hoods of the supply wagons , struck by a new inspiration . He set his bundle down . Snatching the lantern from its peg , he shattered its globe with a blow against a post . He picked up the powder canister and ran out . Bursting paper cartridges , he scattered powder beneath the nearest wagon and dumped the contents of the canister upon it . He shouldered the blanket again , backed off , and tossed the lantern with its open wick beneath the wagon . He turned and raced across the parade ground toward the rock house . Powder flame gushed beneath the wagon . The stockade was brilliantly lighted and the guerrillas sighted him . They realized the truth . Bullets began to snap past him . One struck the muzzle of one of the rifles that projected from the shoulder pack . Its force spun him around , but he recovered and got into stride again . A bullet tore the earth from beneath his foot when he was a stride or two from safety . Another struck him heavily in the thigh and he went down . Guerrillas were racing toward him . Susan and Julia came from the door and dragged him with them . The three of them floundered through the door into the interior and fell in a heap . Susan bounced to her feet and slammed the door . She crouched aside as bullets beat at the portal , chewing into the planks . Some tore entirely through the whipsawed post oak . The iron hinges held , but the planks were in danger of being torn from the crossbars . Mike rolled to Susan , grasped her around the knees , dragging her off her feet . He hovered over her to shield her , for spent bullets were thudding against the rear walls . He peered from a loophole . Guerrillas were only a dozen yards away , charging the house . Mike snatched a pistol from the heap of scattered booty and fired . He dropped a man with the first bullet . At the same moment Wheeler Fiske fired the rifle Mike had given him and another guerrilla was hit . That halted the rush . The guerrillas scattered for cover . The wagons were burning fiercely . The mudwagon had caught fire also . The blaze was spreading to the frame buildings . The guerrillas realized they faced a new problem . `` Gawdamighty '' ! ! One screeched . `` There goes our grub an' ammunition '' ! ! `` Get a bucket line going '' ! ! Calhoun shouted . `` Hurry ! ! Hurry '' ! ! The guerrillas began a frantic search for pails in which to bring water from the spring . But what few containers they found were inadequate . Many of them , in increasing panic , came running with water in their hats in a ludicrous effort . Both buildings were in flames . The heat drove the guerrillas back . The roof of the command post began to buckle . `` Drag the wagons to the spring '' ! ! Lew Durkin yelled . `` Run 'em right into the spring ! ! Hustle '' ! ! One of the wagons erupted a massive pillar of flame . A sizable supply of powder had been touched off . The wagons and the coach were beyond saving and so were the buildings . The glow of the fire reached through the openings in the windows , giving light enough to examine Mike's wound . The bullet had torn through the flesh just above the knee , inflicting an ugly gash that was forming a pool of blood on the floor . But it had missed the bone and had passed on through . Susan and Julia ripped strips from their clothing and bound the injury . Mike tested the leg and found that he was able to hobble around on it .\n",
            "cd01\n",
            "As a result , although we still make use of this distinction , there is much confusion as to the meaning of the basic terms employed . Just what is meant by `` spirit '' and by `` matter '' ? ? The terms are generally taken for granted as though they referred to direct and axiomatic elements in the common experience of all . Yet in the contemporary context this is precisely what one must not do . For in the modern world neither `` spirit '' nor `` matter '' refer to any generally agreed-upon elements of experience . We are in a transitional stage in which many of the connotations of former usage have had to be revised or rejected . When the words are used , we are never sure which of the traditional meanings the user may have in mind , or to what extent his revisions and rejections of former understandings correspond to ours . One of the most widespread features of contemporary thought is the almost universal disbelief in the reality of spirit . Just a few centuries ago the world of spirits was as populous and real as the world of material entities . Not only in popular thought but in that of the highly educated as well was this true . Demons , fairies , angels , and a host of other spiritual beings were as much a part of the experiential world of western man as were rocks and trees and stars . In such a world the words `` matter '' and `` spirit '' both referred to directly known realities in the common experience of all . In it important elements of Christianity and of the Biblical view of reality in general , which now cause us much difficulty , could be responded to quite naturally and spontaneously . The progress of science over these last few centuries and the gradual replacement of Biblical by scientific categories of reality have to a large extent emptied the spirit world of the entities which previously populated it . In carrying out this program science has undoubtedly performed a very considerable service for which it can claim due credit . The objectification of the world of spirit in popular superstition had certainly gone far beyond what the experience of spirit could justify or support . Science is fully competent to deal with any element of experience which arises from an object in space and time . When , therefore , it turned its attention to the concrete entities with which popular imagination had peopled the world of spirit , these entities soon lost whatever status they had enjoyed as actual elements of external reality . In doing so science has unquestionably cleared up widespread misconceptions , removed extraneous and illusory sources of fear , and dispelled many undesirable popular superstitions . There have been , indeed , many important and valuable gains from the development of our present scientific view of the world for which we may be rightly grateful . All this has not , however , been an unmixed blessing . The scientific debunking of the spirit world has been in a way too successful and too thorough . The house has been swept so clean that contemporary man has been left with no means , or at best with wholly inadequate means , for dealing with his experience of spirit . Although the particular form of conceptualization which popular imagination had made in response to the experience of spirit was undoubtedly defective , the raw experience itself which led to such excesses remains with us as vividly as ever . We simply find ourselves in the position of having no means for inquiring into the structure and meaning of this range of our experience . There is no framework or structure of thought with respect to which we can organize it and no part of reality , as we know and apprehend it , with respect to which we can refer this experience . Science has simply left us helpless and powerless in this important sector of our lives . The situation in which we find ourselves is brought out with dramatic force in Arthur Miller's play The Crucible , which deals with the Salem witch trials . As the play opens the audience is introduced to the community of Salem in Puritan America at the end of the eighteenth century . Aside from a quaint concern with witches and devils which provides the immediate problem in the opening scene , it is a quite normal community . The conversation of the characters creates an atmosphere suggesting the usual mixture of pleasures , foibles , irritations , and concerns which would characterize the common life of a normal village in any age . There is no occasion to feel uneasy or disturbed about these people . Instead , the audience can sit back at ease and , from the perspective of an enlightened time which no longer believes in such things , enjoy the dead seriousness with which the characters in the play take the witches and devils which are under discussion . A teenage girl , Abigail Williams , is being sharply questioned by her minister uncle , the Reverend Samuel Parris , about a wild night affair in the woods in which she and some other girls had seemed to have had contact with these evil beings . For all involved in this discussion the devil is a real entity who can really be confronted in the woods on a dark night , the demon world is populated with real creatures , and witches actually can be seen flying through the air . As the play unfolds , however , the audience is subtly brought into the grip of an awful evil which grows with ominously gathering power and soon engulfs the community . Everyone in Salem , saint and sinner alike , is swept up by it . It is like a mysterious epidemic which , starting first with Abigail and Parris , spreads inexorably with a dreadfully growing virulence through the whole town until all have been infected by it . It grows terribly and unavoidably in power and leaves in its wake a trail of misery , moral disintegration , and destruction . The audience leaves the play under a spell , It is the kind of spell which the exposure to spirit in its living active manifestation always evokes . If one asks about this play , what it is that comes upon this community and works within it with such terrible power , there is no better answer to give than `` spirit '' . This is not to attempt to say what spirit is , but only to employ a commonly used word to designate or simply identify a common experience . In the end the good man , John Proctor , expresses what the audience has already come to feel when he says , `` A fire , a fire is burning ! ! I hear the boot of Lucifer , I see his filthy face '' ! ! The tragic irony of the play is that the very belief in and concern with a devil who could be met in the woods and combatted with formulae set out in books was the very thing that prevented them from detecting the real devil when he came among them . We marvel at their blindness for not seeing this . Yet are not we of the mid-twentieth century , who rightly do not believe there is any such `` thing '' as the devil , just as bad off as they -- only in a different way ? ? In our disbelief we think that we can no longer even use the word and so are unable to even name the elemental power which is so vividly real in this play . We are left helpless to cope with it because we do not dare speak of it as anything real for fear that to do so would imply a commitment to that which has already been discredited and proved false . Even Mr. Miller himself seems uncertain on this score . In a long commentary which he has inserted in the published text of the first act of the play , he says at one point : `` However , that experience never raised a doubt in his mind as to the reality of the underworld or the existence of Lucifer's many-faced lieutenants . And his belief is not to his discredit . Better minds than Hale's were -- and still are -- convinced that there is a society of spirits beyond our ken '' . ( page 33 ) On the other hand , a little later on he says : `` Since 1692 a great but superficial change has wiped out God's beard and the Devil's horns , but the world is still gripped between two diametrically opposed absolutes . The concept of unity , in which positive and negative are attributes of the same force , in which good and evil are relative , ever-changing , and always joined to the same phenomenon -- such a concept is still reserved to the physical sciences and to the few who have grasped the history of ideas . When we see the steady and methodical inculcation into humanity of the idea of man's worthlessness -- until redeemed -- the necessity of the Devil may become evident as a weapon , a weapon designed and used time and time again in every age to whip men into a surrender to a particular church or church-state '' . ( page 34 ) Apparently he does not intend that those who read or view this play should think of the devil as being actually real . Yet such is the dramatic power of his writing that the audience is nevertheless left in the grip of the terrible power and potency of that which came over Salem . It casts a spell upon them so that they leave with a feeling of having been in the mysterious presence of an evil power . It is not enough in accounting for this feeling to analyze it into the wickedness of individual people added together to produce a cumulative effect . For this does not account for the integral , elemental power of that which grows with abounding vigor as the play unfolds , nor does it explain the strange numinous sense of presentness which comes over those who watch the play like a spell . The reality of spirit emerges in this play in spite of the author's convictions to the contrary . Spirit and community There is nothing in the whole range of human experience more widely known and universally felt than spirit . Apart from spirit there could be no community , for it is spirit which draws men into community and gives to any community its unity , cohesiveness , and permanence . Think , for example , of the spirit of the Marine Corps . Surely this is a reality we all acknowledge . We cannot , of course , assign it any substance . It is not material and is not a `` thing '' occupying space and time . Yet it exists and has an objective reality which can be experienced and known . So it is too with many other spirits which we all know : the spirit of Nazism or Communism , school spirit , the spirit of a street corner gang or a football team , the spirit of Rotary or the Ku Klux Klan . Every community , if it is alive has a spirit , and that spirit is the center of its unity and identity . In searching for clues which might lead us to a fresh apprehension of the reality of spirit , the close connection between spirit and community is likely to prove the most fruitful . For it is primarily in community that we know and experience spirit . It is spirit which gives life to a community and causes it to cohere . It is the spirit which is the source of a community's drawing power by means of which others are drawn into it from the world outside so that the community grows and prospers . Yet the spirit which lives in community is not identical with the community . The idea of community and the idea of spirit are two distinct and separable ideas . One characteristic of the spirit in community is its givenness . The members of the community do not create the spirit but rather find it present and waiting for them . It is for them a given which they and they alone possess . The spirit of the Marine Corps was present and operative before any of the present members of it came into it . It is they , of course , who keep it alive and preserve it so the same spirit will continue to be present in the Corps for future recruits to find as they come into it .\n",
            "cd02\n",
            "If the content of faith is to be presented today in a form that can be `` understanded of the people '' -- and this , it must not be forgotten , is one of the goals of the perennial theological task -- there is no other choice but to abandon completely a mythological manner of representation . This does not mean that mythological language as such can no longer be used in theology and preaching . The absurd notion that demythologization entails the expurgation of all mythological concepts completely misrepresents Bultmann's intention . His point is not that mythology may not be used , but that it may no longer be regarded as the only or even the most appropriate conceptuality for expressing the Christian kerygma . When we say that a mythological mode of thought must be completely abandoned , we mean it must be abandoned as the sole or proper means for presenting the Christian understanding of existence . Mythological concepts may by all means still be used , but they can be used responsibly only as `` symbols '' or `` ciphers '' , that is , only if they are also constantly interpreted in nonmythological ( or existential ) terms . The statement is often made that when Bultmann argues in this way , he `` overestimates the intellectual stumbling-block which myth is supposed to put in the way of accepting the Christian faith '' . But this statement is completely unconvincing . If Bultmann's own definition of myth is strictly adhered to ( and it is interesting that this is almost never done by those who make such pronouncements ) , the evidence is overwhelming that he does not at all exaggerate the extent to which the mythological concepts of traditional theology have become incredible and irrelevant . Nor is it necessary to look for such evidence in the great urban centers of our culture that are admittedly almost entirely secularized and so profoundly estranged from the conventional forms in which the gospel has been communicated . On the contrary , even in the heart of `` the Bible belt '' itself , as can be attested by any one who is called to work there , the industrial and technological revolutions have long been under way , together with the corresponding changes in man's picture of himself and his world . In fact , it is in just such a situation that the profundity of Bultmann's argument is disclosed . Although the theological forms of the past continue to exist in a way they do not in a more secularized situation , the striking thing is the rapidity with which they are being reduced to a marginal existence . This is especially in evidence among the present generation of the suburban middle class . Time and again in counseling and teaching , one encounters members of this group whose attempts to bring into some kind of unity the insubstantial mythologies of their `` fundamentalist '' heritage and the stubborn reality of the modern world are only too painfully obvious . The same thing is also evidenced by the extreme `` culture-Protestantism '' so often observed to characterize the preaching and teaching of the American churches . In the absence of a truly adequate conceptuality in which the gospel can be expressed , the unavoidable need to demythologize it makes use of whatever resources are at hand -- and this usually means one or another of the various forms of `` folk religion '' current in the situation . This is not to say that the only explanation of the present infatuation with Norman Vincent Peale's `` cult of reassurance '' or the other types of a purely cultural Christianity is the ever-present need for a demythologized gospel . But it is to say that this need is far more important for such infatuation than most of the pundits seem to have suspected . However , even if the latent demand for demythologization is not nearly as widespread as we are claiming , at least among the cultured elements of the population there tends to be an almost complete indifference to the church and its traditional message of sin and grace . To be sure , when this is pointed out , a common response among certain churchmen is to fulminate about `` the little flock '' and `` the great crowd '' and to take solace from Paul's castigation of the `` wisdom of the wise '' in the opening chapter of First Corinthians . But can we any longer afford the luxury of such smug indigation ? ? Can the church risk assuming that the `` folly '' of men is as dear to God as their `` wisdom '' , or , as is also commonly implied , that `` the foolishness of God '' and `` the foolishness of men '' are simply two ways of talking about the same thing ? ? Can we continue to alienate precisely those whose gifts we so desperately need and apart from whose co-operation our mission in the world must become increasingly precarious ? ? There is an ancient and venerable tradition in the church ( which derives , however , from the heritage of the Greeks rather than from the Bible ) that God is completely independent of his creation and so has no need of men for accomplishing his work in the world . By analogy , the church also has been regarded as entirely independent of the `` world '' in the sense of requiring nothing from it in order to be the church . But , as Scripture everywhere reminds us , God does have need of his creatures , and the church , a fortiori , can ill afford to do without the talents with which the world , by God's providence , presents it . And yet this is exactly the risk we run when we assume , as we too often do , that we can continue to preach the gospel in a form that makes it seem incredible and irrelevant to cultured men . Until we translate this gospel into a language that enlightened men today can understand , we are depriving ourselves of the very resources on which the continued success of our witness most certainly depends . In arguing in this way , we are obviously taking for granted that a demythologized restatement of the kerygma can be achieved ; ; and that we firmly believe this will presently become evident when we set forth reasons to justify such a conviction . But the main point here is that even if such a restatement were not possible , the demand to demythologize the kerygma would still be unavoidable . This is what we mean when we say this demand must be accepted without condition . If to be a Christian means to say yes where I otherwise say no , or where I do not have the right to say anything at all , then my only choice is to refuse to be a Christian . Expressed differently : if the price for becoming a faithful follower of Jesus Christ is some form of self-destruction , whether of the body or of the mind -- sacrificium corporis , sacrificium intellectus -- then there is no alternative but that the price remain unpaid . This must be stressed because it is absolutely essential to the argument of this concluding chapter . Modern man , as Dietrich Bonhoeffer has told us , has `` come of age '' ; ; and though this process by no means represents an unambiguous gain and is , in fact , marked by the estrangement from the depths that seems to be the cost of human maturation , it is still a positive step forward ; ; and those of us who so richly benefit from it should be the last to despise it . In any event , it is an irreversible step , and if we are at all honest with ourselves , we will know we have no other alternative than to live in the world in which God has seen fit to place us . To say this , of course , is to take up a position on one side of a controversy going on now for some two hundred years , or , at any rate , since the beginning of the distinctively modern period in theological thought . We have aligned ourselves with that `` liberal '' tradition in Protestant Christianity that counts among the great names in its history those of Schleiermacher , Ritschl , Herrmann , Harnack , and Troeltsch , and more recently , Schweitzer and the early Barth and , in part at least , Bultmann . It is to this same tradition that most of the creative figures in the last century and a half of American theology also belong . For we must number here not only the names of Bushnell , Clarke , and Rauschenbusch , not to mention those of `` the Chicago School '' and Macintosh , but those of the brothers Niebuhr and ( if America may claim him ! ! ) Tillich as well . Finally , we may also mention the several members of the self-consciously `` neoliberal '' movement that developed at the University of Chicago and is heavily indebted philosophically to the creative work of Alfred North Whitehead . What makes this long and diverse tradition essentially one is that those who have belonged to it have been profoundly in earnest about being modern men in a distinctively modern world . Although they have also been concerned to stand squarely within the tradition of the apostolic church , they have exhibited no willingness whatever to sacrifice their modernity to their Christianity . They have insisted , rather , on living fully and completely within modern culture and , so far from considering this treason to God , have looked upon it as the only way they could be faithful to him . When we say , then , that today , in our situation , the demand for demythologization must be accepted without condition , we are simply saying that at least this much of the liberal tradition is an enduring achievement . However much we may have to criticize liberal theology's constructive formulations , the theology we ourselves must strive to formulate can only go beyond liberalism , not behind it . In affirming this we have already taken the decisive step in breaking the deadlock into which Bultmann's attempt to formulate such a theology has led . For we have said , in effect , that of the two alternatives to his position variously represented by the other participants in the demythologizing discussion , only one is really an alternative . If the demand for demythologization is unavoidable and so must be accepted by theology unconditionally , the position of the `` right '' is clearly untenable . Whereas Bultmann's `` center '' position is structurally inconsistent and is therefore indefensible on formal grounds alone , the general position of the `` right '' , as represented , say , by Karl Barth , involves the rejection or at least qualification of the demand for demythologization and so is invalidated on the material grounds we have just considered . It follows , then , provided the possibilities have been exhausted , that the only real alternative is the general viewpoint of the `` left '' , which has been represented on the Continent by Fritz Buri and , to some extent at least , is found in much that is significant in American and English theology . In order to make the implications of our position as clear as possible , we may develop this argument at greater length . We may show , first , that there cannot possibly be an alternative other than the three typically represented by Bultmann , Barth , and Buri . To do this , it is sufficient to point out that if the principle in terms of which alternatives are to be conceived is such as to exclude more than two , then the question of a `` third '' possibility is a meaningless question . Thus , if what is at issue is whether `` All S is P '' , it is indifferent whether `` Some S is not P '' or `` No S is P '' , since in either case the judgment in question is false . Hence , if what is in question is whether in a given theology myth is or is not completely rejected , it is unimportant whether only a little bit of myth or a considerable quantity is accepted ; ; for , in either event , the first possibility is excluded . Therefore , the only conceivable alternatives are those represented , on the one hand , by the two at least apparently self-consistent but mutually exclusive positions of Buri and Barth and , on the other hand , by the third but really pseudo position ( analogous to a round square ) of Bultmann . A second point requires more extended comment . It will be recalled from the discussion in Section 7 that the position of the `` right '' , as represented by Barth , rests on the following thesis : The only tenable alternative to Bultmann's position is a theology that ( 1 ) rejects or at least qualifies his unconditioned demand for demythologization and existential interpretation ; ; ( 2 ) accepts instead a special biblical hermeneutics or method of interpretation ; ; and ( 3 ) in so doing , frees itself to give appropriate emphasis to the event Jesus Christ by means of statements that , from Bultmann's point of view , are mythological .\n"
          ]
        }
      ]
    },
    {
      "cell_type": "code",
      "metadata": {
        "id": "9Fzpzbu0bEHe"
      },
      "source": [
        "#clean data\n",
        "corpus_cleaned = {}\n",
        "for fileid in ['cn02','cn01','cn03','cd01','cd02']:\n",
        "  corpus_cleaned[fileid] = clean_data(corpus[fileid])"
      ],
      "execution_count": null,
      "outputs": []
    },
    {
      "cell_type": "code",
      "metadata": {
        "colab": {
          "base_uri": "https://localhost:8080/"
        },
        "id": "pf723ruPbud5",
        "outputId": "1c01b1e4-acb9-4837-ab59-7501daa1c4e2"
      },
      "source": [
        "print(corpus_cleaned['cn02'])"
      ],
      "execution_count": null,
      "outputs": [
        {
          "output_type": "stream",
          "name": "stdout",
          "text": [
            "['gavin', 'paused', 'wearily', 'stay', 'late', 'said', 'dawn', 'make', 'go', 'gavin', 'sank', 'chair', 'began', 'rock', 'thinking', 'rittenhouse', 'left', 'rock', 'death', 'porch', 'splendide', 'thing', 'life', 'felt', 'guilt', 'beneath', 'black', 'shirt', 'frail', 'shoulders', 'shook', 'croaks', 'pain', 'broke', 'throat', 'stored', 'pain', 'shattering', 'free', 'slow', 'gasps', 'terrible', 'see', 'clayton', 'tried', 'call', 'back', 'face', 'man', 'known', 'man', 'could', 'rally', 'anger', 'bent', 'man', 'chair', 'powerless', 'gavin', 'lips', 'moved', 'clayton', 'stoop', 'catch', 'words', 'remember', 'big', 'charlie', 'whispered', 'stuck', 'years', 'half', 'breed', 'pache', 'never', 'said', 'much', 'never', 'meant', 'anythin', 'stuck', 'got', 'fight', 'tom', 'english', 'brother', 'son', 'fair', 'fight', 'boy', 'provoked', 'big', 'charlie', 'told', 'believed', 'killed', 'big', 'charlie', 'dumped', 'body', 'rose', 'garden', 'two', 'nights', 'ago', 'men', 'left', 'cleared', 'understand', 'clay', 'cleared', 'treated', 'fair', 'wiped', 'lips', 'sleeve', 'stared', 'clayton', 'childish', 'kind', 'wonder', 'mean', 'asked', 'almost', 'shyly', 'want', 'go', 'wherever', 'goin', 'yes', 'hate', 'clayton', 'choked', 'shook', 'head', 'murmuring', 'come', 'old', 'man', 'beckoned', 'one', 'finger', 'clayton', 'went', 'forward', 'gavin', 'slipped', 'arms', 'around', 'chest', 'hugged', 'fiercely', 'life', 'said', 'tried', 'tried', 'saw', 'driftin', 'away', 'tried', 'wanted', 'part', 'much', 'give', 'nothin', 'left', 'laurel', 'gone', 'men', 'gone', 'ed', 'dead', 'come', 'help', 'oh', 'god', 'heaven', 'refuse', 'would', 'mock', 'much', 'let', 'go', 'way', 'closed', 'eyes', 'ashamed', 'tears', 'go', 'clay', 'clayton', 'freed', 'embrace', 'stepped', 'back', 'eyes', 'followed', 'fearfully', 'horses', 'much', 'time', 'saddle', 'horses', 'bring', 'round', 'get', 'ready', 'burst', 'hot', 'confinement', 'room', 'cold', 'night', 'air', 'gavin', 'stallion', 'barn', 'tightened', 'cinches', 'saddle', 'blanket', 'working', 'touch', 'darkness', 'comforting', 'animal', 'easy', 'words', 'finished', 'led', 'mare', 'porch', 'stallion', 'smelled', 'mare', 'coming', 'heat', 'began', 'paw', 'turf', 'shaking', 'head', 'clayton', 'looped', 'reins', 'knot', 'veranda', 'post', 'patted', 'warm', 'flesh', 'neck', 'mare', 'backed', 'away', 'take', 'easy', 'boy', 'clayton', 'whispered', 'want', 'take', 'easy', 'time', 'come', 'gavin', 'stood', 'porch', 'thin', 'figure', 'taken', 'carbine', 'wall', 'trailed', 'hand', 'stock', 'bumping', 'wood', 'floor', 'clayton', 'called', 'came', 'slowly', 'steps', 'clay', 'said', 'goin', 'ranch', 'valley', 'someone', 'see', 'may', 'take', 'us', 'california', 'know', 'yet', 'crazy', 'think', 'california', 'goin', 'california', 'gavin', 'began', 'nod', 'new', 'land', 'man', 'could', 'make', 'mark', 'two', 'men', 'together', 'like', 'us', 'could', 'somethin', 'fine', 'maybe', 'find', 'place', 'one', 'ever', 'start', 'fresh', 'two', 'us', 'like', 'nothin', 'ever', 'happened', 'yes', 'like', 'father', 'son', 'made', 'gavin', 'whispered', 'made', 'could', 'stand', 'made', 'man', 'yes', 'gavin', 'approached', 'horse', 'laid', 'hand', 'stallion', 'quivering', 'neck', 'help', 'clay', 'help', 'feel', 'kind', 'stiff', 'clayton', 'lifted', 'gently', 'saddle', 'like', 'child', 'hate', 'leave', 'garden', 'gavin', 'said', 'trample', 'loved', 'garden', 'grow', 'california', 'loved', 'valley', 'whispered', 'huskily', 'lived', 'alone', 'three', 'years', 'man', 'came', 'lived', 'alone', 'river', 'nice', 'peaceful', 'quiet', 'one', 'want', 'leave', 'clayton', 'swung', 'saddle', 'whacked', 'stallion', 'rump', 'two', 'horses', 'broke', 'yard', 'circle', 'light', 'cast', 'lamp', 'still', 'burning', 'house', 'darkness', 'thirty', 'five', 'rode', 'measured', 'pace', 'valley', 'dawn', 'would', 'come', 'soon', 'night', 'coldest', 'moon', 'sunk', 'black', 'crest', 'mountains', 'land', 'seen', 'eyes', 'grown', 'accustomed', 'absence', 'light', 'looked', 'primeval', 'man', 'ever', 'trespassed', 'looked', 'gavin', 'first', 'seen', 'years', 'ago', 'nights', 'slept', 'alone', 'campfire', 'waked', 'suddenly', 'hoot', 'owl', 'rustle', 'blade', 'grass', 'moon', 'wind', 'savage', 'land', 'untenanted', 'brooding', 'strong', 'broken', 'men', 'gavin', 'sighed', 'bitterly', 'inert', 'landscape', 'caravan', 'desires', 'passed', 'mind', 'saw', 'ambushed', 'strewn', 'postures', 'broken', 'dying', 'vain', 'mind', 'groped', 'reassemble', 'bones', 'relationships', 'sought', 'desperately', 'would', 'come', 'life', 'silence', 'oppressed', 'made', 'bend', 'low', 'horse', 'neck', 'hide', 'wind', 'begun', 'blow', 'far', 'away', 'twisting', 'slowly', 'darkness', 'slow', 'search', 'passed', 'ranches', 'framed', 'dark', 'gray', 'black', 'hills', 'last', 'darkness', 'began', 'dissolve', 'bold', 'line', 'violet', 'broke', 'loose', 'high', 'ridge', 'mountains', 'followed', 'feathers', 'red', 'swept', 'last', 'stars', 'sky', 'wan', 'light', 'spread', 'ground', 'valley', 'revealed', 'first', 'glimmer', 'contours', 'trees', 'fences', 'palely', 'shadowed', 'gullies', 'seen', 'soon', 'left', 'ranch', 'picked', 'darkness', 'weary', 'though', 'watchful', 'eyes', 'two', 'men', 'posted', 'hundred', 'yards', 'away', 'windless', 'shelter', 'trees', 'two', 'men', 'whipped', 'horses', 'town', 'flung', 'steps', 'saloon', 'crying', 'intelligence', 'men', 'pettigrew', 'tired', 'night', 'drinking', 'faces', 'red', 'baggy', 'liquor', 'flushed', 'courage', 'greeted', 'news', 'angrily', 'though', 'cheated', 'purpose', 'lester', 'heard', 'muttering', 'saw', 'eyes', 'reveal', 'desire', 'worked', 'tongue', 'round', 'round', 'hollow', 'cheek', 'voice', 'came', 'throat', 'dry', 'cracked', 'leavin', 'wanted', 'clayton', 'takin', 'valley', 'keep', 'purvis', 'snarled', 'brother', 'gavin', 'son', 'see', 'lied', 'us', 'said', 'leavin', 'alone', 'joe', 'purvis', 'thinking', 'back', 'many', 'years', 'first', 'thought', 'time', 'ridden', 'gavin', 'told', 'cattle', 'rustled', 'far', 'end', 'valley', 'remembered', 'gavin', 'smirk', 'cringing', 'feeling', 'impotence', 'thought', 'time', 'clayton', 'horse', 'fallen', 'lame', 'gap', 'wife', 'said', 'nellie', 'love', 'clayton', 'roy', 'even', 'dance', 'gavin', 'party', 'treats', 'like', 'dirt', 'stand', 'like', 'fool', 'let', 'remembered', 'clayton', 'mocking', 'smile', 'saloon', 'asked', 'would', 'brought', 'cattle', 'water', 'night', 'clayton', 'tricked', 'poker', 'game', 'gavin', 'son', 'joe', 'purvis', 'said', 'turned', 'lester', 'brought', 'back', 'valley', 'thinkin', 'would', 'help', 'find', 'boy', 'meant', 'help', 'gavin', 'time', 'made', 'fool', 'lester', 'swung', 'round', 'men', 'catch', 'easy', 'plenty', 'fresh', 'horses', 'halfway', 'place', 'let', 'go', 'stay', 'away', 'find', 'men', 'ride', 'back', 'one', 'way', 'get', 'gap', 'ride', 'hard', 'take', 'lester', 'hand', 'fluttered', 'cabot', 'shoulder', 'boy', 'jerked', 'away', 'killed', 'tom', 'understand', 'cabot', 'turned', 'back', 'men', 'drunk', 'thing', 'would', 'wild', 'break', 'cloying', 'warmth', 'saloon', 'cold', 'ebbing', 'night', 'fled', 'door', 'steps', 'running', 'men', 'grunted', 'followed', 'pushing', 'lester', 'one', 'side', 'backed', 'wall', 'sleeve', 'jacket', 'raised', 'eyes', 'shut', 'light', 'purvis', 'silas', 'pettigrew', 'last', 'leave', 'mounted', 'rode', 'slowly', 'behind', 'others', 'safe', 'distance', 'thirty', 'six', 'cold', 'dawn', 'mist', 'swirled', 'low', 'ground', 'rose', 'gust', 'sudden', 'wind', 'leave', 'valley', 'clear', 'clouds', 'parted', 'hard', 'gashes', 'sunlight', 'swooped', 'stain', 'earth', 'streaks', 'white', 'gold', 'light', 'shadows', 'running', 'horses', 'flowed', 'like', 'dark', 'streams', 'dazzling', 'snow', 'turned', 'saddle', 'could', 'see', 'men', 'behind', 'strung', 'prairie', 'flat', 'black', 'line', 'wind', 'running', 'cold', 'wild', 'horses', 'lathered', 'manes', 'streamed', 'like', 'stiff', 'black', 'pennants', 'wind', 'mare', 'began', 'tire', 'clayton', 'felt', 'spray', 'snow', 'hoofs', 'gavin', 'stallion', 'looked', 'shoulder', 'thin', 'dotting', 'pursuers', 'neither', 'gained', 'fell', 'back', 'rode', 'low', 'mare', 'neck', 'ahead', 'gavin', 'turned', 'slightly', 'trail', 'pointed', 'gap', 'mile', 'away', 'gavin', 'face', 'bloodless', 'excitement', 'look', 'back', 'could', 'feel', 'hear', 'staccato', 'beat', 'hoofs', 'fanned', 'across', 'prairie', 'north', 'knew', 'riding', 'men', 'known', 'life', 'men', 'worked', 'sworn', 'loyalty', 'riding', 'kill', 'fleeing', 'running', 'fleeing', 'death', 'life', 'time', 'land', 'sped', 'land', 'created', 'lived', 'valley', 'every', 'leaping', 'stride', 'horse', 'beneath', 'crossed', 'one', 'patch', 'earth', 'would', 'never', 'see', 'gap', 'looming', 'place', 'confronted', 'jack', 'english', 'day', 'many', 'years', 'ago', 'exit', 'meaning', 'california', 'far', 'thought', 'would', 'never', 'reach', 'california', 'old', 'passed', 'corridor', 'pines', 'lined', 'trail', 'could', 'see', 'ahead', 'passing', 'life', '']\n"
          ]
        }
      ]
    },
    {
      "cell_type": "code",
      "metadata": {
        "id": "5iwKKRxxSRBN"
      },
      "source": [
        "data = pd.DataFrame(corpus,columns=['cn02','cn01','cn03','cd01','cd02'])  #combined_corpus "
      ],
      "execution_count": null,
      "outputs": []
    },
    {
      "cell_type": "code",
      "metadata": {
        "colab": {
          "base_uri": "https://localhost:8080/",
          "height": 98
        },
        "id": "fd9A2O7IeANL",
        "outputId": "53ec97e0-9a28-4117-bebc-809c8cf12f27"
      },
      "source": [
        "data.head()"
      ],
      "execution_count": null,
      "outputs": [
        {
          "output_type": "execute_result",
          "data": {
            "text/html": [
              "<div>\n",
              "<style scoped>\n",
              "    .dataframe tbody tr th:only-of-type {\n",
              "        vertical-align: middle;\n",
              "    }\n",
              "\n",
              "    .dataframe tbody tr th {\n",
              "        vertical-align: top;\n",
              "    }\n",
              "\n",
              "    .dataframe thead th {\n",
              "        text-align: right;\n",
              "    }\n",
              "</style>\n",
              "<table border=\"1\" class=\"dataframe\">\n",
              "  <thead>\n",
              "    <tr style=\"text-align: right;\">\n",
              "      <th></th>\n",
              "      <th>cn02</th>\n",
              "      <th>cn01</th>\n",
              "      <th>cn03</th>\n",
              "      <th>cd01</th>\n",
              "      <th>cd02</th>\n",
              "    </tr>\n",
              "  </thead>\n",
              "  <tbody>\n",
              "    <tr>\n",
              "      <th>0</th>\n",
              "      <td>Gavin paused wearily . `` You can't stay here ...</td>\n",
              "      <td>Dan Morgan told himself he would forget Ann Tu...</td>\n",
              "      <td>The sentry was not dead . He was , in fact , s...</td>\n",
              "      <td>As a result , although we still make use of th...</td>\n",
              "      <td>If the content of faith is to be presented tod...</td>\n",
              "    </tr>\n",
              "  </tbody>\n",
              "</table>\n",
              "</div>"
            ],
            "text/plain": [
              "                                                cn02  ...                                               cd02\n",
              "0  Gavin paused wearily . `` You can't stay here ...  ...  If the content of faith is to be presented tod...\n",
              "\n",
              "[1 rows x 5 columns]"
            ]
          },
          "metadata": {},
          "execution_count": 18
        }
      ]
    },
    {
      "cell_type": "code",
      "metadata": {
        "id": "BgmeGx4KeH9k"
      },
      "source": [
        "data_t =data.transpose()"
      ],
      "execution_count": null,
      "outputs": []
    },
    {
      "cell_type": "code",
      "metadata": {
        "colab": {
          "base_uri": "https://localhost:8080/",
          "height": 206
        },
        "id": "CotwRtlMeiez",
        "outputId": "84290e5a-564e-4e1f-d93d-7aad6c5c400e"
      },
      "source": [
        "data_t.columns = ['text']\n",
        "#data_t = data_t.sort_index()\n",
        "data_t"
      ],
      "execution_count": null,
      "outputs": [
        {
          "output_type": "execute_result",
          "data": {
            "text/html": [
              "<div>\n",
              "<style scoped>\n",
              "    .dataframe tbody tr th:only-of-type {\n",
              "        vertical-align: middle;\n",
              "    }\n",
              "\n",
              "    .dataframe tbody tr th {\n",
              "        vertical-align: top;\n",
              "    }\n",
              "\n",
              "    .dataframe thead th {\n",
              "        text-align: right;\n",
              "    }\n",
              "</style>\n",
              "<table border=\"1\" class=\"dataframe\">\n",
              "  <thead>\n",
              "    <tr style=\"text-align: right;\">\n",
              "      <th></th>\n",
              "      <th>text</th>\n",
              "    </tr>\n",
              "  </thead>\n",
              "  <tbody>\n",
              "    <tr>\n",
              "      <th>cn02</th>\n",
              "      <td>Gavin paused wearily . `` You can't stay here ...</td>\n",
              "    </tr>\n",
              "    <tr>\n",
              "      <th>cn01</th>\n",
              "      <td>Dan Morgan told himself he would forget Ann Tu...</td>\n",
              "    </tr>\n",
              "    <tr>\n",
              "      <th>cn03</th>\n",
              "      <td>The sentry was not dead . He was , in fact , s...</td>\n",
              "    </tr>\n",
              "    <tr>\n",
              "      <th>cd01</th>\n",
              "      <td>As a result , although we still make use of th...</td>\n",
              "    </tr>\n",
              "    <tr>\n",
              "      <th>cd02</th>\n",
              "      <td>If the content of faith is to be presented tod...</td>\n",
              "    </tr>\n",
              "  </tbody>\n",
              "</table>\n",
              "</div>"
            ],
            "text/plain": [
              "                                                   text\n",
              "cn02  Gavin paused wearily . `` You can't stay here ...\n",
              "cn01  Dan Morgan told himself he would forget Ann Tu...\n",
              "cn03  The sentry was not dead . He was , in fact , s...\n",
              "cd01  As a result , although we still make use of th...\n",
              "cd02  If the content of faith is to be presented tod..."
            ]
          },
          "metadata": {},
          "execution_count": 20
        }
      ]
    },
    {
      "cell_type": "code",
      "metadata": {
        "colab": {
          "base_uri": "https://localhost:8080/",
          "height": 291
        },
        "id": "SOgsGhMwNclU",
        "outputId": "98fffcbe-d3a4-4ee2-ab7f-30ca4990a726"
      },
      "source": [
        "# calcul des...\n",
        "cv = CountVectorizer(analyzer=clean_data)\n",
        "data_cv = cv.fit_transform(data_t.text)\n",
        "data_bro = pd.DataFrame(data_cv.toarray(), columns=cv.get_feature_names())\n",
        "data_bro.index = data_t.index\n",
        "data_bro\n"
      ],
      "execution_count": null,
      "outputs": [
        {
          "output_type": "stream",
          "name": "stderr",
          "text": [
            "/usr/local/lib/python3.7/dist-packages/sklearn/utils/deprecation.py:87: FutureWarning: Function get_feature_names is deprecated; get_feature_names is deprecated in 1.0 and will be removed in 1.2. Please use get_feature_names_out instead.\n",
            "  warnings.warn(msg, category=FutureWarning)\n"
          ]
        },
        {
          "output_type": "execute_result",
          "data": {
            "text/html": [
              "<div>\n",
              "<style scoped>\n",
              "    .dataframe tbody tr th:only-of-type {\n",
              "        vertical-align: middle;\n",
              "    }\n",
              "\n",
              "    .dataframe tbody tr th {\n",
              "        vertical-align: top;\n",
              "    }\n",
              "\n",
              "    .dataframe thead th {\n",
              "        text-align: right;\n",
              "    }\n",
              "</style>\n",
              "<table border=\"1\" class=\"dataframe\">\n",
              "  <thead>\n",
              "    <tr style=\"text-align: right;\">\n",
              "      <th></th>\n",
              "      <th></th>\n",
              "      <th>abandon</th>\n",
              "      <th>abandoned</th>\n",
              "      <th>abigail</th>\n",
              "      <th>able</th>\n",
              "      <th>abounding</th>\n",
              "      <th>absence</th>\n",
              "      <th>absolute</th>\n",
              "      <th>absolutely</th>\n",
              "      <th>absurd</th>\n",
              "      <th>accepted</th>\n",
              "      <th>accepting</th>\n",
              "      <th>accepts</th>\n",
              "      <th>accomplishing</th>\n",
              "      <th>account</th>\n",
              "      <th>accounting</th>\n",
              "      <th>accustomed</th>\n",
              "      <th>achieved</th>\n",
              "      <th>achievement</th>\n",
              "      <th>acknowledge</th>\n",
              "      <th>acre</th>\n",
              "      <th>across</th>\n",
              "      <th>act</th>\n",
              "      <th>active</th>\n",
              "      <th>activity</th>\n",
              "      <th>actual</th>\n",
              "      <th>actually</th>\n",
              "      <th>added</th>\n",
              "      <th>adequate</th>\n",
              "      <th>adhered</th>\n",
              "      <th>admittedly</th>\n",
              "      <th>affair</th>\n",
              "      <th>affection</th>\n",
              "      <th>affirming</th>\n",
              "      <th>afford</th>\n",
              "      <th>afternoon</th>\n",
              "      <th>age</th>\n",
              "      <th>ago</th>\n",
              "      <th>agreed</th>\n",
              "      <th>ahead</th>\n",
              "      <th>...</th>\n",
              "      <th>widespread</th>\n",
              "      <th>wife</th>\n",
              "      <th>wild</th>\n",
              "      <th>williams</th>\n",
              "      <th>willingness</th>\n",
              "      <th>winchester</th>\n",
              "      <th>wind</th>\n",
              "      <th>windless</th>\n",
              "      <th>window</th>\n",
              "      <th>wing</th>\n",
              "      <th>wiped</th>\n",
              "      <th>wisdom</th>\n",
              "      <th>wise</th>\n",
              "      <th>witch</th>\n",
              "      <th>within</th>\n",
              "      <th>without</th>\n",
              "      <th>witness</th>\n",
              "      <th>woebegone</th>\n",
              "      <th>woke</th>\n",
              "      <th>woman</th>\n",
              "      <th>wonder</th>\n",
              "      <th>wondering</th>\n",
              "      <th>wood</th>\n",
              "      <th>word</th>\n",
              "      <th>work</th>\n",
              "      <th>worked</th>\n",
              "      <th>working</th>\n",
              "      <th>world</th>\n",
              "      <th>worn</th>\n",
              "      <th>worthlessness</th>\n",
              "      <th>would</th>\n",
              "      <th>wound</th>\n",
              "      <th>writing</th>\n",
              "      <th>wyoming</th>\n",
              "      <th>yard</th>\n",
              "      <th>year</th>\n",
              "      <th>yelled</th>\n",
              "      <th>yes</th>\n",
              "      <th>yet</th>\n",
              "      <th>young</th>\n",
              "    </tr>\n",
              "  </thead>\n",
              "  <tbody>\n",
              "    <tr>\n",
              "      <th>cn02</th>\n",
              "      <td>1</td>\n",
              "      <td>0</td>\n",
              "      <td>0</td>\n",
              "      <td>0</td>\n",
              "      <td>0</td>\n",
              "      <td>0</td>\n",
              "      <td>1</td>\n",
              "      <td>0</td>\n",
              "      <td>0</td>\n",
              "      <td>0</td>\n",
              "      <td>0</td>\n",
              "      <td>0</td>\n",
              "      <td>0</td>\n",
              "      <td>0</td>\n",
              "      <td>0</td>\n",
              "      <td>0</td>\n",
              "      <td>1</td>\n",
              "      <td>0</td>\n",
              "      <td>0</td>\n",
              "      <td>0</td>\n",
              "      <td>0</td>\n",
              "      <td>1</td>\n",
              "      <td>0</td>\n",
              "      <td>0</td>\n",
              "      <td>0</td>\n",
              "      <td>0</td>\n",
              "      <td>0</td>\n",
              "      <td>0</td>\n",
              "      <td>0</td>\n",
              "      <td>0</td>\n",
              "      <td>0</td>\n",
              "      <td>0</td>\n",
              "      <td>0</td>\n",
              "      <td>0</td>\n",
              "      <td>0</td>\n",
              "      <td>0</td>\n",
              "      <td>0</td>\n",
              "      <td>3</td>\n",
              "      <td>0</td>\n",
              "      <td>2</td>\n",
              "      <td>...</td>\n",
              "      <td>0</td>\n",
              "      <td>1</td>\n",
              "      <td>2</td>\n",
              "      <td>0</td>\n",
              "      <td>0</td>\n",
              "      <td>0</td>\n",
              "      <td>5</td>\n",
              "      <td>1</td>\n",
              "      <td>0</td>\n",
              "      <td>0</td>\n",
              "      <td>1</td>\n",
              "      <td>0</td>\n",
              "      <td>0</td>\n",
              "      <td>0</td>\n",
              "      <td>0</td>\n",
              "      <td>0</td>\n",
              "      <td>0</td>\n",
              "      <td>0</td>\n",
              "      <td>0</td>\n",
              "      <td>0</td>\n",
              "      <td>1</td>\n",
              "      <td>0</td>\n",
              "      <td>1</td>\n",
              "      <td>2</td>\n",
              "      <td>0</td>\n",
              "      <td>2</td>\n",
              "      <td>1</td>\n",
              "      <td>0</td>\n",
              "      <td>0</td>\n",
              "      <td>0</td>\n",
              "      <td>8</td>\n",
              "      <td>0</td>\n",
              "      <td>0</td>\n",
              "      <td>0</td>\n",
              "      <td>2</td>\n",
              "      <td>5</td>\n",
              "      <td>0</td>\n",
              "      <td>3</td>\n",
              "      <td>1</td>\n",
              "      <td>0</td>\n",
              "    </tr>\n",
              "    <tr>\n",
              "      <th>cn01</th>\n",
              "      <td>1</td>\n",
              "      <td>0</td>\n",
              "      <td>0</td>\n",
              "      <td>0</td>\n",
              "      <td>0</td>\n",
              "      <td>0</td>\n",
              "      <td>0</td>\n",
              "      <td>0</td>\n",
              "      <td>0</td>\n",
              "      <td>0</td>\n",
              "      <td>0</td>\n",
              "      <td>0</td>\n",
              "      <td>0</td>\n",
              "      <td>0</td>\n",
              "      <td>0</td>\n",
              "      <td>0</td>\n",
              "      <td>0</td>\n",
              "      <td>0</td>\n",
              "      <td>0</td>\n",
              "      <td>0</td>\n",
              "      <td>1</td>\n",
              "      <td>0</td>\n",
              "      <td>0</td>\n",
              "      <td>0</td>\n",
              "      <td>0</td>\n",
              "      <td>0</td>\n",
              "      <td>0</td>\n",
              "      <td>0</td>\n",
              "      <td>0</td>\n",
              "      <td>0</td>\n",
              "      <td>0</td>\n",
              "      <td>0</td>\n",
              "      <td>0</td>\n",
              "      <td>0</td>\n",
              "      <td>2</td>\n",
              "      <td>1</td>\n",
              "      <td>0</td>\n",
              "      <td>0</td>\n",
              "      <td>0</td>\n",
              "      <td>1</td>\n",
              "      <td>...</td>\n",
              "      <td>0</td>\n",
              "      <td>4</td>\n",
              "      <td>0</td>\n",
              "      <td>0</td>\n",
              "      <td>0</td>\n",
              "      <td>5</td>\n",
              "      <td>0</td>\n",
              "      <td>0</td>\n",
              "      <td>0</td>\n",
              "      <td>0</td>\n",
              "      <td>0</td>\n",
              "      <td>0</td>\n",
              "      <td>0</td>\n",
              "      <td>0</td>\n",
              "      <td>0</td>\n",
              "      <td>0</td>\n",
              "      <td>0</td>\n",
              "      <td>1</td>\n",
              "      <td>2</td>\n",
              "      <td>3</td>\n",
              "      <td>0</td>\n",
              "      <td>1</td>\n",
              "      <td>1</td>\n",
              "      <td>0</td>\n",
              "      <td>12</td>\n",
              "      <td>0</td>\n",
              "      <td>0</td>\n",
              "      <td>0</td>\n",
              "      <td>1</td>\n",
              "      <td>0</td>\n",
              "      <td>5</td>\n",
              "      <td>0</td>\n",
              "      <td>0</td>\n",
              "      <td>1</td>\n",
              "      <td>0</td>\n",
              "      <td>2</td>\n",
              "      <td>0</td>\n",
              "      <td>0</td>\n",
              "      <td>0</td>\n",
              "      <td>1</td>\n",
              "    </tr>\n",
              "    <tr>\n",
              "      <th>cn03</th>\n",
              "      <td>1</td>\n",
              "      <td>0</td>\n",
              "      <td>0</td>\n",
              "      <td>0</td>\n",
              "      <td>2</td>\n",
              "      <td>0</td>\n",
              "      <td>0</td>\n",
              "      <td>0</td>\n",
              "      <td>0</td>\n",
              "      <td>0</td>\n",
              "      <td>0</td>\n",
              "      <td>0</td>\n",
              "      <td>0</td>\n",
              "      <td>0</td>\n",
              "      <td>0</td>\n",
              "      <td>0</td>\n",
              "      <td>0</td>\n",
              "      <td>0</td>\n",
              "      <td>0</td>\n",
              "      <td>0</td>\n",
              "      <td>0</td>\n",
              "      <td>3</td>\n",
              "      <td>0</td>\n",
              "      <td>0</td>\n",
              "      <td>1</td>\n",
              "      <td>0</td>\n",
              "      <td>0</td>\n",
              "      <td>1</td>\n",
              "      <td>0</td>\n",
              "      <td>0</td>\n",
              "      <td>0</td>\n",
              "      <td>0</td>\n",
              "      <td>1</td>\n",
              "      <td>0</td>\n",
              "      <td>0</td>\n",
              "      <td>0</td>\n",
              "      <td>0</td>\n",
              "      <td>0</td>\n",
              "      <td>0</td>\n",
              "      <td>0</td>\n",
              "      <td>...</td>\n",
              "      <td>0</td>\n",
              "      <td>0</td>\n",
              "      <td>0</td>\n",
              "      <td>0</td>\n",
              "      <td>0</td>\n",
              "      <td>0</td>\n",
              "      <td>0</td>\n",
              "      <td>0</td>\n",
              "      <td>1</td>\n",
              "      <td>2</td>\n",
              "      <td>0</td>\n",
              "      <td>0</td>\n",
              "      <td>0</td>\n",
              "      <td>0</td>\n",
              "      <td>1</td>\n",
              "      <td>0</td>\n",
              "      <td>0</td>\n",
              "      <td>0</td>\n",
              "      <td>0</td>\n",
              "      <td>0</td>\n",
              "      <td>0</td>\n",
              "      <td>0</td>\n",
              "      <td>0</td>\n",
              "      <td>0</td>\n",
              "      <td>1</td>\n",
              "      <td>0</td>\n",
              "      <td>0</td>\n",
              "      <td>0</td>\n",
              "      <td>0</td>\n",
              "      <td>0</td>\n",
              "      <td>3</td>\n",
              "      <td>1</td>\n",
              "      <td>0</td>\n",
              "      <td>0</td>\n",
              "      <td>2</td>\n",
              "      <td>0</td>\n",
              "      <td>2</td>\n",
              "      <td>0</td>\n",
              "      <td>0</td>\n",
              "      <td>0</td>\n",
              "    </tr>\n",
              "    <tr>\n",
              "      <th>cd01</th>\n",
              "      <td>1</td>\n",
              "      <td>0</td>\n",
              "      <td>0</td>\n",
              "      <td>2</td>\n",
              "      <td>0</td>\n",
              "      <td>1</td>\n",
              "      <td>0</td>\n",
              "      <td>1</td>\n",
              "      <td>0</td>\n",
              "      <td>0</td>\n",
              "      <td>0</td>\n",
              "      <td>0</td>\n",
              "      <td>0</td>\n",
              "      <td>0</td>\n",
              "      <td>1</td>\n",
              "      <td>1</td>\n",
              "      <td>0</td>\n",
              "      <td>0</td>\n",
              "      <td>0</td>\n",
              "      <td>1</td>\n",
              "      <td>0</td>\n",
              "      <td>0</td>\n",
              "      <td>1</td>\n",
              "      <td>1</td>\n",
              "      <td>0</td>\n",
              "      <td>1</td>\n",
              "      <td>2</td>\n",
              "      <td>1</td>\n",
              "      <td>0</td>\n",
              "      <td>0</td>\n",
              "      <td>0</td>\n",
              "      <td>1</td>\n",
              "      <td>0</td>\n",
              "      <td>0</td>\n",
              "      <td>0</td>\n",
              "      <td>0</td>\n",
              "      <td>2</td>\n",
              "      <td>1</td>\n",
              "      <td>1</td>\n",
              "      <td>0</td>\n",
              "      <td>...</td>\n",
              "      <td>2</td>\n",
              "      <td>0</td>\n",
              "      <td>1</td>\n",
              "      <td>1</td>\n",
              "      <td>0</td>\n",
              "      <td>0</td>\n",
              "      <td>0</td>\n",
              "      <td>0</td>\n",
              "      <td>0</td>\n",
              "      <td>0</td>\n",
              "      <td>1</td>\n",
              "      <td>0</td>\n",
              "      <td>0</td>\n",
              "      <td>4</td>\n",
              "      <td>1</td>\n",
              "      <td>0</td>\n",
              "      <td>0</td>\n",
              "      <td>0</td>\n",
              "      <td>0</td>\n",
              "      <td>0</td>\n",
              "      <td>0</td>\n",
              "      <td>0</td>\n",
              "      <td>3</td>\n",
              "      <td>4</td>\n",
              "      <td>1</td>\n",
              "      <td>0</td>\n",
              "      <td>0</td>\n",
              "      <td>13</td>\n",
              "      <td>0</td>\n",
              "      <td>1</td>\n",
              "      <td>2</td>\n",
              "      <td>0</td>\n",
              "      <td>1</td>\n",
              "      <td>0</td>\n",
              "      <td>0</td>\n",
              "      <td>0</td>\n",
              "      <td>0</td>\n",
              "      <td>0</td>\n",
              "      <td>5</td>\n",
              "      <td>0</td>\n",
              "    </tr>\n",
              "    <tr>\n",
              "      <th>cd02</th>\n",
              "      <td>1</td>\n",
              "      <td>1</td>\n",
              "      <td>2</td>\n",
              "      <td>0</td>\n",
              "      <td>0</td>\n",
              "      <td>0</td>\n",
              "      <td>1</td>\n",
              "      <td>0</td>\n",
              "      <td>1</td>\n",
              "      <td>1</td>\n",
              "      <td>4</td>\n",
              "      <td>1</td>\n",
              "      <td>1</td>\n",
              "      <td>1</td>\n",
              "      <td>0</td>\n",
              "      <td>0</td>\n",
              "      <td>0</td>\n",
              "      <td>1</td>\n",
              "      <td>1</td>\n",
              "      <td>0</td>\n",
              "      <td>0</td>\n",
              "      <td>0</td>\n",
              "      <td>0</td>\n",
              "      <td>0</td>\n",
              "      <td>0</td>\n",
              "      <td>0</td>\n",
              "      <td>0</td>\n",
              "      <td>0</td>\n",
              "      <td>1</td>\n",
              "      <td>1</td>\n",
              "      <td>1</td>\n",
              "      <td>0</td>\n",
              "      <td>0</td>\n",
              "      <td>1</td>\n",
              "      <td>2</td>\n",
              "      <td>0</td>\n",
              "      <td>1</td>\n",
              "      <td>0</td>\n",
              "      <td>0</td>\n",
              "      <td>0</td>\n",
              "      <td>...</td>\n",
              "      <td>1</td>\n",
              "      <td>0</td>\n",
              "      <td>0</td>\n",
              "      <td>0</td>\n",
              "      <td>1</td>\n",
              "      <td>0</td>\n",
              "      <td>0</td>\n",
              "      <td>0</td>\n",
              "      <td>0</td>\n",
              "      <td>0</td>\n",
              "      <td>0</td>\n",
              "      <td>2</td>\n",
              "      <td>1</td>\n",
              "      <td>0</td>\n",
              "      <td>2</td>\n",
              "      <td>3</td>\n",
              "      <td>1</td>\n",
              "      <td>0</td>\n",
              "      <td>0</td>\n",
              "      <td>0</td>\n",
              "      <td>0</td>\n",
              "      <td>0</td>\n",
              "      <td>0</td>\n",
              "      <td>0</td>\n",
              "      <td>3</td>\n",
              "      <td>0</td>\n",
              "      <td>0</td>\n",
              "      <td>8</td>\n",
              "      <td>0</td>\n",
              "      <td>0</td>\n",
              "      <td>1</td>\n",
              "      <td>0</td>\n",
              "      <td>0</td>\n",
              "      <td>0</td>\n",
              "      <td>0</td>\n",
              "      <td>1</td>\n",
              "      <td>0</td>\n",
              "      <td>1</td>\n",
              "      <td>1</td>\n",
              "      <td>0</td>\n",
              "    </tr>\n",
              "  </tbody>\n",
              "</table>\n",
              "<p>5 rows × 2074 columns</p>\n",
              "</div>"
            ],
            "text/plain": [
              "         abandon  abandoned  abigail  able  ...  year  yelled  yes  yet  young\n",
              "cn02  1        0          0        0     0  ...     5       0    3    1      0\n",
              "cn01  1        0          0        0     0  ...     2       0    0    0      1\n",
              "cn03  1        0          0        0     2  ...     0       2    0    0      0\n",
              "cd01  1        0          0        2     0  ...     0       0    0    5      0\n",
              "cd02  1        1          2        0     0  ...     1       0    1    1      0\n",
              "\n",
              "[5 rows x 2074 columns]"
            ]
          },
          "metadata": {},
          "execution_count": 21
        }
      ]
    },
    {
      "cell_type": "code",
      "metadata": {
        "colab": {
          "base_uri": "https://localhost:8080/"
        },
        "id": "7lf2WFFpHd8h",
        "outputId": "c2b6d34d-d303-4cfc-9b6d-a4ca6a793933"
      },
      "source": [
        "print(data_cv)"
      ],
      "execution_count": null,
      "outputs": [
        {
          "output_type": "stream",
          "name": "stdout",
          "text": [
            "  (0, 776)\t21\n",
            "  (0, 1291)\t1\n",
            "  (0, 2004)\t1\n",
            "  (0, 1737)\t2\n",
            "  (0, 1023)\t1\n",
            "  (0, 1551)\t8\n",
            "  (0, 447)\t3\n",
            "  (0, 1098)\t2\n",
            "  (0, 795)\t5\n",
            "  (0, 1558)\t1\n",
            "  (0, 270)\t2\n",
            "  (0, 148)\t5\n",
            "  (0, 1524)\t2\n",
            "  (0, 1850)\t2\n",
            "  (0, 1522)\t1\n",
            "  (0, 1042)\t4\n",
            "  (0, 457)\t2\n",
            "  (0, 1336)\t3\n",
            "  (0, 1705)\t1\n",
            "  (0, 1847)\t2\n",
            "  (0, 1053)\t6\n",
            "  (0, 683)\t2\n",
            "  (0, 833)\t1\n",
            "  (0, 160)\t2\n",
            "  (0, 177)\t5\n",
            "  :\t:\n",
            "  (4, 343)\t1\n",
            "  (4, 365)\t1\n",
            "  (4, 1184)\t1\n",
            "  (4, 627)\t1\n",
            "  (4, 1400)\t1\n",
            "  (4, 64)\t1\n",
            "  (4, 1713)\t1\n",
            "  (4, 1584)\t1\n",
            "  (4, 1487)\t1\n",
            "  (4, 651)\t1\n",
            "  (4, 331)\t1\n",
            "  (4, 1452)\t1\n",
            "  (4, 1585)\t1\n",
            "  (4, 721)\t1\n",
            "  (4, 1844)\t1\n",
            "  (4, 1830)\t1\n",
            "  (4, 1465)\t1\n",
            "  (4, 1414)\t1\n",
            "  (4, 1928)\t1\n",
            "  (4, 963)\t2\n",
            "  (4, 12)\t1\n",
            "  (4, 1697)\t1\n",
            "  (4, 870)\t1\n",
            "  (4, 1134)\t1\n",
            "  (4, 581)\t1\n"
          ]
        }
      ]
    },
    {
      "cell_type": "code",
      "metadata": {
        "id": "yy21EXMLgypX"
      },
      "source": [
        "corpus_brown = data_bro.transpose()\n",
        "sparse_counts = scipy.sparse.csr_matrix(corpus_brown)\n",
        "corpus_brown = matutils.Sparse2Corpus(sparse_counts)"
      ],
      "execution_count": null,
      "outputs": []
    },
    {
      "cell_type": "code",
      "metadata": {
        "id": "AnEMtC_dkJL8"
      },
      "source": [
        "id2word = dict((v, k) for k, v in cv.vocabulary_.items())"
      ],
      "execution_count": null,
      "outputs": []
    },
    {
      "cell_type": "code",
      "metadata": {
        "colab": {
          "base_uri": "https://localhost:8080/"
        },
        "id": "SjGY1VmGn3zb",
        "outputId": "495b4ab0-dcc0-4561-a056-3bab81e7809a"
      },
      "source": [
        "print(id2word)"
      ],
      "execution_count": null,
      "outputs": [
        {
          "output_type": "stream",
          "name": "stdout",
          "text": [
            "{776: 'gavin', 1291: 'paused', 2004: 'wearily', 1737: 'stay', 1023: 'late', 1551: 'said', 447: 'dawn', 1098: 'make', 795: 'go', 1558: 'sank', 270: 'chair', 148: 'began', 1524: 'rock', 1850: 'thinking', 1522: 'rittenhouse', 1042: 'left', 457: 'death', 1336: 'porch', 1705: 'splendide', 1847: 'thing', 1053: 'life', 683: 'felt', 833: 'guilt', 160: 'beneath', 177: 'black', 1618: 'shirt', 746: 'frail', 1622: 'shoulder', 1620: 'shook', 422: 'croak', 1267: 'pain', 215: 'broke', 1858: 'throat', 1749: 'stored', 1613: 'shattering', 752: 'free', 1664: 'slow', 772: 'gasp', 1834: 'terrible', 1588: 'see', 304: 'clayton', 1900: 'tried', 241: 'call', 122: 'back', 657: 'face', 1100: 'man', 1011: 'known', 398: 'could', 1427: 'rally', 69: 'anger', 162: 'bent', 1352: 'powerless', 1063: 'lip', 1173: 'moved', 1747: 'stoop', 260: 'catch', 2057: 'word', 1477: 'remember', 170: 'big', 279: 'charlie', 2023: 'whispered', 1775: 'stuck', 2069: 'year', 840: 'half', 212: 'breed', 1263: 'pache', 1210: 'never', 1177: 'much', 1126: 'meant', 79: 'anythin', 804: 'got', 687: 'fight', 1872: 'tom', 591: 'english', 218: 'brother', 1686: 'son', 661: 'fair', 205: 'boy', 1399: 'provoked', 1871: 'told', 155: 'believed', 999: 'killed', 550: 'dumped', 194: 'body', 1531: 'rose', 770: 'garden', 1916: 'two', 1216: 'night', 37: 'ago', 1129: 'men', 308: 'cleared', 1930: 'understand', 303: 'clay', 1894: 'treated', 2044: 'wiped', 1658: 'sleeve', 1727: 'stared', 287: 'childish', 1001: 'kind', 2054: 'wonder', 1123: 'mean', 100: 'asked', 50: 'almost', 1632: 'shyly', 1992: 'want', 2018: 'wherever', 798: 'goin', 2071: 'yes', 852: 'hate', 289: 'choked', 854: 'head', 1181: 'murmuring', 327: 'come', 1242: 'old', 143: 'beckoned', 1244: 'one', 694: 'finger', 2010: 'went', 744: 'forward', 1662: 'slipped', 94: 'arm', 96: 'around', 283: 'chest', 899: 'hugged', 686: 'fiercely', 1565: 'saw', 538: 'driftin', 117: 'away', 1993: 'wanted', 1278: 'part', 787: 'give', 1225: 'nothin', 1028: 'laurel', 801: 'gone', 567: 'ed', 451: 'dead', 865: 'help', 1241: 'oh', 797: 'god', 861: 'heaven', 1461: 'refuse', 2064: 'would', 1154: 'mock', 1046: 'let', 2002: 'way', 311: 'closed', 656: 'eye', 98: 'ashamed', 1824: 'tear', 753: 'freed', 578: 'embrace', 1741: 'stepped', 719: 'followed', 675: 'fearfully', 892: 'horse', 1866: 'time', 1547: 'saddle', 214: 'bring', 1533: 'round', 783: 'get', 1442: 'ready', 235: 'burst', 894: 'hot', 353: 'confinement', 1529: 'room', 324: 'cold', 40: 'air', 1722: 'stallion', 132: 'barn', 1864: 'tightened', 295: 'cinch', 179: 'blanket', 2060: 'working', 1880: 'touch', 444: 'darkness', 328: 'comforting', 73: 'animal', 562: 'easy', 695: 'finished', 1041: 'led', 1106: 'mare', 1668: 'smelled', 329: 'coming', 860: 'heat', 1292: 'paw', 1910: 'turf', 1608: 'shaking', 1077: 'looped', 1464: 'rein', 1009: 'knot', 1969: 'veranda', 1344: 'post', 1289: 'patted', 1995: 'warm', 707: 'flesh', 1202: 'neck', 123: 'backed', 1814: 'take', 1746: 'stood', 1846: 'thin', 688: 'figure', 1815: 'taken', 250: 'carbine', 1990: 'wall', 1888: 'trailed', 843: 'hand', 1744: 'stock', 229: 'bumping', 2056: 'wood', 710: 'floor', 242: 'called', 244: 'came', 1665: 'slowly', 1740: 'step', 1429: 'ranch', 1963: 'valley', 1682: 'someone', 1118: 'may', 1919: 'u', 240: 'california', 1010: 'know', 2072: 'yet', 409: 'crazy', 1848: 'think', 1218: 'nod', 1212: 'new', 1017: 'land', 1109: 'mark', 1870: 'together', 1058: 'like', 1683: 'somethin', 693: 'fine', 1119: 'maybe', 692: 'find', 1319: 'place', 609: 'ever', 1728: 'start', 754: 'fresh', 847: 'happened', 672: 'father', 1096: 'made', 1724: 'stand', 87: 'approached', 1014: 'laid', 1422: 'quivering', 679: 'feel', 1742: 'stiff', 1054: 'lifted', 782: 'gently', 286: 'child', 1039: 'leave', 1889: 'trample', 1086: 'loved', 823: 'grow', 907: 'huskily', 1067: 'lived', 51: 'alone', 1857: 'three', 1523: 'river', 1214: 'nice', 1294: 'peaceful', 1419: 'quiet', 1811: 'swung', 2014: 'whacked', 1536: 'rump', 2068: 'yard', 297: 'circle', 1055: 'light', 258: 'cast', 1016: 'lamp', 1743: 'still', 234: 'burning', 896: 'house', 1852: 'thirty', 702: 'five', 1525: 'rode', 1127: 'measured', 1262: 'pace', 1687: 'soon', 325: 'coldest', 1162: 'moon', 1790: 'sunk', 417: 'crest', 1169: 'mountain', 1593: 'seen', 825: 'grown', 16: 'accustomed', 6: 'absence', 1074: 'looked', 1375: 'primeval', 1896: 'trespassed', 699: 'first', 1659: 'slept', 245: 'campfire', 1985: 'waked', 1785: 'suddenly', 889: 'hoot', 1260: 'owl', 1542: 'rustle', 178: 'blade', 810: 'grass', 2040: 'wind', 1561: 'savage', 1949: 'untenanted', 217: 'brooding', 1768: 'strong', 216: 'broken', 1634: 'sighed', 174: 'bitterly', 940: 'inert', 1018: 'landscape', 249: 'caravan', 481: 'desire', 1284: 'passed', 1143: 'mind', 59: 'ambushed', 1760: 'strewn', 1346: 'posture', 554: 'dying', 1962: 'vain', 820: 'groped', 1450: 'reassemble', 197: 'bone', 1468: 'relationship', 1690: 'sought', 482: 'desperately', 1639: 'silence', 1250: 'oppressed', 159: 'bend', 1087: 'low', 873: 'hide', 150: 'begun', 190: 'blow', 669: 'far', 1915: 'twisting', 1582: 'search', 748: 'framed', 443: 'dark', 812: 'gray', 876: 'hill', 1022: 'last', 510: 'dissolve', 196: 'bold', 1060: 'line', 1976: 'violet', 1079: 'loose', 874: 'high', 1514: 'ridge', 676: 'feather', 1456: 'red', 1807: 'swept', 1726: 'star', 1652: 'sky', 1991: 'wan', 1709: 'spread', 821: 'ground', 1502: 'revealed', 792: 'glimmer', 378: 'contour', 1895: 'tree', 684: 'fence', 1270: 'palely', 1607: 'shadowed', 834: 'gully', 1311: 'picked', 2005: 'weary', 1854: 'though', 2000: 'watchful', 1345: 'posted', 902: 'hundred', 2041: 'windless', 1616: 'shelter', 2021: 'whipped', 1883: 'town', 713: 'flung', 1555: 'saloon', 429: 'cry', 958: 'intelligence', 1307: 'pettigrew', 1868: 'tired', 540: 'drinking', 127: 'baggy', 1064: 'liquor', 714: 'flushed', 403: 'courage', 817: 'greeted', 1213: 'news', 71: 'angrily', 281: 'cheated', 1405: 'purpose', 1045: 'lester', 858: 'heard', 1183: 'muttering', 1501: 'reveal', 2059: 'worked', 1873: 'tongue', 883: 'hollow', 282: 'cheek', 1980: 'voice', 546: 'dry', 406: 'cracked', 1040: 'leavin', 1816: 'takin', 992: 'keep', 1407: 'purvis', 1673: 'snarled', 1051: 'lied', 981: 'joe', 1105: 'many', 1855: 'thought', 1512: 'ridden', 262: 'cattle', 1543: 'rustled', 588: 'end', 1478: 'remembered', 1670: 'smirk', 420: 'cringing', 680: 'feeling', 924: 'impotence', 665: 'fallen', 1015: 'lame', 769: 'gap', 2035: 'wife', 1207: 'nellie', 1085: 'love', 1534: 'roy', 607: 'even', 440: 'dance', 1283: 'party', 1893: 'treat', 498: 'dirt', 725: 'fool', 1155: 'mocking', 1669: 'smile', 219: 'brought', 2001: 'water', 1899: 'tricked', 1330: 'poker', 767: 'game', 1911: 'turned', 1849: 'thinkin', 1325: 'plenty', 841: 'halfway', 1513: 'ride', 848: 'hard', 715: 'fluttered', 238: 'cabot', 978: 'jerked', 544: 'drunk', 2036: 'wild', 209: 'break', 317: 'cloying', 1996: 'warmth', 565: 'ebbing', 705: 'fled', 521: 'door', 1538: 'running', 828: 'grunted', 1409: 'pushing', 1633: 'side', 977: 'jacket', 1426: 'raised', 1631: 'shut', 1638: 'silas', 1170: 'mounted', 151: 'behind', 1255: 'others', 1549: 'safe', 511: 'distance', 1649: 'six', 1152: 'mist', 1808: 'swirled', 837: 'gust', 1784: 'sudden', 307: 'clear', 316: 'cloud', 1279: 'parted', 771: 'gash', 1791: 'sunlight', 1809: 'swooped', 1721: 'stain', 558: 'earth', 1754: 'streak', 2024: 'white', 800: 'gold', 1606: 'shadow', 712: 'flowed', 1755: 'stream', 450: 'dazzling', 1677: 'snow', 1773: 'strung', 1354: 'prairie', 704: 'flat', 1026: 'lathered', 1102: 'mane', 1756: 'streamed', 1299: 'pennant', 1867: 'tire', 1708: 'spray', 888: 'hoof', 522: 'dotting', 1406: 'pursuer', 1206: 'neither', 765: 'gained', 681: 'fell', 39: 'ahead', 1661: 'slightly', 1887: 'trail', 1328: 'pointed', 1141: 'mile', 189: 'bloodless', 624: 'excitement', 1073: 'look', 857: 'hear', 1716: 'staccato', 141: 'beat', 668: 'fanned', 21: 'across', 1224: 'north', 1008: 'knew', 1515: 'riding', 1810: 'sworn', 1089: 'loyalty', 998: 'kill', 706: 'fleeing', 1699: 'sped', 411: 'created', 610: 'every', 1036: 'leaping', 1762: 'stride', 424: 'crossed', 1287: 'patch', 1076: 'looming', 354: 'confronted', 976: 'jack', 448: 'day', 634: 'exit', 1124: 'meaning', 1438: 'reach', 395: 'corridor', 1317: 'pine', 1061: 'lined', 1285: 'passing', 0: '', 439: 'dan', 1165: 'morgan', 731: 'forget', 74: 'ann', 1912: 'turner', 2009: 'well', 1511: 'rid', 269: 'certainly', 685: 'fickle', 1111: 'married', 101: 'asking', 1902: 'trouble', 1435: 'rationalization', 1685: 'sometimes', 2052: 'woke', 1137: 'middle', 1656: 'sleep', 1321: 'plan', 536: 'dream', 1508: 'revolved', 1071: 'long', 1226: 'nothing', 560: 'easiest', 1596: 'sell', 42: 'al', 224: 'budd', 401: 'country', 1774: 'stubborn', 49: 'allow', 165: 'best', 78: 'antidote', 175: 'bitterness', 500: 'disappointment', 1329: 'poisoned', 2058: 'work', 745: 'found', 596: 'enough', 1643: 'simply', 628: 'exhausted', 116: 'awake', 1031: 'le', 1240: 'often', 906: 'hurt', 1065: 'little', 549: 'duller', 1326: 'poignant', 1788: 'summer', 1950: 'unusually', 1711: 'spring', 1381: 'produced', 1667: 'smaller', 1253: 'ordinary', 1121: 'meadow', 670: 'fast', 2006: 'weather', 34: 'afford', 1082: 'lose', 541: 'drop', 1359: 'precious', 1701: 'spent', 1986: 'waking', 895: 'hour', 52: 'along', 516: 'ditch', 909: 'idea', 257: 'case', 960: 'intention', 263: 'caught', 103: 'asleep', 254: 'carried', 1509: 'revolver', 884: 'holster', 878: 'hip', 1874: 'took', 2039: 'winchester', 1034: 'leaned', 1748: 'stopped', 1146: 'minute', 1627: 'shovel', 1776: 'studied', 890: 'horizon', 529: 'dragging', 1161: 'monotonous', 243: 'calm', 35: 'afternoon', 989: 'june', 1300: 'people', 1875: 'top', 1692: 'south', 1987: 'walk', 1882: 'toward', 1420: 'quit', 919: 'immediately', 1767: 'strode', 1516: 'rifle', 1898: 'trick', 1988: 'walked', 1037: 'least', 524: 'dow', 552: 'dutch', 1481: 'renfro', 1496: 'rest', 131: 'bar', 121: 'b', 418: 'crew', 1999: 'watched', 1411: 'puzzled', 312: 'closer', 2053: 'woman', 306: 'cleaned', 1729: 'started', 525: 'downstream', 1978: 'visitor', 408: 'crawled', 425: 'crossing', 70: 'angling', 1175: 'moving', 971: 'irregularly', 1720: 'staggering', 1772: 'struggle', 1474: 'remain', 728: 'foot', 1440: 'reaching', 1982: 'waited', 2073: 'young', 1217: 'nineteen', 1914: 'twenty', 499: 'dirty', 314: 'clothes', 1877: 'torn', 786: 'girl', 756: 'front', 1030: 'lay', 1099: 'making', 571: 'effort', 1559: 'sat', 778: 'gaze', 636: 'expecting', 1621: 'shoot', 1446: 'really', 253: 'caring', 872: 'hesitated', 802: 'good', 1342: 'possible', 402: 'couple', 1369: 'pretending', 1050: 'licked', 539: 'drink', 1004: 'kitchen', 1035: 'leaning', 1172: 'move', 1566: 'say', 80: 'anything', 791: 'glazed', 1439: 'reached', 1327: 'point', 251: 'care', 233: 'burned', 1789: 'sun', 1651: 'skin', 1296: 'peeling', 72: 'angry', 186: 'blond', 838: 'hair', 757: 'frowzy', 537: 'dress', 1605: 'several', 1619: 'shoe', 341: 'completely', 2062: 'worn', 1353: 'practically', 1390: 'protection', 1182: 'must', 1680: 'sole', 220: 'bruised', 181: 'bleeding', 1660: 'sliding', 1007: 'knee', 58: 'amazingly', 1470: 'relaxed', 1798: 'sure', 360: 'conscious', 1062: 'lingering', 1803: 'suspicion', 509: 'dispelled', 164: 'besides', 1806: 'sweet', 111: 'attracted', 1410: 'put', 397: 'couch', 799: 'going', 542: 'dropped', 163: 'beside', 1813: 'table', 453: 'deal', 47: 'alike', 187: 'blonde', 191: 'blue', 660: 'faint', 1642: 'similarity', 677: 'feature', 689: 'filled', 495: 'dipper', 221: 'bucket', 1615: 'shelf', 863: 'held', 568: 'edge', 1171: 'mouth', 531: 'drank', 815: 'greedily', 1180: 'murmured', 1840: 'thank', 1088: 'lowered', 1075: 'looking', 1159: 'moment', 2055: 'wondering', 1458: 'reduced', 352: 'condition', 1209: 'nester', 1981: 'wagon', 667: 'family', 1733: 'starving', 125: 'bad', 1500: 'returned', 226: 'built', 696: 'fire', 1349: 'poured', 388: 'copper', 195: 'boiler', 1320: 'placed', 1750: 'stove', 658: 'faced', 172: 'billy', 985: 'jones', 77: 'answered', 1610: 'sharon', 1428: 'ran', 1160: 'money', 564: 'eaten', 2067: 'wyoming', 1219: 'nodded', 1472: 'relieved', 1430: 'rancher', 528: 'dragged', 864: 'hell', 20: 'acre', 467: 'demanded', 222: 'buckhorn', 1139: 'mighty', 585: 'empty', 1732: 'starved', 1150: 'missed', 1092: 'lucky', 980: 'job', 1176: 'mr', 1641: 'silent', 1956: 'use', 385: 'cook', 1138: 'might', 508: 'dismissed', 1341: 'possibility', 853: 'haunted', 1000: 'killer', 1614: 'shaved', 2007: 'week', 1695: 'sparse', 140: 'beard', 790: 'giving', 1288: 'pathetic', 2051: 'woebegone', 649: 'expression', 1684: 'something', 913: 'idiot', 1597: 'send', 573: 'either', 691: 'finally', 1293: 'pay', 832: 'guess', 166: 'better', 1166: 'morning', 555: 'eagerly', 1178: 'mucking', 1144: 'mine', 1557: 'san', 986: 'juan', 1957: 'used', 386: 'cooked', 1498: 'restaurant', 1517: 'right', 1203: 'need', 1122: 'meal', 137: 'bath', 1609: 'shape', 465: 'dejectedly', 204: 'box', 1794: 'supper', 1604: 'set', 1997: 'wash', 1535: 'rubbed', 1759: 'stretched', 1131: 'mess', 43: 'alarmed', 1425: 'rafter', 41: 'aj', 775: 'gave', 2032: 'wide', 1753: 'stray', 404: 'course', 1719: 'staggered', 866: 'helped', 1689: 'sorry', 1961: 'usually', 119: 'awfully', 904: 'hungry', 563: 'eat', 419: 'cried', 724: 'food', 1560: 'satisfied', 811: 'grateful', 1081: 'lord', 545: 'drunkard', 946: 'innocent', 1027: 'laughed', 506: 'dish', 1908: 'tub', 903: 'hung', 1190: 'nail', 1084: 'lot', 518: 'doc', 1418: 'quickly', 635: 'expect', 1204: 'needle', 1856: 'thread', 147: 'bedroom', 1576: 'scissors', 146: 'bed', 1694: 'spare', 556: 'early', 313: 'closing', 1645: 'since', 271: 'chance', 784: 'getting', 1361: 'pregnant', 1657: 'sleeping', 577: 'embarrassed', 1564: 'savvy', 697: 'fired', 1269: 'pair', 1083: 'lost', 997: 'kid', 1600: 'sentry', 659: 'fact', 1630: 'showing', 1636: 'sign', 1506: 'reviving', 255: 'carrying', 590: 'enfield', 885: 'holstered', 1194: 'navy', 248: 'cap', 129: 'ball', 1318: 'pistol', 139: 'bayonet', 158: 'belt', 1568: 'scabbard', 1280: 'partially', 1938: 'uniformed', 265: 'cavalry', 1909: 'tunic', 851: 'hat', 1140: 'mike', 1765: 'stripped', 520: 'donned', 455: 'dean', 1863: 'tied', 763: 'gagged', 1959: 'using', 949: 'inside', 225: 'building', 700: 'fiske', 984: 'joined', 1947: 'unsteady', 988: 'julia', 1589: 'seeing', 130: 'bandage', 1540: 'rushed', 211: 'breathed', 192: 'blustered', 1801: 'susan', 1003: 'kissed', 456: 'dear', 208: 'brave', 1640: 'silenced', 1819: 'talk', 1025: 'later', 805: 'grab', 1097: 'main', 230: 'bunch', 1257: 'outside', 458: 'debated', 1907: 'trying', 460: 'decide', 2019: 'whether', 1239: 'offered', 1068: 'living', 1220: 'none', 1553: 'sake', 831: 'guerrilla', 176: 'bivouac', 1475: 'remained', 1629: 'showed', 1252: 'orderly', 1275: 'parade', 616: 'evidently', 553: 'duty', 523: 'doubt', 830: 'guarding', 526: 'dozen', 1745: 'stockade', 1163: 'moonlight', 1358: 'precaution', 1168: 'mount', 115: 'available', 579: 'emergency', 844: 'handed', 829: 'guard', 1906: 'try', 436: 'cut', 1723: 'stampede', 1013: 'lady', 1038: 'leather', 27: 'added', 133: 'barricade', 1833: 'term', 994: 'kept', 842: 'halted', 319: 'clung', 1820: 'talking', 437: 'dabbing', 1493: 'responded', 1002: 'kiss', 1951: 'unutterably', 743: 'fortune', 54: 'also', 462: 'deep', 1831: 'tenderness', 2008: 'weep', 1471: 'released', 252: 'careful', 1120: 'mclish', 1676: 'snorted', 1191: 'naked', 1666: 'slugging', 1599: 'sentimental', 1570: 'scene', 726: 'foolish', 1463: 'regret', 1827: 'tell', 1698: 'spectacle', 183: 'blind', 32: 'affection', 1688: 'sop', 1373: 'pride', 207: 'brass', 203: 'bound', 310: 'close', 882: 'holding', 342: 'concealed', 1447: 'rear', 1315: 'pierced', 773: 'gate', 2043: 'wing', 1245: 'open', 1113: 'mass', 1838: 'tethered', 95: 'army', 1778: 'style', 1715: 'stable', 1706: 'spoke', 1196: 'near', 171: 'bill', 1070: 'located', 1989: 'walking', 2048: 'within', 142: 'became', 1804: 'suspicious', 1751: 'straightened', 1029: 'lax', 1663: 'slouch', 1769: 'struck', 1185: 'muzzle', 1091: 'luck', 953: 'instinctively', 1276: 'parried', 1967: 'veer', 128: 'balance', 1101: 'managed', 136: 'bat', 643: 'exploded', 227: 'bullet', 124: 'backlash', 357: 'connected', 1681: 'solidly', 1829: 'temple', 682: 'felling', 644: 'explosion', 407: 'crashed', 566: 'echo', 1527: 'rolling', 1731: 'startled', 1448: 'rearing', 1837: 'tether', 1541: 'rushing', 880: 'hit', 671: 'fat', 1548: 'saddled', 1313: 'picketed', 1197: 'nearby', 845: 'handy', 1654: 'slashed', 1312: 'picket', 1490: 'resisted', 108: 'attempt', 1408: 'push', 1393: 'protested', 438: 'dammit', 751: 'frantically', 1057: 'lighter', 678: 'fed', 740: 'fort', 846: 'hang', 1817: 'taking', 193: 'bodily', 1859: 'thrust', 1828: 'telling', 1273: 'panted', 673: 'favor', 1562: 'save', 1998: 'watch', 81: 'apache', 449: 'daylight', 4: 'able', 280: 'chase', 2013: 'whack', 996: 'kicked', 1167: 'motion', 1546: 'sad', 1133: 'met', 766: 'gallop', 1655: 'slashing', 1530: 'rope', 1579: 'screeching', 1994: 'war', 2028: 'whoop', 1881: 'touched', 1879: 'total', 445: 'darted', 708: 'flight', 1861: 'thundered', 855: 'heading', 1805: 'swarming', 2011: 'west', 586: 'enclosure', 2070: 'yelled', 1739: 'stealin', 1581: 'scuttled', 561: 'east', 747: 'frame', 426: 'crouched', 1625: 'shout', 1482: 'repeated', 1984: 'wake', 473: 'departing', 835: 'gun', 1594: 'seized', 298: 'clad', 849: 'hardly', 551: 'durkin', 239: 'calhoun', 138: 'bawled', 1416: 'question', 1953: 'uproar', 167: 'beyond', 642: 'explode', 917: 'imagined', 446: 'dash', 1795: 'supply', 1297: 'peered', 390: 'corner', 89: 'area', 478: 'deserted', 1725: 'standing', 1056: 'lighted', 1424: 'racing', 983: 'join', 355: 'confused', 24: 'activity', 1591: 'seemed', 1020: 'lantern', 1298: 'peg', 547: 'ducking', 1717: 'stacked', 206: 'brace', 62: 'ammunition', 1348: 'pouch', 371: 'containing', 246: 'canister', 369: 'contained', 1350: 'powder', 256: 'cartridge', 1271: 'pallet', 733: 'form', 126: 'bag', 201: 'booty', 1624: 'shouldering', 1069: 'load', 1080: 'looting', 1970: 'vicinity', 887: 'hood', 951: 'inspiration', 231: 'bundle', 1675: 'snatching', 1612: 'shattered', 793: 'globe', 236: 'bursting', 1274: 'paper', 1569: 'scattered', 1198: 'nearest', 373: 'content', 1952: 'upon', 1623: 'shouldered', 1878: 'tossed', 2030: 'wick', 1423: 'raced', 703: 'flame', 836: 'gushed', 213: 'brilliantly', 1635: 'sighted', 1445: 'realized', 1905: 'truth', 1672: 'snap', 1286: 'past', 1386: 'projected', 1264: 'pack', 730: 'force', 1712: 'spun', 1454: 'recovered', 1876: 'tore', 1550: 'safety', 75: 'another', 862: 'heavily', 1845: 'thigh', 711: 'floundered', 962: 'interior', 856: 'heap', 202: 'bounced', 1653: 'slammed', 99: 'aside', 1337: 'portal', 284: 'chewing', 1322: 'plank', 598: 'entirely', 2022: 'whipsawed', 1230: 'oak', 969: 'iron', 877: 'hinge', 441: 'danger', 423: 'crossbar', 1526: 'rolled', 809: 'grasped', 897: 'hovered', 1617: 'shield', 1860: 'thudding', 1078: 'loophole', 278: 'charging', 1674: 'snatched', 2016: 'wheeler', 788: 'given', 1539: 'rush', 405: 'cover', 1179: 'mudwagon', 180: 'blaze', 1710: 'spreading', 1377: 'problem', 777: 'gawdamighty', 1578: 'screeched', 827: 'grub', 1626: 'shouted', 905: 'hurry', 750: 'frantic', 1266: 'pail', 370: 'container', 925: 'inadequate', 927: 'increasing', 1272: 'panic', 1093: 'ludicrous', 543: 'drove', 1528: 'roof', 330: 'command', 223: 'buckle', 527: 'drag', 1047: 'lew', 1537: 'run', 576: 'em', 908: 'hustle', 601: 'erupted', 1114: 'massive', 1316: 'pillar', 1650: 'sizable', 321: 'coach', 1563: 'saving', 794: 'glow', 1246: 'opening', 2042: 'window', 621: 'examine', 2065: 'wound', 944: 'inflicting', 1920: 'ugly', 736: 'forming', 1331: 'pool', 188: 'blood', 1519: 'ripped', 1764: 'strip', 315: 'clothing', 945: 'injury', 1836: 'tested', 1043: 'leg', 881: 'hobble', 1499: 'result', 56: 'although', 513: 'distinction', 356: 'confusion', 135: 'basic', 583: 'employed', 1702: 'spirit', 1116: 'matter', 780: 'generally', 808: 'granted', 1460: 'referred', 496: 'direct', 120: 'axiomatic', 574: 'element', 334: 'common', 637: 'experience', 372: 'contemporary', 374: 'context', 1360: 'precisely', 1157: 'modern', 2061: 'world', 1459: 'refer', 38: 'agreed', 1890: 'transitional', 1718: 'stage', 359: 'connotation', 735: 'former', 1955: 'usage', 1504: 'revised', 1466: 'rejected', 1885: 'traditional', 1958: 'user', 652: 'extent', 1505: 'revision', 1467: 'rejection', 1932: 'understanding', 393: 'correspond', 2034: 'widespread', 1941: 'universal', 501: 'disbelief', 1444: 'reality', 267: 'century', 1335: 'populous', 1443: 'real', 1115: 'material', 599: 'entity', 1332: 'popular', 875: 'highly', 569: 'educated', 1903: 'true', 468: 'demon', 662: 'fairy', 68: 'angel', 893: 'host', 1703: 'spiritual', 152: 'being', 639: 'experiential', 2012: 'western', 497: 'directly', 923: 'important', 292: 'christianity', 169: 'biblical', 1971: 'view', 779: 'general', 264: 'cause', 494: 'difficulty', 1421: 'quite', 1193: 'naturally', 1707: 'spontaneously', 1385: 'progress', 1574: 'science', 807: 'gradual', 1483: 'replacement', 1575: 'scientific', 261: 'category', 1021: 'large', 584: 'emptied', 1371: 'previously', 1333: 'populated', 1384: 'program', 1935: 'undoubtedly', 1303: 'performed', 362: 'considerable', 1603: 'service', 299: 'claim', 548: 'due', 416: 'credit', 1232: 'objectification', 1793: 'superstition', 990: 'justify', 1796: 'support', 759: 'fully', 339: 'competent', 93: 'arises', 1231: 'object', 1693: 'space', 1843: 'therefore', 109: 'attention', 351: 'concrete', 916: 'imagination', 1301: 'peopled', 2015: 'whatever', 1736: 'status', 594: 'enjoyed', 25: 'actual', 653: 'external', 1946: 'unquestionably', 1147: 'misconception', 1480: 'removed', 654: 'extraneous', 915: 'illusory', 1691: 'source', 674: 'fear', 1934: 'undesirable', 932: 'indeed', 1964: 'valuable', 764: 'gain', 488: 'development', 1363: 'present', 1518: 'rightly', 898: 'however', 1944: 'unmixed', 182: 'blessing', 459: 'debunking', 1783: 'successful', 1853: 'thorough', 305: 'clean', 2027: 'wholly', 454: 'dealing', 1282: 'particular', 347: 'conceptualization', 1494: 'response', 463: 'defective', 1437: 'raw', 623: 'excess', 1476: 'remains', 1979: 'vividly', 1338: 'position', 947: 'inquiring', 1771: 'structure', 1431: 'range', 749: 'framework', 1492: 'respect', 1254: 'organize', 85: 'apprehend', 867: 'helpless', 1586: 'sector', 1648: 'situation', 530: 'dramatic', 97: 'arthur', 1142: 'miller', 1323: 'play', 428: 'crucible', 1554: 'salem', 2047: 'witch', 1897: 'trial', 113: 'audience', 965: 'introduced', 338: 'community', 1404: 'puritan', 60: 'america', 572: 'eighteenth', 1412: 'quaint', 348: 'concern', 489: 'devil', 1398: 'provides', 918: 'immediate', 1222: 'normal', 382: 'conversation', 275: 'character', 412: 'creates', 107: 'atmosphere', 1787: 'suggesting', 1960: 'usual', 1153: 'mixture', 1324: 'pleasure', 717: 'foible', 974: 'irritation', 277: 'characterize', 1974: 'village', 36: 'age', 1237: 'occasion', 1936: 'uneasy', 515: 'disturbed', 952: 'instead', 1647: 'sit', 559: 'ease', 1306: 'perspective', 595: 'enlightened', 1072: 'longer', 153: 'belief', 593: 'enjoy', 1602: 'seriousness', 505: 'discussion', 1826: 'teenage', 3: 'abigail', 2037: 'williams', 1611: 'sharply', 1417: 'questioned', 1145: 'minister', 1926: 'uncle', 1503: 'reverend', 1556: 'samuel', 1277: 'parris', 31: 'affair', 368: 'contact', 617: 'evil', 967: 'involved', 415: 'creature', 26: 'actually', 716: 'flying', 1937: 'unfolds', 1780: 'subtly', 818: 'grip', 118: 'awful', 826: 'grows', 1243: 'ominously', 774: 'gathering', 1351: 'power', 592: 'engulfs', 611: 'everyone', 1552: 'saint', 1646: 'sinner', 1186: 'mysterious', 600: 'epidemic', 1730: 'starting', 941: 'inexorably', 535: 'dreadfully', 824: 'growing', 1977: 'virulence', 2026: 'whole', 943: 'infected', 1835: 'terribly', 1924: 'unavoidably', 1033: 'leaf', 1148: 'misery', 1164: 'moral', 507: 'disintegration', 484: 'destruction', 1700: 'spell', 645: 'exposure', 23: 'active', 1103: 'manifestation', 57: 'always', 618: 'evokes', 102: 'asks', 76: 'answer', 582: 'employ', 335: 'commonly', 479: 'designate', 911: 'identify', 982: 'john', 1379: 'proctor', 646: 'express', 53: 'already', 200: 'boot', 1090: 'lucifer', 690: 'filthy', 1886: 'tragic', 970: 'irony', 326: 'combatted', 737: 'formula', 199: 'book', 1370: 'prevented', 485: 'detecting', 63: 'among', 1112: 'marvel', 184: 'blindness', 1136: 'mid', 1913: 'twentieth', 154: 'believe', 492: 'different', 1921: 'unable', 1192: 'name', 575: 'elemental', 387: 'cope', 442: 'dare', 1696: 'speak', 922: 'imply', 333: 'commitment', 504: 'discredited', 1395: 'proved', 666: 'false', 1592: 'seems', 1925: 'uncertain', 1577: 'score', 332: 'commentary', 948: 'inserted', 1401: 'published', 1839: 'text', 22: 'act', 1933: 'underworld', 631: 'existence', 1052: 'lieutenant', 503: 'discredit', 839: 'hale', 384: 'convinced', 1678: 'society', 993: 'ken', 1265: 'page', 813: 'great', 1792: 'superficial', 272: 'change', 891: 'horn', 819: 'gripped', 490: 'diametrically', 1249: 'opposed', 7: 'absolute', 345: 'concept', 1940: 'unity', 1339: 'positive', 1205: 'negative', 112: 'attribute', 1469: 'relative', 273: 'changing', 1308: 'phenomenon', 1489: 'reserved', 1310: 'physical', 879: 'history', 1738: 'steady', 1135: 'methodical', 930: 'inculcation', 901: 'humanity', 2063: 'worthlessness', 1457: 'redeemed', 1201: 'necessity', 144: 'become', 615: 'evident', 2003: 'weapon', 480: 'designed', 2020: 'whip', 1800: 'surrender', 293: 'church', 1734: 'state', 84: 'apparently', 959: 'intend', 1441: 'read', 2066: 'writing', 1211: 'nevertheless', 1347: 'potency', 1362: 'presence', 15: 'accounting', 66: 'analyze', 2031: 'wickedness', 938: 'individual', 1380: 'produce', 434: 'cumulative', 570: 'effect', 14: 'account', 955: 'integral', 5: 'abounding', 1973: 'vigor', 640: 'explain', 1752: 'strange', 1229: 'numinous', 1598: 'sense', 1367: 'presentness', 580: 'emerges', 1704: 'spite', 114: 'author', 383: 'conviction', 379: 'contrary', 900: 'human', 2033: 'widely', 1942: 'universally', 82: 'apart', 532: 'draw', 323: 'cohesiveness', 1305: 'permanence', 622: 'example', 1108: 'marine', 391: 'corp', 1799: 'surely', 19: 'acknowledge', 247: 'cannot', 104: 'assign', 1779: 'substance', 1238: 'occupying', 633: 'exists', 1233: 'objective', 638: 'experienced', 1195: 'nazism', 337: 'communism', 1572: 'school', 1757: 'street', 768: 'gang', 729: 'football', 1823: 'team', 1532: 'rotary', 1012: 'ku', 1006: 'klux', 1005: 'klan', 48: 'alive', 266: 'center', 912: 'identity', 1583: 'searching', 318: 'clue', 1032: 'lead', 86: 'apprehension', 358: 'connection', 1059: 'likely', 1394: 'prove', 758: 'fruitful', 1374: 'primarily', 322: 'cohere', 533: 'drawing', 534: 'drawn', 1389: 'prospers', 910: 'identical', 512: 'distinct', 1601: 'separable', 276: 'characteristic', 789: 'givenness', 1128: 'member', 410: 'create', 1434: 'rather', 1983: 'waiting', 1340: 'posse', 1248: 'operative', 1368: 'preserve', 376: 'continue', 762: 'future', 1455: 'recruit', 663: 'faith', 1364: 'presented', 1869: 'today', 1931: 'understanded', 732: 'forgotten', 796: 'goal', 1302: 'perennial', 1841: 'theological', 1821: 'task', 288: 'choice', 1: 'abandon', 1188: 'mythological', 1104: 'manner', 1484: 'representation', 1019: 'language', 1842: 'theology', 1356: 'preaching', 9: 'absurd', 1227: 'notion', 469: 'demythologization', 597: 'entail', 650: 'expurgation', 1149: 'misrepresents', 228: 'bultmann', 1189: 'mythology', 1462: 'regarded', 88: 'appropriate', 346: 'conceptuality', 648: 'expressing', 291: 'christian', 995: 'kerygma', 1156: 'mode', 2: 'abandoned', 1388: 'proper', 1365: 'presenting', 1495: 'responsibly', 1812: 'symbol', 296: 'cipher', 366: 'constantly', 964: 'interpreted', 1221: 'nonmythological', 632: 'existential', 1735: 'statement', 90: 'argues', 1258: 'overestimate', 956: 'intellectual', 1777: 'stumbling', 185: 'block', 1187: 'myth', 1797: 'supposed', 11: 'accepting', 1929: 'unconvincing', 464: 'definition', 1761: 'strictly', 29: 'adhered', 961: 'interesting', 519: 'done', 1387: 'pronouncement', 613: 'evidence', 1259: 'overwhelming', 620: 'exaggerate', 929: 'incredible', 972: 'irrelevant', 1200: 'necessary', 1954: 'urban', 432: 'culture', 30: 'admittedly', 1587: 'secularized', 1382: 'profoundly', 605: 'estranged', 381: 'conventional', 803: 'gospel', 336: 'communicated', 859: 'heart', 168: 'bible', 110: 'attested', 939: 'industrial', 1825: 'technological', 1507: 'revolution', 394: 'corresponding', 1314: 'picture', 1383: 'profundity', 92: 'argument', 502: 'disclosed', 630: 'exist', 1763: 'striking', 1432: 'rapidity', 1107: 'marginal', 602: 'especially', 781: 'generation', 1781: 'suburban', 302: 'class', 399: 'counseling', 1822: 'teaching', 587: 'encounter', 822: 'group', 2029: 'whose', 954: 'insubstantial', 761: 'fundamentalist', 869: 'heritage', 1268: 'painfully', 1235: 'obvious', 614: 'evidenced', 655: 'extreme', 1392: 'protestantism', 1234: 'observed', 61: 'american', 1904: 'truly', 28: 'adequate', 647: 'expressed', 1923: 'unavoidable', 470: 'demythologize', 1491: 'resource', 1965: 'various', 718: 'folk', 1473: 'religion', 435: 'current', 641: 'explanation', 942: 'infatuation', 1223: 'norman', 1975: 'vincent', 1295: 'peale', 430: 'cult', 1451: 'reassurance', 1917: 'type', 1403: 'purely', 431: 'cultural', 471: 'demythologized', 1402: 'pundit', 1590: 'seem', 1802: 'suspected', 1024: 'latent', 466: 'demand', 1199: 'nearly', 300: 'claiming', 433: 'cultured', 1334: 'population', 1832: 'tends', 340: 'complete', 935: 'indifference', 1132: 'message', 1644: 'sin', 806: 'grace', 268: 'certain', 294: 'churchman', 760: 'fulminate', 709: 'flock', 427: 'crowd', 1679: 'solace', 1290: 'paul', 259: 'castigation', 2045: 'wisdom', 2046: 'wise', 274: 'chapter', 389: 'corinthian', 1094: 'luxury', 1671: 'smug', 937: 'indigation', 1520: 'risk', 106: 'assuming', 723: 'folly', 921: 'implied', 727: 'foolishness', 45: 'alienate', 785: 'gift', 320: 'co', 1247: 'operation', 1151: 'mission', 928: 'increasingly', 1357: 'precarious', 67: 'ancient', 1968: 'venerable', 1884: 'tradition', 477: 'derives', 816: 'greek', 934: 'independent', 413: 'creation', 13: 'accomplishing', 65: 'analogy', 1488: 'requiring', 1251: 'order', 1580: 'scripture', 612: 'everywhere', 1479: 'reminds', 742: 'fortiori', 914: 'ill', 2049: 'without', 1818: 'talent', 1397: 'providence', 619: 'exactly', 105: 'assume', 1355: 'preach', 1891: 'translate', 475: 'depriving', 377: 'continued', 1782: 'success', 2050: 'witness', 474: 'depends', 91: 'arguing', 1236: 'obviously', 1497: 'restatement', 17: 'achieved', 698: 'firmly', 1366: 'presently', 741: 'forth', 1449: 'reason', 10: 'accepted', 1256: 'otherwise', 493: 'differently', 1372: 'price', 145: 'becoming', 664: 'faithful', 720: 'follower', 979: 'jesus', 290: 'christ', 1595: 'self', 1545: 'sacrificium', 392: 'corporis', 957: 'intellectus', 55: 'alternative', 1945: 'unpaid', 1758: 'stressed', 8: 'absolutely', 603: 'essential', 350: 'concluding', 491: 'dietrich', 198: 'bonhoeffer', 1378: 'process', 1486: 'represents', 1922: 'unambiguous', 1110: 'marked', 606: 'estrangement', 476: 'depth', 396: 'cost', 1117: 'maturation', 1510: 'richly', 161: 'benefit', 483: 'despise', 608: 'event', 973: 'irreversible', 886: 'honest', 1066: 'live', 701: 'fit', 380: 'controversy', 1433: 'rate', 149: 'beginning', 514: 'distinctively', 1304: 'period', 46: 'aligned', 1048: 'liberal', 1391: 'protestant', 400: 'count', 1571: 'schleiermacher', 1521: 'ritschl', 871: 'herrmann', 850: 'harnack', 1901: 'troeltsch', 1453: 'recently', 1573: 'schweitzer', 134: 'barth', 414: 'creative', 156: 'belong', 1228: 'number', 237: 'bushnell', 301: 'clarke', 1436: 'rauschenbusch', 1130: 'mention', 285: 'chicago', 1095: 'macintosh', 1215: 'niebuhr', 1865: 'tillich', 361: 'consciously', 1208: 'neoliberal', 1174: 'movement', 487: 'developed', 1943: 'university', 931: 'indebted', 1309: 'philosophically', 44: 'alfred', 2025: 'whitehead', 517: 'diverse', 604: 'essentially', 157: 'belonged', 557: 'earnest', 349: 'concerned', 1714: 'squarely', 83: 'apostolic', 629: 'exhibited', 2038: 'willingness', 1544: 'sacrifice', 1158: 'modernity', 950: 'insisted', 364: 'considering', 1892: 'treason', 1567: 'saying', 589: 'enduring', 18: 'achievement', 421: 'criticize', 367: 'constructive', 739: 'formulation', 1766: 'strive', 738: 'formulate', 1049: 'liberalism', 33: 'affirming', 461: 'decisive', 210: 'breaking', 452: 'deadlock', 1966: 'variously', 1485: 'represented', 1281: 'participant', 472: 'demythologizing', 1927: 'unconditionally', 309: 'clearly', 1948: 'untenable', 2017: 'whereas', 1770: 'structurally', 926: 'inconsistent', 933: 'indefensible', 734: 'formal', 991: 'karl', 968: 'involves', 1413: 'qualification', 966: 'invalidated', 363: 'considered', 722: 'follows', 1396: 'provided', 1972: 'viewpoint', 375: 'continent', 755: 'fritz', 232: 'buri', 1637: 'significant', 920: 'implication', 486: 'develop', 814: 'greater', 1044: 'length', 1628: 'show', 1343: 'possibly', 1918: 'typically', 1786: 'sufficient', 1376: 'principle', 344: 'conceived', 625: 'exclude', 1851: 'third', 1125: 'meaningless', 1862: 'thus', 975: 'issue', 1261: 'p', 936: 'indifferent', 987: 'judgment', 868: 'hence', 1939: 'unimportant', 173: 'bit', 1415: 'quantity', 626: 'excluded', 343: 'conceivable', 365: 'consistent', 1184: 'mutually', 627: 'exclusive', 1400: 'pseudo', 64: 'analogous', 1713: 'square', 1584: 'second', 1487: 'requires', 651: 'extended', 331: 'comment', 1452: 'recalled', 1585: 'section', 721: 'following', 1844: 'thesis', 1830: 'tenable', 1465: 'reject', 1414: 'qualifies', 1928: 'unconditioned', 963: 'interpretation', 12: 'accepts', 1697: 'special', 870: 'hermeneutics', 1134: 'method', 581: 'emphasis'}\n"
          ]
        }
      ]
    },
    {
      "cell_type": "code",
      "metadata": {
        "colab": {
          "base_uri": "https://localhost:8080/"
        },
        "id": "VFcmWm1GpKjW",
        "outputId": "9b2f9b21-d58d-4e59-9ece-609d9463f367"
      },
      "source": [
        "lda = models.LdaModel(corpus=corpus_brown, id2word=id2word, num_topics=2, passes=150)\n",
        "lda.print_topics()"
      ],
      "execution_count": null,
      "outputs": [
        {
          "output_type": "execute_result",
          "data": {
            "text/plain": [
              "[(0,\n",
              "  '0.012*\"said\" + 0.011*\"mike\" + 0.010*\"morgan\" + 0.005*\"house\" + 0.005*\"guerrilla\" + 0.005*\"horse\" + 0.005*\"work\" + 0.005*\"dean\" + 0.004*\"could\" + 0.004*\"one\"'),\n",
              " (1,\n",
              "  '0.010*\"spirit\" + 0.006*\"men\" + 0.005*\"world\" + 0.005*\"gavin\" + 0.005*\"community\" + 0.005*\"one\" + 0.004*\"clayton\" + 0.004*\"mean\" + 0.004*\"say\" + 0.004*\"experience\"')]"
            ]
          },
          "metadata": {},
          "execution_count": 28
        }
      ]
    },
    {
      "cell_type": "markdown",
      "metadata": {
        "id": "HOGOa1zRQG98"
      },
      "source": []
    },
    {
      "cell_type": "code",
      "metadata": {
        "colab": {
          "base_uri": "https://localhost:8080/"
        },
        "id": "-i_UsXBVACA6",
        "outputId": "f9365b40-10c9-4b06-bf56-12750ca7d4c4"
      },
      "source": [
        "from nltk.corpus import brown\n",
        "print(brown.categories())\n",
        "#charger les mots\n",
        "files_ad =brown.fileids(categories = 'adventure')\n",
        "print(files_ad)\n",
        "files_re =brown.fileids(categories = 'religion')\n",
        "print(files_re)\n",
        "\n",
        "words_all = brown.words(fileids=['cn02','cn01','cn03','cd01','cd02'])\n",
        "print(len(words_all))\n",
        "print(words_all[:10])"
      ],
      "execution_count": null,
      "outputs": [
        {
          "output_type": "stream",
          "name": "stdout",
          "text": [
            "['adventure', 'belles_lettres', 'editorial', 'fiction', 'government', 'hobbies', 'humor', 'learned', 'lore', 'mystery', 'news', 'religion', 'reviews', 'romance', 'science_fiction']\n",
            "['cn01', 'cn02', 'cn03', 'cn04', 'cn05', 'cn06', 'cn07', 'cn08', 'cn09', 'cn10', 'cn11', 'cn12', 'cn13', 'cn14', 'cn15', 'cn16', 'cn17', 'cn18', 'cn19', 'cn20', 'cn21', 'cn22', 'cn23', 'cn24', 'cn25', 'cn26', 'cn27', 'cn28', 'cn29']\n",
            "['cd01', 'cd02', 'cd03', 'cd04', 'cd05', 'cd06', 'cd07', 'cd08', 'cd09', 'cd10', 'cd11', 'cd12', 'cd13', 'cd14', 'cd15', 'cd16', 'cd17']\n",
            "11758\n",
            "['Gavin', 'paused', 'wearily', '.', '``', 'You', \"can't\", 'stay', 'here', 'with']\n"
          ]
        }
      ]
    },
    {
      "cell_type": "code",
      "metadata": {
        "id": "mCMZf-LyORdo"
      },
      "source": [
        "def feature_extraction(words):\n",
        "  #Nettoyer les mots\n",
        "  words_clean = stopwords_free(words,stopwords.words('english'))\n",
        "  words_clean = ponctuation_free(words_clean, string.punctuation)\n",
        "  #Recherche des fréquences des mots\n",
        "  freq = FreqDist(words_clean)\n",
        "  terms =freq.most_common()\n",
        "  print('len : ',len(terms))\n",
        " # freq.plot(100 , cumulative = 'False')\n",
        "  #print(freq)\n",
        "  print(terms)\n",
        "  #Nombre de répetition des mots et plot des fréquences\n",
        "  #n = [n[1] for n in terms]\n",
        "  #print('nombre de répetition des mots:', n)\n",
        "  #freq_n = FreqDist(n)\n",
        "  #freq_n.plot(30,cumulative = 'False')\n",
        "  \n",
        "  #Faire passer les mots ayant une fréquence > 10\n",
        "  terms_freq = [term[0] for term in terms if term[1]>=10]\n",
        "  \n",
        "  return terms_freq\n"
      ],
      "execution_count": null,
      "outputs": []
    },
    {
      "cell_type": "code",
      "metadata": {
        "colab": {
          "base_uri": "https://localhost:8080/"
        },
        "id": "P7gs_2RaWjSZ",
        "outputId": "beed4de3-6bd6-413f-910a-9eeaf889879f"
      },
      "source": [
        "#changement des mots en minuscules\n",
        "words_all = [w.lower() for w in words_all]\n",
        "features = feature_extraction(words_all)\n",
        "print(features)\n",
        "print('nombre de features:', len(features))\n"
      ],
      "execution_count": null,
      "outputs": [
        {
          "output_type": "stream",
          "name": "stdout",
          "text": [
            "len :  2151\n",
            "[('said', 45), ('spirit', 37), ('one', 30), ('morgan', 28), ('mike', 28), ('could', 24), ('two', 23), ('men', 23), ('man', 22), ('world', 21), ('would', 19), ('us', 19), ('back', 18), ('way', 18), ('community', 18), ('time', 17), ('much', 16), ('horses', 16), ('house', 16), ('work', 16), ('clayton', 15), ('thought', 14), ('experience', 14), ('gavin', 13), ('go', 13), ('left', 13), ('came', 13), ('still', 13), ('even', 13), ('say', 13), ('play', 13), ('see', 12), ('away', 12), ('eyes', 12), ('get', 12), ('may', 12), ('door', 12), ('must', 12), ('guerrillas', 12), ('began', 11), ('never', 11), ('boy', 11), ('saw', 11), ('take', 11), ('made', 11), ('first', 11), ('jones', 11), ('dean', 11), ('reality', 11), ('hand', 10), ('like', 10), ('find', 10), ('turned', 10), ('running', 10), ('girl', 10), ('front', 10), ('going', 10), ('right', 10), ('means', 10), ('position', 10), ('thing', 9), ('life', 9), ('got', 9), ('almost', 9), ('come', 9), ('valley', 9), ('light', 9), ('toward', 9), ('least', 9), ('completely', 9), ('used', 9), ('need', 9), ('susan', 9), ('stockade', 9), ('also', 9), ('power', 9), ('theology', 9), ('thinking', 8), ('face', 8), ('went', 8), ('around', 8), ('room', 8), ('night', 8), ('wall', 8), ('seen', 8), ('looked', 8), ('many', 8), ('water', 8), ('rifle', 8), ('feet', 8), ('fire', 8), ('pistol', 8), ('real', 8), ('church', 8), ('beneath', 7), ('years', 7), ('told', 7), ('kind', 7), ('give', 7), ('god', 7), ('saddle', 7), ('stood', 7), ('yet', 7), ('think', 7), ('horse', 7), ('leave', 7), ('alone', 7), ('far', 7), ('last', 7), ('brought', 7), ('sleep', 7), ('found', 7), ('point', 7), ('wagons', 7), ('might', 7), ('modern', 7), ('present', 7), ('mythological', 7), ('demand', 7), ('stay', 6), ('make', 6), ('felt', 6), ('tried', 6), ('mean', 6), ('head', 6), ('help', 6), ('followed', 6), ('round', 6), ('taken', 6), ('california', 6), ('know', 6), ('ever', 6), ('three', 6), ('mind', 6), ('line', 6), ('town', 6), ('ride', 6), ('simply', 6), ('spring', 6), ('better', 6), ('julia', 6), ('whether', 6), ('buildings', 6), ('however', 6), ('audience', 6), ('devil', 6), ('demythologization', 6), ('tradition', 6), ('alternative', 6), ('represented', 6), ('black', 5), ('known', 5), ('asked', 5), ('want', 5), ('let', 5), ('darkness', 5), ('post', 5), ('land', 5), ('together', 5), ('place', 5), ('feel', 5), ('wind', 5), ('passed', 5), ('dark', 5), ('ground', 5), ('end', 5), ('fell', 5), ('north', 5), ('day', 5), ('long', 5), ('nothing', 5), ('enough', 5), ('little', 5), ('case', 5), ('carried', 5), ('winchester', 5), ('people', 5), ('good', 5), ('sure', 5), ('use', 5), ('something', 5), ('bayonet', 5), ('inside', 5), ('fiske', 5), ('terms', 5), ('kept', 5), ('rear', 5), ('beyond', 5), ('powder', 5), ('form', 5), ('elements', 5), ('common', 5), ('popular', 5), ('science', 5), ('situation', 5), ('longer', 5), ('among', 5), ('christian', 5), ('gospel', 5), ('barth', 5), ('rock', 4), ('death', 4), ('porch', 4), ('terrible', 4), ('words', 4), ('big', 4), ('whispered', 4), ('meant', 4), ('son', 4), ('ago', 4), ('understand', 4), ('clay', 4), ('yes', 4), ('part', 4), ('dead', 4), ('ready', 4), ('cold', 4), ('easy', 4), ('mare', 4), ('neck', 4), ('thin', 4), ('slowly', 4), ('ranch', 4), ('new', 4), ('lifted', 4), ('soon', 4), ('picked', 4), ('though', 4), ('lester', 4), ('purvis', 4), ('gap', 4), ('wife', 4), ('fool', 4), ('hard', 4), ('behind', 4), ('across', 4), ('every', 4), ('ann', 4), ('well', 4), ('budd', 4), ('country', 4), ('often', 4), ('afford', 4), ('idea', 4), ('fence', 4), ('walk', 4), ('rest', 4), ('crawled', 4), ('torn', 4), ('really', 4), ('kitchen', 4), ('anything', 4), ('several', 4), ('table', 4), ('moment', 4), ('meal', 4), ('set', 4), ('course', 4), ('hung', 4), ('since', 4), ('fired', 4), ('joined', 4), ('chance', 4), ('orderly', 4), ('moonlight', 4), ('wagon', 4), ('gate', 4), ('open', 4), ('within', 4), ('struck', 4), ('bullet', 4), ('peered', 4), ('corner', 4), ('upon', 4), ('although', 4), ('extent', 4), ('entities', 4), ('important', 4), ('christianity', 4), ('view', 4), ('salem', 4), ('discussion', 4), ('evil', 4), ('grows', 4), ('spell', 4), ('great', 4), ('unity', 4), ('become', 4), ('members', 4), ('continue', 4), ('bultmann', 4), ('myth', 4), ('accepted', 4), ('question', 4), ('dawn', 3), ('chair', 3), ('broke', 3), ('lips', 3), ('charlie', 3), ('english', 3), ('body', 3), ('garden', 3), ('cleared', 3), ('goin', 3), ('arms', 3), ('fiercely', 3), ('wanted', 3), ('gone', 3), ('bring', 3), ('stallion', 3), ('blanket', 3), ('led', 3), ('backed', 3), ('floor', 3), ('steps', 3), ('someone', 3), ('fresh', 3), ('happened', 3), ('stand', 3), ('lived', 3), ('swung', 3), ('burning', 3), ('rode', 3), ('suddenly', 3), ('strong', 3), ('low', 3), ('blow', 3), ('red', 3), ('swept', 3), ('trees', 3), ('yards', 3), ('saloon', 3), ('tired', 3), ('dry', 3), ('keep', 3), ('feeling', 3), ('plenty', 3), ('shoulder', 3), ('wild', 3), ('others', 3), ('clear', 3), ('earth', 3), ('ahead', 3), ('trail', 3), ('hear', 3), ('knew', 3), ('kill', 3), ('stride', 3), ('meaning', 3), ('reach', 3), ('dan', 3), ('certainly', 3), ('best', 3), ('exhausted', 3), ('hurt', 3), ('meadows', 3), ('along', 3), ('caught', 3), ('took', 3), ('leaned', 3), ('south', 3), ('trick', 3), ('walked', 3), ('woman', 3), ('started', 3), ('hands', 3), ('sat', 3), ('possible', 3), ('pretending', 3), ('hair', 3), ('foot', 3), ('dropped', 3), ('held', 3), ('looking', 3), ('condition', 3), ('bad', 3), ('ran', 3), ('nodded', 3), ('miles', 3), ('dragged', 3), ('mighty', 3), ('possibility', 3), ('giving', 3), ('either', 3), ('finally', 3), ('bed', 3), ('fact', 3), ('carrying', 3), ('belt', 3), ('kissed', 3), ('later', 3), ('living', 3), ('parade', 3), ('handed', 3), ('try', 3), ('stampede', 3), ('mclish', 3), ('guard', 3), ('muzzle', 3), ('hit', 3), ('attempt', 3), ('apaches', 3), ('comes', 3), ('east', 3), ('frame', 3), ('rifles', 3), ('supply', 3), ('lantern', 3), ('peg', 3), ('ammunition', 3), ('scattered', 3), ('bullets', 3), ('force', 3), ('another', 3), ('entirely', 3), ('given', 3), ('matter', 3), ('contemporary', 3), ('traditional', 3), ('widespread', 3), ('spirits', 3), ('material', 3), ('biblical', 3), ('general', 3), ('scientific', 3), ('therefore', 3), ('whatever', 3), ('century', 3), ('witches', 3), ('age', 3), ('woods', 3), ('already', 3), ('says', 3), ('existence', 3), ('corps', 3), ('rather', 3), ('today', 3), ('theological', 3), ('concepts', 3), ('kerygma', 3), ('evidence', 3), ('forms', 3), ('argument', 3), ('whose', 3), ('american', 3), ('unavoidable', 3), ('makes', 3), ('without', 3), ('step', 3), ('event', 3), ('liberal', 3), ('alternatives', 3), ('buri', 3), ('p', 3), ('late', 2), ('shirt', 2), ('shoulders', 2), ('shook', 2), ('pain', 2), ('throat', 2), ('slow', 2), ('powerless', 2), ('moved', 2), ('catch', 2), ('stuck', 2), ('fight', 2), ('tom', 2), ('fair', 2), ('believed', 2), ('killed', 2), ('dumped', 2), ('rose', 2), ('nights', 2), ('wiped', 2), ('sleeve', 2), ('stared', 2), ('hate', 2), ('old', 2), ('forward', 2), ('nothin', 2), ('ed', 2), ('oh', 2), ('refuse', 2), ('ashamed', 2), ('freed', 2), ('hot', 2), ('air', 2), ('coming', 2), ('heat', 2), ('shaking', 2), ('reins', 2), ('warm', 2), ('flesh', 2), ('stock', 2), ('wood', 2), ('called', 2), ('start', 2), ('stiff', 2), ('loved', 2), ('mountains', 2), ('absence', 2), ('slept', 2), ('grass', 2), ('savage', 2), ('broken', 2), ('sighed', 2), ('desperately', 2), ('search', 2), ('hills', 2), ('bold', 2), ('ridge', 2), ('stars', 2), ('spread', 2), ('weary', 2), ('hundred', 2), ('whipped', 2), ('purpose', 2), ('worked', 2), ('cheek', 2), ('voice', 2), ('leavin', 2), ('joe', 2), ('cattle', 2), ('remembered', 2), ('jerked', 2), ('side', 2), ('raised', 2), ('shadows', 2), ('snow', 2), ('prairie', 2), ('hoofs', 2), ('neither', 2), ('pointed', 2), ('look', 2), ('beat', 2), ('riding', 2), ('fleeing', 2), ('looming', 2), ('confronted', 2), ('trouble', 2), ('woke', 2), ('middle', 2), ('al', 2), ('stubborn', 2), ('less', 2), ('spent', 2), ('intention', 2), ('stopped', 2), ('shovel', 2), ('dragging', 2), ('quit', 2), ('figures', 2), ('puzzled', 2), ('remain', 2), ('twenty', 2), ('making', 2), ('effort', 2), ('half', 2), ('hesitated', 2), ('couple', 2), ('drink', 2), ('reached', 2), ('skin', 2), ('dress', 2), ('places', 2), ('sole', 2), ('knees', 2), ('dispelled', 2), ('put', 2), ('couch', 2), ('deal', 2), ('alike', 2), ('features', 2), ('filled', 2), ('dipper', 2), ('bucket', 2), ('murmured', 2), ('thank', 2), ('reduced', 2), ('built', 2), ('poured', 2), ('placed', 2), ('faced', 2), ('answered', 2), ('sharon', 2), ('money', 2), ('demanded', 2), ('missed', 2), ('silent', 2), ('beard', 2), ('expression', 2), ('send', 2), ('pay', 2), ('guess', 2), ('bath', 2), ('shape', 2), ('supper', 2), ('gave', 2), ('wide', 2), ('strays', 2), ('helped', 2), ('sorry', 2), ('usually', 2), ('awfully', 2), ('eat', 2), ('grateful', 2), ('drunkards', 2), ('needle', 2), ('thread', 2), ('bedroom', 2), ('early', 2), ('getting', 2), ('lost', 2), ('holstered', 2), ('hat', 2), ('using', 2), ('seeing', 2), ('dear', 2), ('talk', 2), ('main', 2), ('outside', 2), ('guerrilla', 2), ('bivouac', 2), ('evidently', 2), ('doubt', 2), ('dozen', 2), ('animals', 2), ('added', 2), ('halted', 2), ('talking', 2), ('responded', 2), ('fortune', 2), ('deep', 2), ('careful', 2), ('bound', 2), ('close', 2), ('shadow', 2), ('walls', 2), ('picket', 2), ('taking', 2), ('watch', 2), ('able', 2), ('met', 2), ('touched', 2), ('yelled', 2), ('crouched', 2), ('wake', 2), ('seized', 2), ('durkin', 2), ('calhoun', 2), ('pistols', 2), ('deserted', 2), ('lighted', 2), ('racing', 2), ('seemed', 2), ('cartridges', 2), ('booty', 2), ('canister', 2), ('flame', 2), ('realized', 2), ('past', 2), ('tore', 2), ('heavily', 2), ('heap', 2), ('aside', 2), ('planks', 2), ('grasped', 2), ('problem', 2), ('hurry', 2), ('inadequate', 2), ('run', 2), ('generally', 2), ('granted', 2), ('referred', 2), ('precisely', 2), ('refer', 2), ('former', 2), ('rejected', 2), ('disbelief', 2), ('centuries', 2), ('beings', 2), ('quite', 2), ('populated', 2), ('undoubtedly', 2), ('considerable', 2), ('claim', 2), ('justify', 2), ('fully', 2), ('space', 2), ('imagination', 2), ('fear', 2), ('rightly', 2), ('particular', 2), ('response', 2), ('vividly', 2), ('structure', 2), ('range', 2), ('respect', 2), ('helpless', 2), ('lives', 2), ('dramatic', 2), ('america', 2), ('concern', 2), ('devils', 2), ('opening', 2), ('normal', 2), ('characters', 2), ('characterize', 2), ('instead', 2), ('enlightened', 2), ('abigail', 2), ('parris', 2), ('creatures', 2), ('actually', 2), ('unfolds', 2), ('grip', 2), ('mysterious', 2), ('whole', 2), ('leaves', 2), ('always', 2), ('commonly', 2), ('word', 2), ('belief', 2), ('believe', 2), ('elemental', 2), ('false', 2), ('seems', 2), ('page', 2), ('concept', 2), ('positive', 2), ('history', 2), ('ideas', 2), ('evident', 2), ('weapon', 2), ('apparently', 2), ('effect', 2), ('sense', 2), ('contrary', 2), ('human', 2), ('apart', 2), ('gives', 2), ('marine', 2), ('cannot', 2), ('school', 2), ('alive', 2), ('center', 2), ('faith', 2), ('choice', 2), ('language', 2), ('preaching', 2), ('regarded', 2), ('appropriate', 2), ('conceptuality', 2), ('abandoned', 2), ('existential', 2), ('statement', 2), ('incredible', 2), ('irrelevant', 2), ('culture', 2), ('secularized', 2), ('profoundly', 2), ('bible', 2), ('teaching', 2), ('heritage', 2), ('expressed', 2), ('demythologize', 2), ('resources', 2), ('infatuation', 2), ('demythologized', 2), ('seem', 2), ('cultured', 2), ('wisdom', 2), ('chapter', 2), ('risk', 2), ('foolishness', 2), ('independent', 2), ('order', 2), ('restatement', 2), ('price', 2), ('faithful', 2), ('jesus', 2), ('christ', 2), ('sacrificium', 2), ('distinctively', 2), ('names', 2), ('creative', 2), ('mention', 2), ('chicago', 2), ('formulate', 2), ('grounds', 2), ('third', 2), ('interpretation', 2), ('paused', 1), ('wearily', 1), ('sank', 1), ('rittenhouse', 1), ('splendide', 1), ('guilt', 1), ('frail', 1), ('croaks', 1), ('stored', 1), ('shattering', 1), ('free', 1), ('gasps', 1), ('call', 1), ('rally', 1), ('anger', 1), ('bent', 1), ('stoop', 1), ('remember', 1), ('anythin', 1), ('provoked', 1), ('treated', 1), ('childish', 1), ('wonder', 1), ('shyly', 1), ('wherever', 1), ('choked', 1), ('murmuring', 1), ('beckoned', 1), ('finger', 1), ('slipped', 1), ('chest', 1), ('hugged', 1), ('driftin', 1), ('laurel', 1), ('heaven', 1), ('mock', 1), ('closed', 1), ('tears', 1), ('embrace', 1), ('stepped', 1), ('fearfully', 1), ('burst', 1), ('confinement', 1), ('barn', 1), ('tightened', 1), ('cinches', 1), ('working', 1), ('touch', 1), ('comforting', 1), ('animal', 1), ('finished', 1), ('smelled', 1), ('paw', 1), ('turf', 1), ('looped', 1), ('knot', 1), ('veranda', 1), ('patted', 1), ('figure', 1), ('carbine', 1), ('trailed', 1), ('bumping', 1), ('crazy', 1), ('nod', 1), ('mark', 1), ('somethin', 1), ('fine', 1), ('maybe', 1), ('father', 1), ('approached', 1), ('laid', 1), ('quivering', 1), ('gently', 1), ('child', 1), ('trample', 1), ('grow', 1), ('huskily', 1), ('river', 1), ('nice', 1), ('peaceful', 1), ('quiet', 1), ('whacked', 1), ('rump', 1), ('yard', 1), ('circle', 1), ('cast', 1), ('lamp', 1), ('measured', 1), ('pace', 1), ('coldest', 1), ('moon', 1), ('sunk', 1), ('crest', 1), ('grown', 1), ('accustomed', 1), ('primeval', 1), ('trespassed', 1), ('campfire', 1), ('waked', 1), ('hoot', 1), ('owl', 1), ('rustle', 1), ('blade', 1), ('untenanted', 1), ('brooding', 1), ('bitterly', 1), ('inert', 1), ('landscape', 1), ('caravan', 1), ('desires', 1), ('ambushed', 1), ('strewn', 1), ('postures', 1), ('dying', 1), ('vain', 1), ('groped', 1), ('reassemble', 1), ('bones', 1), ('relationships', 1), ('sought', 1), ('silence', 1), ('oppressed', 1), ('bend', 1), ('hide', 1), ('begun', 1), ('twisting', 1), ('ranches', 1), ('framed', 1), ('gray', 1), ('dissolve', 1), ('violet', 1), ('loose', 1), ('high', 1), ('feathers', 1), ('sky', 1), ('wan', 1), ('revealed', 1), ('glimmer', 1), ('contours', 1), ('fences', 1), ('palely', 1), ('shadowed', 1), ('gullies', 1), ('watchful', 1), ('posted', 1), ('windless', 1), ('shelter', 1), ('flung', 1), ('crying', 1), ('intelligence', 1), ('drinking', 1), ('faces', 1), ('baggy', 1), ('liquor', 1), ('flushed', 1), ('courage', 1), ('greeted', 1), ('news', 1), ('angrily', 1), ('cheated', 1), ('heard', 1), ('muttering', 1), ('reveal', 1), ('desire', 1), ('tongue', 1), ('hollow', 1), ('cracked', 1), ('takin', 1), ('snarled', 1), ('brother', 1), ('lied', 1), ('ridden', 1), ('rustled', 1), ('smirk', 1), ('cringing', 1), ('impotence', 1), ('fallen', 1), ('lame', 1), ('nellie', 1), ('love', 1), ('roy', 1), ('dance', 1), ('party', 1), ('treats', 1), ('dirt', 1), ('mocking', 1), ('smile', 1), ('tricked', 1), ('poker', 1), ('game', 1), ('thinkin', 1), ('halfway', 1), ('fluttered', 1), ('cabot', 1), ('drunk', 1), ('break', 1), ('cloying', 1), ('warmth', 1), ('ebbing', 1), ('fled', 1), ('grunted', 1), ('pushing', 1), ('jacket', 1), ('shut', 1), ('silas', 1), ('pettigrew', 1), ('mounted', 1), ('safe', 1), ('distance', 1), ('mist', 1), ('swirled', 1), ('gust', 1), ('sudden', 1), ('clouds', 1), ('parted', 1), ('gashes', 1), ('sunlight', 1), ('swooped', 1), ('stain', 1), ('streaks', 1), ('white', 1), ('gold', 1), ('flowed', 1), ('streams', 1), ('dazzling', 1), ('strung', 1), ('flat', 1), ('lathered', 1), ('manes', 1), ('streamed', 1), ('pennants', 1), ('tire', 1), ('spray', 1), ('dotting', 1), ('pursuers', 1), ('gained', 1), ('slightly', 1), ('mile', 1), ('bloodless', 1), ('excitement', 1), ('staccato', 1), ('fanned', 1), ('sworn', 1), ('loyalty', 1), ('sped', 1), ('created', 1), ('leaping', 1), ('crossed', 1), ('patch', 1), ('jack', 1), ('exit', 1), ('corridor', 1), ('pines', 1), ('lined', 1), ('passing', 1), ('forget', 1), ('turner', 1), ('rid', 1), ('fickle', 1), ('married', 1), ('asking', 1), ('rationalization', 1), ('sometimes', 1), ('plans', 1), ('dreams', 1), ('revolved', 1), ('easiest', 1), ('sell', 1), ('streak', 1), ('allow', 1), ('antidote', 1), ('bitterness', 1), ('disappointment', 1), ('poisoned', 1), ('awake', 1), ('duller', 1), ('poignant', 1), ('summer', 1), ('unusually', 1), ('produced', 1), ('smaller', 1), ('stream', 1), ('ordinary', 1), ('fast', 1), ('weather', 1), ('lose', 1), ('drop', 1), ('precious', 1), ('waking', 1), ('hours', 1), ('ditches', 1), ('asleep', 1), ('revolver', 1), ('holster', 1), ('hip', 1), ('minutes', 1), ('studied', 1), ('horizon', 1), ('monotonous', 1), ('calm', 1), ('afternoon', 1), ('june', 1), ('top', 1), ('immediately', 1), ('strode', 1), ('dow', 1), ('dutch', 1), ('renfro', 1), ('bar', 1), ('b', 1), ('crew', 1), ('watched', 1), ('closer', 1), ('cleaned', 1), ('downstream', 1), ('visitors', 1), ('crossing', 1), ('meadow', 1), ('angling', 1), ('moving', 1), ('irregularly', 1), ('staggering', 1), ('struggle', 1), ('reaching', 1), ('waited', 1), ('young', 1), ('nineteen', 1), ('dirty', 1), ('clothes', 1), ('lay', 1), ('gaze', 1), ('expecting', 1), ('shoot', 1), ('caring', 1), ('licked', 1), ('leaning', 1), ('move', 1), ('glazed', 1), ('care', 1), ('burned', 1), ('sun', 1), ('peeling', 1), ('angry', 1), ('blond', 1), ('frowzy', 1), ('shoes', 1), ('worn', 1), ('practically', 1), ('protection', 1), ('bruised', 1), ('bleeding', 1), ('sliding', 1), ('amazingly', 1), ('relaxed', 1), ('conscious', 1), ('lingering', 1), ('suspicion', 1), ('besides', 1), ('sweet', 1), ('attracted', 1), ('beside', 1), ('blonde', 1), ('blue', 1), ('faint', 1), ('similarity', 1), ('shelf', 1), ('edge', 1), ('mouth', 1), ('drank', 1), ('greedily', 1), ('lowered', 1), ('wondering', 1), ('nester', 1), ('families', 1), ('starving', 1), ('returned', 1), ('buckets', 1), ('copper', 1), ('boiler', 1), ('stove', 1), ('billy', 1), ('eaten', 1), ('days', 1), ('wyoming', 1), ('five', 1), ('relieved', 1), ('ranchers', 1), ('six', 1), ('empty', 1), ('starved', 1), ('lucky', 1), ('job', 1), ('year', 1), ('cook', 1), ('dismissed', 1), ('haunted', 1), ('killer', 1), ('shaved', 1), ('weeks', 1), ('sparse', 1), ('pathetic', 1), ('woebegone', 1), ('idiot', 1), ('morning', 1), ('eagerly', 1), ('mucking', 1), ('mine', 1), ('san', 1), ('juan', 1), ('cooked', 1), ('restaurant', 1), ('dejectedly', 1), ('box', 1), ('wash', 1), ('rubbed', 1), ('stretched', 1), ('mess', 1), ('alarmed', 1), ('rafter', 1), ('aj', 1), ('staggered', 1), ('arm', 1), ('hungry', 1), ('cried', 1), ('food', 1), ('satisfied', 1), ('lord', 1), ('looks', 1), ('fools', 1), ('innocents', 1), ('laughed', 1), ('dishes', 1), ('tub', 1), ('nail', 1), ('lot', 1), ('doc', 1), ('quickly', 1), ('expect', 1), ('needs', 1), ('scissors', 1), ('spare', 1), ('blankets', 1), ('closing', 1), ('chances', 1), ('pregnant', 1), ('sleeping', 1), ('embarrassed', 1), ('savvy', 1), ('jobs', 1), ('pair', 1), ('kids', 1), ('sentry', 1), ('showing', 1), ('signs', 1), ('reviving', 1), ('enfield', 1), ('navy', 1), ('scabbard', 1), ('partially', 1), ('uniformed', 1), ('cavalry', 1), ('tunic', 1), ('stripped', 1), ('donned', 1), ('tied', 1), ('gagged', 1), ('building', 1), ('unsteady', 1), ('bandage', 1), ('rushed', 1), ('breathed', 1), ('blustered', 1), ('brave', 1), ('silenced', 1), ('grab', 1), ('bunch', 1), ('debated', 1), ('trying', 1), ('decide', 1), ('offered', 1), ('none', 1), ('sake', 1), ('remained', 1), ('showed', 1), ('duty', 1), ('guarding', 1), ('precaution', 1), ('mounts', 1), ('available', 1), ('emergency', 1), ('cut', 1), ('ladies', 1), ('hell', 1), ('leather', 1), ('barricade', 1), ('clung', 1), ('dabbing', 1), ('kiss', 1), ('unutterably', 1), ('tenderness', 1), ('weep', 1), ('released', 1), ('snorted', 1), ('naked', 1), ('slugging', 1), ('sentimental', 1), ('scenes', 1), ('foolish', 1), ('regret', 1), ('tell', 1), ('spectacle', 1), ('blind', 1), ('affections', 1), ('sop', 1), ('pride', 1), ('brass', 1), ('holding', 1), ('concealed', 1), ('pierced', 1), ('wings', 1), ('wing', 1), ('mass', 1), ('tethered', 1), ('army', 1), ('style', 1), ('stable', 1), ('lines', 1), ('spoke', 1), ('bill', 1), ('located', 1), ('walking', 1), ('became', 1), ('suspicious', 1), ('straightened', 1), ('lax', 1), ('slouch', 1), ('luck', 1), ('instinctively', 1), ('parried', 1), ('veer', 1), ('balance', 1), ('managed', 1), ('bat', 1), ('exploded', 1), ('backlash', 1), ('connected', 1), ('solidly', 1), ('temple', 1), ('felling', 1), ('explosion', 1), ('crashed', 1), ('echoes', 1), ('rolling', 1), ('startled', 1), ('rearing', 1), ('tethers', 1), ('rushing', 1), ('saddled', 1), ('picketed', 1), ('nearby', 1), ('handy', 1), ('slashed', 1), ('resisted', 1), ('push', 1), ('protested', 1), ('dammit', 1), ('frantically', 1), ('lighter', 1), ('feds', 1), ('fort', 1), ('hang', 1), ('bodily', 1), ('thrust', 1), ('telling', 1), ('panted', 1), ('favor', 1), ('save', 1), ('daylight', 1), ('chase', 1), ('whack', 1), ('kicked', 1), ('motion', 1), ('sad', 1), ('gallop', 1), ('slashing', 1), ('ropes', 1), ('screeching', 1), ('war', 1), ('whoop', 1), ('total', 1), ('darted', 1), ('flight', 1), ('thundered', 1), ('heading', 1), ('ridges', 1), ('swarming', 1), ('west', 1), ('enclosure', 1), ('scuttled', 1), ('shout', 1), ('repeated', 1), ('departing', 1), ('guns', 1), ('hardly', 1), ('clad', 1), ('bawled', 1), ('questions', 1), ('uproar', 1), ('explode', 1), ('imagined', 1), ('dash', 1), ('area', 1), ('standing', 1), ('join', 1), ('confused', 1), ('activity', 1), ('ducking', 1), ('stacked', 1), ('brace', 1), ('belts', 1), ('pouches', 1), ('containing', 1), ('canisters', 1), ('contained', 1), ('pallet', 1), ('bag', 1), ('shouldering', 1), ('load', 1), ('looting', 1), ('minute', 1), ('vicinity', 1), ('hoods', 1), ('inspiration', 1), ('bundle', 1), ('snatching', 1), ('shattered', 1), ('globe', 1), ('bursting', 1), ('paper', 1), ('nearest', 1), ('contents', 1), ('shouldered', 1), ('tossed', 1), ('wick', 1), ('raced', 1), ('gushed', 1), ('brilliantly', 1), ('sighted', 1), ('truth', 1), ('snap', 1), ('projected', 1), ('pack', 1), ('spun', 1), ('recovered', 1), ('safety', 1), ('thigh', 1), ('floundered', 1), ('interior', 1), ('bounced', 1), ('slammed', 1), ('portal', 1), ('chewing', 1), ('whipsawed', 1), ('oak', 1), ('iron', 1), ('hinges', 1), ('danger', 1), ('crossbars', 1), ('rolled', 1), ('hovered', 1), ('shield', 1), ('thudding', 1), ('loophole', 1), ('charging', 1), ('snatched', 1), ('wheeler', 1), ('rush', 1), ('cover', 1), ('mudwagon', 1), ('blaze', 1), ('spreading', 1), ('gawdamighty', 1), ('screeched', 1), ('goes', 1), ('grub', 1), ('shouted', 1), ('frantic', 1), ('pails', 1), ('containers', 1), ('increasing', 1), ('panic', 1), ('hats', 1), ('ludicrous', 1), ('flames', 1), ('drove', 1), ('roof', 1), ('command', 1), ('buckle', 1), ('drag', 1), ('lew', 1), ('hustle', 1), ('erupted', 1), ('massive', 1), ('pillar', 1), ('sizable', 1), ('coach', 1), ('saving', 1), ('glow', 1), ('openings', 1), ('windows', 1), ('examine', 1), ('wound', 1), ('knee', 1), ('inflicting', 1), ('ugly', 1), ('gash', 1), ('forming', 1), ('pool', 1), ('blood', 1), ('bone', 1), ('ripped', 1), ('strips', 1), ('clothing', 1), ('injury', 1), ('tested', 1), ('leg', 1), ('hobble', 1), ('result', 1), ('distinction', 1), ('confusion', 1), ('basic', 1), ('employed', 1), ('direct', 1), ('axiomatic', 1), ('context', 1), ('transitional', 1), ('stage', 1), ('connotations', 1), ('usage', 1), ('revised', 1), ('meanings', 1), ('user', 1), ('revisions', 1), ('rejections', 1), ('understandings', 1), ('correspond', 1), ('universal', 1), ('populous', 1), ('highly', 1), ('educated', 1), ('true', 1), ('demons', 1), ('fairies', 1), ('angels', 1), ('host', 1), ('spiritual', 1), ('experiential', 1), ('western', 1), ('rocks', 1), ('directly', 1), ('realities', 1), ('cause', 1), ('difficulty', 1), ('naturally', 1), ('spontaneously', 1), ('progress', 1), ('gradual', 1), ('replacement', 1), ('categories', 1), ('large', 1), ('emptied', 1), ('previously', 1), ('program', 1), ('performed', 1), ('service', 1), ('due', 1), ('credit', 1), ('objectification', 1), ('superstition', 1), ('support', 1), ('competent', 1), ('element', 1), ('arises', 1), ('object', 1), ('attention', 1), ('concrete', 1), ('peopled', 1), ('status', 1), ('enjoyed', 1), ('actual', 1), ('external', 1), ('unquestionably', 1), ('misconceptions', 1), ('removed', 1), ('extraneous', 1), ('illusory', 1), ('sources', 1), ('undesirable', 1), ('superstitions', 1), ('indeed', 1), ('valuable', 1), ('gains', 1), ('development', 1), ('unmixed', 1), ('blessing', 1), ('debunking', 1), ('successful', 1), ('thorough', 1), ('clean', 1), ('wholly', 1), ('dealing', 1), ('conceptualization', 1), ('defective', 1), ('raw', 1), ('excesses', 1), ('remains', 1), ('inquiring', 1), ('framework', 1), ('organize', 1), ('apprehend', 1), ('sector', 1), ('arthur', 1), ('crucible', 1), ('deals', 1), ('witch', 1), ('trials', 1), ('opens', 1), ('introduced', 1), ('puritan', 1), ('eighteenth', 1), ('quaint', 1), ('provides', 1), ('immediate', 1), ('scene', 1), ('conversation', 1), ('creates', 1), ('atmosphere', 1), ('suggesting', 1), ('usual', 1), ('mixture', 1), ('pleasures', 1), ('foibles', 1), ('irritations', 1), ('concerns', 1), ('village', 1), ('occasion', 1), ('uneasy', 1), ('disturbed', 1), ('sit', 1), ('ease', 1), ('perspective', 1), ('believes', 1), ('things', 1), ('enjoy', 1), ('seriousness', 1), ('teenage', 1), ('williams', 1), ('sharply', 1), ('questioned', 1), ('minister', 1), ('uncle', 1), ('reverend', 1), ('samuel', 1), ('affair', 1), ('girls', 1), ('contact', 1), ('involved', 1), ('entity', 1), ('demon', 1), ('flying', 1), ('subtly', 1), ('awful', 1), ('ominously', 1), ('gathering', 1), ('engulfs', 1), ('everyone', 1), ('saint', 1), ('sinner', 1), ('epidemic', 1), ('starting', 1), ('spreads', 1), ('inexorably', 1), ('dreadfully', 1), ('growing', 1), ('virulence', 1), ('infected', 1), ('terribly', 1), ('unavoidably', 1), ('misery', 1), ('moral', 1), ('disintegration', 1), ('destruction', 1), ('exposure', 1), ('active', 1), ('manifestation', 1), ('evokes', 1), ('asks', 1), ('works', 1), ('answer', 1), ('employ', 1), ('designate', 1), ('identify', 1), ('john', 1), ('proctor', 1), ('expresses', 1), ('boot', 1), ('lucifer', 1), ('filthy', 1), ('tragic', 1), ('irony', 1), ('combatted', 1), ('formulae', 1), ('books', 1), ('prevented', 1), ('detecting', 1), ('marvel', 1), ('blindness', 1), ('different', 1), ('unable', 1), ('name', 1), ('cope', 1), ('dare', 1), ('speak', 1), ('imply', 1), ('commitment', 1), ('discredited', 1), ('proved', 1), ('miller', 1), ('uncertain', 1), ('score', 1), ('commentary', 1), ('inserted', 1), ('published', 1), ('text', 1), ('act', 1), ('underworld', 1), ('lieutenants', 1), ('discredit', 1), ('minds', 1), ('convinced', 1), ('society', 1), ('ken', 1), ('superficial', 1), ('change', 1), ('horns', 1), ('gripped', 1), ('diametrically', 1), ('opposed', 1), ('absolutes', 1), ('negative', 1), ('attributes', 1), ('relative', 1), ('phenomenon', 1), ('reserved', 1), ('physical', 1), ('sciences', 1), ('steady', 1), ('methodical', 1), ('inculcation', 1), ('humanity', 1), ('worthlessness', 1), ('redeemed', 1), ('necessity', 1), ('designed', 1), ('whip', 1), ('surrender', 1), ('intend', 1), ('read', 1), ('writing', 1), ('nevertheless', 1), ('potency', 1), ('casts', 1), ('presence', 1), ('accounting', 1), ('analyze', 1), ('wickedness', 1), ('individual', 1), ('produce', 1), ('cumulative', 1), ('account', 1), ('integral', 1), ('abounding', 1), ('vigor', 1), ('explain', 1), ('strange', 1), ('numinous', 1), ('presentness', 1), ('emerges', 1), ('spite', 1), ('convictions', 1), ('widely', 1), ('universally', 1), ('draws', 1), ('cohesiveness', 1), ('permanence', 1), ('example', 1), ('surely', 1), ('acknowledge', 1), ('assign', 1), ('substance', 1), ('occupying', 1), ('exists', 1), ('objective', 1), ('experienced', 1), ('nazism', 1), ('communism', 1), ('street', 1), ('gang', 1), ('football', 1), ('team', 1), ('rotary', 1), ('ku', 1), ('klux', 1), ('klan', 1), ('identity', 1), ('searching', 1), ('clues', 1), ('lead', 1), ('apprehension', 1), ('connection', 1), ('likely', 1), ('prove', 1), ('fruitful', 1), ('primarily', 1), ('causes', 1), ('cohere', 1), ('source', 1), ('drawing', 1), ('drawn', 1), ('prospers', 1), ('identical', 1), ('distinct', 1), ('separable', 1), ('characteristic', 1), ('givenness', 1), ('create', 1), ('waiting', 1), ('possess', 1), ('operative', 1), ('preserve', 1), ('future', 1), ('recruits', 1), ('content', 1), ('presented', 1), ('understanded', 1), ('forgotten', 1), ('goals', 1), ('perennial', 1), ('task', 1), ('abandon', 1), ('manner', 1), ('representation', 1), ('absurd', 1), ('notion', 1), ('entails', 1), ('expurgation', 1), ('misrepresents', 1), ('mythology', 1), ('expressing', 1), ('mode', 1), ('proper', 1), ('presenting', 1), ('understanding', 1), ('responsibly', 1), ('symbols', 1), ('ciphers', 1), ('constantly', 1), ('interpreted', 1), ('nonmythological', 1), ('argues', 1), ('overestimates', 1), ('intellectual', 1), ('supposed', 1), ('accepting', 1), ('unconvincing', 1), ('definition', 1), ('strictly', 1), ('adhered', 1), ('interesting', 1), ('done', 1), ('pronouncements', 1), ('overwhelming', 1), ('exaggerate', 1), ('necessary', 1), ('urban', 1), ('centers', 1), ('admittedly', 1), ('estranged', 1), ('conventional', 1), ('communicated', 1), ('heart', 1), ('attested', 1), ('industrial', 1), ('technological', 1), ('revolutions', 1), ('corresponding', 1), ('changes', 1), ('picture', 1), ('profundity', 1), ('disclosed', 1), ('exist', 1), ('striking', 1), ('rapidity', 1), ('marginal', 1), ('especially', 1), ('generation', 1), ('suburban', 1), ('class', 1), ('counseling', 1), ('encounters', 1), ('group', 1), ('attempts', 1), ('insubstantial', 1), ('mythologies', 1), ('fundamentalist', 1), ('painfully', 1), ('obvious', 1), ('evidenced', 1), ('extreme', 1), ('observed', 1), ('churches', 1), ('truly', 1), ('adequate', 1), ('various', 1), ('folk', 1), ('religion', 1), ('current', 1), ('explanation', 1), ('norman', 1), ('vincent', 1), ('cult', 1), ('reassurance', 1), ('types', 1), ('purely', 1), ('cultural', 1), ('pundits', 1), ('suspected', 1), ('latent', 1), ('nearly', 1), ('claiming', 1), ('population', 1), ('tends', 1), ('complete', 1), ('indifference', 1), ('message', 1), ('sin', 1), ('grace', 1), ('certain', 1), ('churchmen', 1), ('fulminate', 1), ('flock', 1), ('crowd', 1), ('solace', 1), ('castigation', 1), ('wise', 1), ('corinthians', 1), ('luxury', 1), ('smug', 1), ('indigation', 1), ('assuming', 1), ('folly', 1), ('implied', 1), ('ways', 1), ('alienate', 1), ('gifts', 1), ('mission', 1), ('increasingly', 1), ('precarious', 1), ('ancient', 1), ('venerable', 1), ('derives', 1), ('greeks', 1), ('creation', 1), ('accomplishing', 1), ('analogy', 1), ('requiring', 1), ('scripture', 1), ('everywhere', 1), ('reminds', 1), ('fortiori', 1), ('ill', 1), ('talents', 1), ('providence', 1), ('presents', 1), ('exactly', 1), ('assume', 1), ('preach', 1), ('translate', 1), ('depriving', 1), ('continued', 1), ('success', 1), ('witness', 1), ('depends', 1), ('arguing', 1), ('obviously', 1), ('achieved', 1), ('firmly', 1), ('presently', 1), ('forth', 1), ('reasons', 1), ('conviction', 1), ('otherwise', 1), ('differently', 1), ('becoming', 1), ('follower', 1), ('corporis', 1), ('intellectus', 1), ('unpaid', 1), ('stressed', 1), ('absolutely', 1), ('essential', 1), ('concluding', 1), ('dietrich', 1), ('bonhoeffer', 1), ('process', 1), ('represents', 1), ('unambiguous', 1), ('gain', 1), ('marked', 1), ('estrangement', 1), ('depths', 1), ('cost', 1), ('maturation', 1), ('richly', 1), ('benefit', 1), ('despise', 1), ('irreversible', 1), ('honest', 1), ('live', 1), ('fit', 1), ('controversy', 1), ('rate', 1), ('beginning', 1), ('period', 1), ('aligned', 1), ('protestant', 1), ('counts', 1), ('schleiermacher', 1), ('ritschl', 1), ('herrmann', 1), ('harnack', 1), ('troeltsch', 1), ('recently', 1), ('schweitzer', 1), ('belong', 1), ('number', 1), ('bushnell', 1), ('clarke', 1), ('rauschenbusch', 1), ('macintosh', 1), ('brothers', 1), ('niebuhr', 1), ('tillich', 1), ('neoliberal', 1), ('movement', 1), ('developed', 1), ('university', 1), ('indebted', 1), ('philosophically', 1), ('alfred', 1), ('whitehead', 1), ('diverse', 1), ('essentially', 1), ('belonged', 1), ('earnest', 1), ('concerned', 1), ('squarely', 1), ('apostolic', 1), ('exhibited', 1), ('willingness', 1), ('sacrifice', 1), ('modernity', 1), ('insisted', 1), ('considering', 1), ('treason', 1), ('saying', 1), ('enduring', 1), ('achievement', 1), ('criticize', 1), ('constructive', 1), ('formulations', 1), ('strive', 1), ('liberalism', 1), ('affirming', 1), ('decisive', 1), ('breaking', 1), ('deadlock', 1), ('variously', 1), ('participants', 1), ('demythologizing', 1), ('unconditionally', 1), ('clearly', 1), ('untenable', 1), ('whereas', 1), ('structurally', 1), ('inconsistent', 1), ('indefensible', 1), ('formal', 1), ('karl', 1), ('involves', 1), ('rejection', 1), ('qualification', 1), ('invalidated', 1), ('considered', 1), ('follows', 1), ('provided', 1), ('possibilities', 1), ('viewpoint', 1), ('continent', 1), ('fritz', 1), ('significant', 1), ('implications', 1), ('develop', 1), ('greater', 1), ('length', 1), ('show', 1), ('possibly', 1), ('typically', 1), ('sufficient', 1), ('principle', 1), ('conceived', 1), ('exclude', 1), ('meaningless', 1), ('thus', 1), ('issue', 1), ('indifferent', 1), ('judgment', 1), ('hence', 1), ('unimportant', 1), ('bit', 1), ('quantity', 1), ('excluded', 1), ('conceivable', 1), ('mutually', 1), ('exclusive', 1), ('positions', 1), ('pseudo', 1), ('analogous', 1), ('square', 1), ('second', 1), ('requires', 1), ('extended', 1), ('comment', 1), ('recalled', 1), ('section', 1), ('rests', 1), ('following', 1), ('thesis', 1), ('tenable', 1), ('rejects', 1), ('qualifies', 1), ('unconditioned', 1), ('accepts', 1), ('special', 1), ('hermeneutics', 1), ('method', 1), ('frees', 1), ('emphasis', 1), ('statements', 1)]\n",
            "['said', 'spirit', 'one', 'morgan', 'mike', 'could', 'two', 'men', 'man', 'world', 'would', 'us', 'back', 'way', 'community', 'time', 'much', 'horses', 'house', 'work', 'clayton', 'thought', 'experience', 'gavin', 'go', 'left', 'came', 'still', 'even', 'say', 'play', 'see', 'away', 'eyes', 'get', 'may', 'door', 'must', 'guerrillas', 'began', 'never', 'boy', 'saw', 'take', 'made', 'first', 'jones', 'dean', 'reality', 'hand', 'like', 'find', 'turned', 'running', 'girl', 'front', 'going', 'right', 'means', 'position']\n",
            "nombre de features: 60\n"
          ]
        }
      ]
    },
    {
      "cell_type": "code",
      "metadata": {
        "id": "aBFfMCGFQzUT"
      },
      "source": [
        "import pickle\n",
        "pickle.dump(features, open( \"My Drive/TekUp/TermsDesc.pickle\", \"wb\" ) )"
      ],
      "execution_count": null,
      "outputs": []
    },
    {
      "cell_type": "code",
      "metadata": {
        "id": "ya0tEKBzT4Gn"
      },
      "source": [
        "#changement des textes en TextCollection\n",
        "from nltk.text import TextCollection\n",
        "corpus = TextCollection([brown.words(fileids=['cn02']),brown.words(fileids=['cn01']),brown.words(fileids=['cn03']),brown.words(fileids=['cd01']),brown.words(fileids=['cd02'])])"
      ],
      "execution_count": null,
      "outputs": []
    },
    {
      "cell_type": "code",
      "metadata": {
        "colab": {
          "base_uri": "https://localhost:8080/"
        },
        "id": "KCc8zumSUZDc",
        "outputId": "0c81685c-57f4-44b3-9abb-a41f41025adf"
      },
      "source": [
        "print(len(corpus))\n",
        "print(corpus[:10])"
      ],
      "execution_count": null,
      "outputs": [
        {
          "output_type": "stream",
          "name": "stdout",
          "text": [
            "11758\n",
            "['Gavin', 'paused', 'wearily', '.', '``', 'You', \"can't\", 'stay', 'here', 'with']\n"
          ]
        }
      ]
    },
    {
      "cell_type": "code",
      "metadata": {
        "id": "p35OA_3UMBUE"
      },
      "source": [
        "#cette fonction permet une pondération TF_IDF du corpus\n",
        "def ponderation(doc_words,corpus,features):\n",
        "  doc_pond = []\n",
        "  for term in features:\n",
        "    doc_pond.append(corpus.tf_idf(term,doc_words))\n",
        "  return doc_pond"
      ],
      "execution_count": null,
      "outputs": []
    },
    {
      "cell_type": "code",
      "metadata": {
        "id": "agXuKeyvXYS1"
      },
      "source": [
        "#Représenter tous les documents par leurs vecteurs tf_idf\n",
        "corpus_pond = {}\n",
        "for doc in ['cn02','cn01','cn03','cd01','cd02']:\n",
        "  corpus_pond[doc] = ponderation(brown.words(fileids = [doc]),corpus,features)\n"
      ],
      "execution_count": null,
      "outputs": []
    },
    {
      "cell_type": "code",
      "metadata": {
        "colab": {
          "base_uri": "https://localhost:8080/"
        },
        "id": "FKlXVe7ntB0O",
        "outputId": "590ad002-090e-4750-d87a-e187e696352e"
      },
      "source": [
        "print(len(corpus_pond['cn02']))"
      ],
      "execution_count": null,
      "outputs": [
        {
          "output_type": "stream",
          "name": "stdout",
          "text": [
            "60\n"
          ]
        }
      ]
    },
    {
      "cell_type": "code",
      "metadata": {
        "id": "bEyP_xNpsc99"
      },
      "source": [
        "data = pd.DataFrame(corpus_pond,columns=['cn02','cn01','cn03','cd01','cd02'])"
      ],
      "execution_count": null,
      "outputs": []
    },
    {
      "cell_type": "code",
      "metadata": {
        "colab": {
          "base_uri": "https://localhost:8080/",
          "height": 363
        },
        "id": "sbwcQK7quAsg",
        "outputId": "ef31c4b3-3e15-437a-ce69-547de8235bfa"
      },
      "source": [
        "data.head(10)"
      ],
      "execution_count": null,
      "outputs": [
        {
          "output_type": "execute_result",
          "data": {
            "text/html": [
              "<div>\n",
              "<style scoped>\n",
              "    .dataframe tbody tr th:only-of-type {\n",
              "        vertical-align: middle;\n",
              "    }\n",
              "\n",
              "    .dataframe tbody tr th {\n",
              "        vertical-align: top;\n",
              "    }\n",
              "\n",
              "    .dataframe thead th {\n",
              "        text-align: right;\n",
              "    }\n",
              "</style>\n",
              "<table border=\"1\" class=\"dataframe\">\n",
              "  <thead>\n",
              "    <tr style=\"text-align: right;\">\n",
              "      <th></th>\n",
              "      <th>cn02</th>\n",
              "      <th>cn01</th>\n",
              "      <th>cn03</th>\n",
              "      <th>cd01</th>\n",
              "      <th>cd02</th>\n",
              "    </tr>\n",
              "  </thead>\n",
              "  <tbody>\n",
              "    <tr>\n",
              "      <th>said</th>\n",
              "      <td>0.000749</td>\n",
              "      <td>0.002188</td>\n",
              "      <td>0.001125</td>\n",
              "      <td>0.000000</td>\n",
              "      <td>0.000096</td>\n",
              "    </tr>\n",
              "    <tr>\n",
              "      <th>spirit</th>\n",
              "      <td>0.000000</td>\n",
              "      <td>0.000000</td>\n",
              "      <td>0.000000</td>\n",
              "      <td>0.026182</td>\n",
              "      <td>0.000000</td>\n",
              "    </tr>\n",
              "    <tr>\n",
              "      <th>one</th>\n",
              "      <td>0.000000</td>\n",
              "      <td>0.000000</td>\n",
              "      <td>0.000000</td>\n",
              "      <td>0.000000</td>\n",
              "      <td>0.000000</td>\n",
              "    </tr>\n",
              "    <tr>\n",
              "      <th>morgan</th>\n",
              "      <td>0.000000</td>\n",
              "      <td>0.000000</td>\n",
              "      <td>0.000000</td>\n",
              "      <td>0.000000</td>\n",
              "      <td>0.000000</td>\n",
              "    </tr>\n",
              "    <tr>\n",
              "      <th>mike</th>\n",
              "      <td>0.000000</td>\n",
              "      <td>0.000000</td>\n",
              "      <td>0.000000</td>\n",
              "      <td>0.000000</td>\n",
              "      <td>0.000000</td>\n",
              "    </tr>\n",
              "    <tr>\n",
              "      <th>could</th>\n",
              "      <td>0.000000</td>\n",
              "      <td>0.000000</td>\n",
              "      <td>0.000000</td>\n",
              "      <td>0.000000</td>\n",
              "      <td>0.000000</td>\n",
              "    </tr>\n",
              "    <tr>\n",
              "      <th>two</th>\n",
              "      <td>0.000000</td>\n",
              "      <td>0.000000</td>\n",
              "      <td>0.000000</td>\n",
              "      <td>0.000000</td>\n",
              "      <td>0.000000</td>\n",
              "    </tr>\n",
              "    <tr>\n",
              "      <th>men</th>\n",
              "      <td>0.001311</td>\n",
              "      <td>0.000000</td>\n",
              "      <td>0.000094</td>\n",
              "      <td>0.000202</td>\n",
              "      <td>0.000574</td>\n",
              "    </tr>\n",
              "    <tr>\n",
              "      <th>man</th>\n",
              "      <td>0.000000</td>\n",
              "      <td>0.000000</td>\n",
              "      <td>0.000000</td>\n",
              "      <td>0.000000</td>\n",
              "      <td>0.000000</td>\n",
              "    </tr>\n",
              "    <tr>\n",
              "      <th>world</th>\n",
              "      <td>0.000000</td>\n",
              "      <td>0.000000</td>\n",
              "      <td>0.000000</td>\n",
              "      <td>0.005383</td>\n",
              "      <td>0.003141</td>\n",
              "    </tr>\n",
              "  </tbody>\n",
              "</table>\n",
              "</div>"
            ],
            "text/plain": [
              "            cn02      cn01      cn03      cd01      cd02\n",
              "said    0.000749  0.002188  0.001125  0.000000  0.000096\n",
              "spirit  0.000000  0.000000  0.000000  0.026182  0.000000\n",
              "one     0.000000  0.000000  0.000000  0.000000  0.000000\n",
              "morgan  0.000000  0.000000  0.000000  0.000000  0.000000\n",
              "mike    0.000000  0.000000  0.000000  0.000000  0.000000\n",
              "could   0.000000  0.000000  0.000000  0.000000  0.000000\n",
              "two     0.000000  0.000000  0.000000  0.000000  0.000000\n",
              "men     0.001311  0.000000  0.000094  0.000202  0.000574\n",
              "man     0.000000  0.000000  0.000000  0.000000  0.000000\n",
              "world   0.000000  0.000000  0.000000  0.005383  0.003141"
            ]
          },
          "metadata": {},
          "execution_count": 29
        }
      ]
    },
    {
      "cell_type": "code",
      "metadata": {
        "colab": {
          "base_uri": "https://localhost:8080/"
        },
        "id": "aimHAJ51uP5E",
        "outputId": "acf20a1e-8fa3-4e10-cd3d-dade629d7e01"
      },
      "source": [
        "#Transformer les features dans un dictionnaire\n",
        "for i in range(60):\n",
        "  dic[i] = features[i]\n",
        "\n",
        "print(len(dic))"
      ],
      "execution_count": null,
      "outputs": [
        {
          "output_type": "stream",
          "name": "stdout",
          "text": [
            "60\n"
          ]
        }
      ]
    },
    {
      "cell_type": "code",
      "metadata": {
        "id": "YH000lnduGa-"
      },
      "source": [
        "data.rename(index = dic, inplace = True)"
      ],
      "execution_count": null,
      "outputs": []
    },
    {
      "cell_type": "code",
      "metadata": {
        "colab": {
          "base_uri": "https://localhost:8080/",
          "height": 206
        },
        "id": "yVMl-m2yJVIj",
        "outputId": "72618d6e-46ba-44c6-a7eb-209ffa8e1607"
      },
      "source": [
        "data.head()"
      ],
      "execution_count": null,
      "outputs": [
        {
          "output_type": "execute_result",
          "data": {
            "text/html": [
              "<div>\n",
              "<style scoped>\n",
              "    .dataframe tbody tr th:only-of-type {\n",
              "        vertical-align: middle;\n",
              "    }\n",
              "\n",
              "    .dataframe tbody tr th {\n",
              "        vertical-align: top;\n",
              "    }\n",
              "\n",
              "    .dataframe thead th {\n",
              "        text-align: right;\n",
              "    }\n",
              "</style>\n",
              "<table border=\"1\" class=\"dataframe\">\n",
              "  <thead>\n",
              "    <tr style=\"text-align: right;\">\n",
              "      <th></th>\n",
              "      <th>cn02</th>\n",
              "      <th>cn01</th>\n",
              "      <th>cn03</th>\n",
              "      <th>cd01</th>\n",
              "      <th>cd02</th>\n",
              "    </tr>\n",
              "  </thead>\n",
              "  <tbody>\n",
              "    <tr>\n",
              "      <th>said</th>\n",
              "      <td>0.000749</td>\n",
              "      <td>0.002188</td>\n",
              "      <td>0.001125</td>\n",
              "      <td>0.000000</td>\n",
              "      <td>0.000096</td>\n",
              "    </tr>\n",
              "    <tr>\n",
              "      <th>spirit</th>\n",
              "      <td>0.000000</td>\n",
              "      <td>0.000000</td>\n",
              "      <td>0.000000</td>\n",
              "      <td>0.026182</td>\n",
              "      <td>0.000000</td>\n",
              "    </tr>\n",
              "    <tr>\n",
              "      <th>one</th>\n",
              "      <td>0.000000</td>\n",
              "      <td>0.000000</td>\n",
              "      <td>0.000000</td>\n",
              "      <td>0.000000</td>\n",
              "      <td>0.000000</td>\n",
              "    </tr>\n",
              "    <tr>\n",
              "      <th>morgan</th>\n",
              "      <td>0.000000</td>\n",
              "      <td>0.000000</td>\n",
              "      <td>0.000000</td>\n",
              "      <td>0.000000</td>\n",
              "      <td>0.000000</td>\n",
              "    </tr>\n",
              "    <tr>\n",
              "      <th>mike</th>\n",
              "      <td>0.000000</td>\n",
              "      <td>0.000000</td>\n",
              "      <td>0.000000</td>\n",
              "      <td>0.000000</td>\n",
              "      <td>0.000000</td>\n",
              "    </tr>\n",
              "  </tbody>\n",
              "</table>\n",
              "</div>"
            ],
            "text/plain": [
              "            cn02      cn01      cn03      cd01      cd02\n",
              "said    0.000749  0.002188  0.001125  0.000000  0.000096\n",
              "spirit  0.000000  0.000000  0.000000  0.026182  0.000000\n",
              "one     0.000000  0.000000  0.000000  0.000000  0.000000\n",
              "morgan  0.000000  0.000000  0.000000  0.000000  0.000000\n",
              "mike    0.000000  0.000000  0.000000  0.000000  0.000000"
            ]
          },
          "metadata": {},
          "execution_count": 28
        }
      ]
    },
    {
      "cell_type": "code",
      "metadata": {
        "id": "llND6xN0NjTo",
        "colab": {
          "base_uri": "https://localhost:8080/"
        },
        "outputId": "5943d832-10aa-441a-d660-a743812b6eb8"
      },
      "source": [
        "#data.to_pickle(\"My Drive/TekUp/data.pkl\")\n",
        "s=\"Human machine interface for lab abc computer applications\"\n",
        "print(s.lower().split())"
      ],
      "execution_count": null,
      "outputs": [
        {
          "output_type": "stream",
          "name": "stdout",
          "text": [
            "['human', 'machine', 'interface', 'for', 'lab', 'abc', 'computer', 'applications']\n"
          ]
        }
      ]
    },
    {
      "cell_type": "code",
      "metadata": {
        "id": "z6_xW2zJ3fdV"
      },
      "source": [
        "documents = [\"Human machine interface for lab abc computer applications\",\n",
        "              \"A survey of user opinion of computer system response time\",\n",
        "              \"The EPS user interface management system\",\n",
        "              \"System and human system engineering testing of EPS\",\n",
        "              \"Relation of user perceived response time to error measurement\",\n",
        "              \"The generation of random binary unordered trees\",\n",
        "              \"The intersection graph of paths in trees\",\n",
        "              \"Graph minors IV Widths of trees and well quasi ordering\",\n",
        "              \"Graph minors A survey\"]\n",
        "\n",
        "\n",
        "\n",
        "#texts = [[word for word in document.lower().split() if word not in stopwords.words('english')] for document in documents]\n",
        "#all_words =[]\n",
        "#for w in texts:\n",
        "#  all_words.extend(w)\n",
        "#from nltk.probability import FreqDist\n",
        "#dist = FreqDist(all_words)\n",
        "\n",
        "#frq = dist.most_common()\n",
        "#terms = []\n",
        "#for w in frq:\n",
        "#  if w[1]>1:\n",
        "#    terms.append(w[0])\n",
        "\n",
        "\n",
        "#print(terms)\n",
        "#doc=[]\n",
        "#corpus_doc={}\n",
        "#construire un dataframe\n",
        "#for i, w in enumerate (texts):\n",
        "#  for t in terms:\n",
        " #   if t in w:\n",
        "  #    doc.append(t)\n",
        "  #corpus_doc[i]=' '.join(doc)"
      ],
      "execution_count": null,
      "outputs": []
    },
    {
      "cell_type": "code",
      "metadata": {
        "colab": {
          "base_uri": "https://localhost:8080/",
          "height": 223
        },
        "id": "CDZu_qmpAI2M",
        "outputId": "d989353d-1ff3-4739-ede0-25dfd284be36"
      },
      "source": [
        "print(corpus_doc)\n",
        "combined_corpus={key: [corpus_doc[key]] for (key, value) in corpus_doc.items()}\n",
        "data = pd.DataFrame(combined_corpus,columns=['a','b','c','d','e','f','g','h','i'])\n",
        "data.head(5)"
      ],
      "execution_count": null,
      "outputs": [
        {
          "output_type": "error",
          "ename": "NameError",
          "evalue": "ignored",
          "traceback": [
            "\u001b[0;31m---------------------------------------------------------------------------\u001b[0m",
            "\u001b[0;31mNameError\u001b[0m                                 Traceback (most recent call last)",
            "\u001b[0;32m<ipython-input-6-93fbe09a980a>\u001b[0m in \u001b[0;36m<module>\u001b[0;34m()\u001b[0m\n\u001b[0;32m----> 1\u001b[0;31m \u001b[0mprint\u001b[0m\u001b[0;34m(\u001b[0m\u001b[0mcorpus_doc\u001b[0m\u001b[0;34m)\u001b[0m\u001b[0;34m\u001b[0m\u001b[0;34m\u001b[0m\u001b[0m\n\u001b[0m\u001b[1;32m      2\u001b[0m \u001b[0mcombined_corpus\u001b[0m\u001b[0;34m=\u001b[0m\u001b[0;34m{\u001b[0m\u001b[0mkey\u001b[0m\u001b[0;34m:\u001b[0m \u001b[0;34m[\u001b[0m\u001b[0mcorpus_doc\u001b[0m\u001b[0;34m[\u001b[0m\u001b[0mkey\u001b[0m\u001b[0;34m]\u001b[0m\u001b[0;34m]\u001b[0m \u001b[0;32mfor\u001b[0m \u001b[0;34m(\u001b[0m\u001b[0mkey\u001b[0m\u001b[0;34m,\u001b[0m \u001b[0mvalue\u001b[0m\u001b[0;34m)\u001b[0m \u001b[0;32min\u001b[0m \u001b[0mcorpus_doc\u001b[0m\u001b[0;34m.\u001b[0m\u001b[0mitems\u001b[0m\u001b[0;34m(\u001b[0m\u001b[0;34m)\u001b[0m\u001b[0;34m}\u001b[0m\u001b[0;34m\u001b[0m\u001b[0;34m\u001b[0m\u001b[0m\n\u001b[1;32m      3\u001b[0m \u001b[0mdata\u001b[0m \u001b[0;34m=\u001b[0m \u001b[0mpd\u001b[0m\u001b[0;34m.\u001b[0m\u001b[0mDataFrame\u001b[0m\u001b[0;34m(\u001b[0m\u001b[0mcombined_corpus\u001b[0m\u001b[0;34m,\u001b[0m\u001b[0mcolumns\u001b[0m\u001b[0;34m=\u001b[0m\u001b[0;34m[\u001b[0m\u001b[0;34m'a'\u001b[0m\u001b[0;34m,\u001b[0m\u001b[0;34m'b'\u001b[0m\u001b[0;34m,\u001b[0m\u001b[0;34m'c'\u001b[0m\u001b[0;34m,\u001b[0m\u001b[0;34m'd'\u001b[0m\u001b[0;34m,\u001b[0m\u001b[0;34m'e'\u001b[0m\u001b[0;34m,\u001b[0m\u001b[0;34m'f'\u001b[0m\u001b[0;34m,\u001b[0m\u001b[0;34m'g'\u001b[0m\u001b[0;34m,\u001b[0m\u001b[0;34m'h'\u001b[0m\u001b[0;34m,\u001b[0m\u001b[0;34m'i'\u001b[0m\u001b[0;34m]\u001b[0m\u001b[0;34m)\u001b[0m\u001b[0;34m\u001b[0m\u001b[0;34m\u001b[0m\u001b[0m\n\u001b[1;32m      4\u001b[0m \u001b[0mdata\u001b[0m\u001b[0;34m.\u001b[0m\u001b[0mhead\u001b[0m\u001b[0;34m(\u001b[0m\u001b[0;36m5\u001b[0m\u001b[0;34m)\u001b[0m\u001b[0;34m\u001b[0m\u001b[0;34m\u001b[0m\u001b[0m\n",
            "\u001b[0;31mNameError\u001b[0m: name 'corpus_doc' is not defined"
          ]
        }
      ]
    },
    {
      "cell_type": "code",
      "metadata": {
        "colab": {
          "base_uri": "https://localhost:8080/"
        },
        "id": "iFBARmUh4W-y",
        "outputId": "cb74e7de-2aed-460c-c3af-af202f4b40dd"
      },
      "source": [
        "print(texts)"
      ],
      "execution_count": null,
      "outputs": [
        {
          "output_type": "stream",
          "name": "stdout",
          "text": [
            "[['human', 'machine', 'interface', 'lab', 'abc', 'computer', 'applications'], ['survey', 'user', 'opinion', 'computer', 'system', 'response', 'time'], ['eps', 'user', 'interface', 'management', 'system'], ['system', 'human', 'system', 'engineering', 'testing', 'eps'], ['relation', 'user', 'perceived', 'response', 'time', 'error', 'measurement'], ['generation', 'random', 'binary', 'unordered', 'trees'], ['intersection', 'graph', 'paths', 'trees'], ['graph', 'minors', 'iv', 'widths', 'trees', 'well', 'quasi', 'ordering'], ['graph', 'minors', 'survey']]\n"
          ]
        }
      ]
    },
    {
      "cell_type": "code",
      "metadata": {
        "colab": {
          "base_uri": "https://localhost:8080/"
        },
        "id": "Rq-j3jFZ38XY",
        "outputId": "7bac78c6-faa4-437e-e48a-3da71657571e"
      },
      "source": [
        "cv = CountVectorizer()\n",
        "data_cv = cv.fit_transform(documents)\n",
        "print(data_cv)\n",
        "print(cv.get_feature_names_out())"
      ],
      "execution_count": null,
      "outputs": [
        {
          "output_type": "stream",
          "name": "stdout",
          "text": [
            "  (0, 11)\t1\n",
            "  (0, 17)\t1\n",
            "  (0, 13)\t1\n",
            "  (0, 8)\t1\n",
            "  (0, 16)\t1\n",
            "  (0, 0)\t1\n",
            "  (0, 4)\t1\n",
            "  (0, 2)\t1\n",
            "  (1, 4)\t1\n",
            "  (1, 30)\t1\n",
            "  (1, 21)\t2\n",
            "  (1, 38)\t1\n",
            "  (1, 22)\t1\n",
            "  (1, 31)\t1\n",
            "  (1, 29)\t1\n",
            "  (1, 34)\t1\n",
            "  (2, 13)\t1\n",
            "  (2, 38)\t1\n",
            "  (2, 31)\t1\n",
            "  (2, 33)\t1\n",
            "  (2, 6)\t1\n",
            "  (2, 18)\t1\n",
            "  (3, 11)\t1\n",
            "  (3, 21)\t1\n",
            "  (3, 31)\t2\n",
            "  :\t:\n",
            "  (5, 9)\t1\n",
            "  (5, 27)\t1\n",
            "  (5, 3)\t1\n",
            "  (5, 37)\t1\n",
            "  (5, 36)\t1\n",
            "  (6, 21)\t1\n",
            "  (6, 33)\t1\n",
            "  (6, 36)\t1\n",
            "  (6, 14)\t1\n",
            "  (6, 10)\t1\n",
            "  (6, 24)\t1\n",
            "  (6, 12)\t1\n",
            "  (7, 21)\t1\n",
            "  (7, 1)\t1\n",
            "  (7, 36)\t1\n",
            "  (7, 10)\t1\n",
            "  (7, 20)\t1\n",
            "  (7, 15)\t1\n",
            "  (7, 40)\t1\n",
            "  (7, 39)\t1\n",
            "  (7, 26)\t1\n",
            "  (7, 23)\t1\n",
            "  (8, 30)\t1\n",
            "  (8, 10)\t1\n",
            "  (8, 20)\t1\n",
            "['abc' 'and' 'applications' 'binary' 'computer' 'engineering' 'eps'\n",
            " 'error' 'for' 'generation' 'graph' 'human' 'in' 'interface'\n",
            " 'intersection' 'iv' 'lab' 'machine' 'management' 'measurement' 'minors'\n",
            " 'of' 'opinion' 'ordering' 'paths' 'perceived' 'quasi' 'random' 'relation'\n",
            " 'response' 'survey' 'system' 'testing' 'the' 'time' 'to' 'trees'\n",
            " 'unordered' 'user' 'well' 'widths']\n"
          ]
        }
      ]
    },
    {
      "cell_type": "code",
      "metadata": {
        "colab": {
          "base_uri": "https://localhost:8080/"
        },
        "id": "Q2X81PSNHdLx",
        "outputId": "aeb3acf8-bfb3-4b6e-9dc4-4ba8d870dc8c"
      },
      "source": [
        "print(cv.vocabulary_.items())"
      ],
      "execution_count": null,
      "outputs": [
        {
          "output_type": "stream",
          "name": "stdout",
          "text": [
            "dict_items([('human', 11), ('machine', 17), ('interface', 13), ('for', 8), ('lab', 16), ('abc', 0), ('computer', 4), ('applications', 2), ('survey', 30), ('of', 21), ('user', 38), ('opinion', 22), ('system', 31), ('response', 29), ('time', 34), ('the', 33), ('eps', 6), ('management', 18), ('and', 1), ('engineering', 5), ('testing', 32), ('relation', 28), ('perceived', 25), ('to', 35), ('error', 7), ('measurement', 19), ('generation', 9), ('random', 27), ('binary', 3), ('unordered', 37), ('trees', 36), ('intersection', 14), ('graph', 10), ('paths', 24), ('in', 12), ('minors', 20), ('iv', 15), ('widths', 40), ('well', 39), ('quasi', 26), ('ordering', 23)])\n"
          ]
        }
      ]
    },
    {
      "cell_type": "code",
      "metadata": {
        "colab": {
          "base_uri": "https://localhost:8080/"
        },
        "id": "YRzXSwUFJvrm",
        "outputId": "828acf66-4a6c-4e04-905e-f6f0850b6e87"
      },
      "source": [
        "cv_df = pd.DataFrame(data_cv.toarray(), columns=cv.get_feature_names())"
      ],
      "execution_count": null,
      "outputs": [
        {
          "output_type": "stream",
          "name": "stderr",
          "text": [
            "/usr/local/lib/python3.7/dist-packages/sklearn/utils/deprecation.py:87: FutureWarning: Function get_feature_names is deprecated; get_feature_names is deprecated in 1.0 and will be removed in 1.2. Please use get_feature_names_out instead.\n",
            "  warnings.warn(msg, category=FutureWarning)\n"
          ]
        }
      ]
    },
    {
      "cell_type": "code",
      "metadata": {
        "colab": {
          "base_uri": "https://localhost:8080/",
          "height": 226
        },
        "id": "zofQsuWoJ5Xg",
        "outputId": "49213569-a78e-4428-f2cc-296c0227f4f8"
      },
      "source": [
        "cv_df.head()"
      ],
      "execution_count": null,
      "outputs": [
        {
          "output_type": "execute_result",
          "data": {
            "text/html": [
              "<div>\n",
              "<style scoped>\n",
              "    .dataframe tbody tr th:only-of-type {\n",
              "        vertical-align: middle;\n",
              "    }\n",
              "\n",
              "    .dataframe tbody tr th {\n",
              "        vertical-align: top;\n",
              "    }\n",
              "\n",
              "    .dataframe thead th {\n",
              "        text-align: right;\n",
              "    }\n",
              "</style>\n",
              "<table border=\"1\" class=\"dataframe\">\n",
              "  <thead>\n",
              "    <tr style=\"text-align: right;\">\n",
              "      <th></th>\n",
              "      <th>abc</th>\n",
              "      <th>and</th>\n",
              "      <th>applications</th>\n",
              "      <th>binary</th>\n",
              "      <th>computer</th>\n",
              "      <th>engineering</th>\n",
              "      <th>eps</th>\n",
              "      <th>error</th>\n",
              "      <th>for</th>\n",
              "      <th>generation</th>\n",
              "      <th>graph</th>\n",
              "      <th>human</th>\n",
              "      <th>in</th>\n",
              "      <th>interface</th>\n",
              "      <th>intersection</th>\n",
              "      <th>iv</th>\n",
              "      <th>lab</th>\n",
              "      <th>machine</th>\n",
              "      <th>management</th>\n",
              "      <th>measurement</th>\n",
              "      <th>minors</th>\n",
              "      <th>of</th>\n",
              "      <th>opinion</th>\n",
              "      <th>ordering</th>\n",
              "      <th>paths</th>\n",
              "      <th>perceived</th>\n",
              "      <th>quasi</th>\n",
              "      <th>random</th>\n",
              "      <th>relation</th>\n",
              "      <th>response</th>\n",
              "      <th>survey</th>\n",
              "      <th>system</th>\n",
              "      <th>testing</th>\n",
              "      <th>the</th>\n",
              "      <th>time</th>\n",
              "      <th>to</th>\n",
              "      <th>trees</th>\n",
              "      <th>unordered</th>\n",
              "      <th>user</th>\n",
              "      <th>well</th>\n",
              "      <th>widths</th>\n",
              "    </tr>\n",
              "  </thead>\n",
              "  <tbody>\n",
              "    <tr>\n",
              "      <th>0</th>\n",
              "      <td>1</td>\n",
              "      <td>0</td>\n",
              "      <td>1</td>\n",
              "      <td>0</td>\n",
              "      <td>1</td>\n",
              "      <td>0</td>\n",
              "      <td>0</td>\n",
              "      <td>0</td>\n",
              "      <td>1</td>\n",
              "      <td>0</td>\n",
              "      <td>0</td>\n",
              "      <td>1</td>\n",
              "      <td>0</td>\n",
              "      <td>1</td>\n",
              "      <td>0</td>\n",
              "      <td>0</td>\n",
              "      <td>1</td>\n",
              "      <td>1</td>\n",
              "      <td>0</td>\n",
              "      <td>0</td>\n",
              "      <td>0</td>\n",
              "      <td>0</td>\n",
              "      <td>0</td>\n",
              "      <td>0</td>\n",
              "      <td>0</td>\n",
              "      <td>0</td>\n",
              "      <td>0</td>\n",
              "      <td>0</td>\n",
              "      <td>0</td>\n",
              "      <td>0</td>\n",
              "      <td>0</td>\n",
              "      <td>0</td>\n",
              "      <td>0</td>\n",
              "      <td>0</td>\n",
              "      <td>0</td>\n",
              "      <td>0</td>\n",
              "      <td>0</td>\n",
              "      <td>0</td>\n",
              "      <td>0</td>\n",
              "      <td>0</td>\n",
              "      <td>0</td>\n",
              "    </tr>\n",
              "    <tr>\n",
              "      <th>1</th>\n",
              "      <td>0</td>\n",
              "      <td>0</td>\n",
              "      <td>0</td>\n",
              "      <td>0</td>\n",
              "      <td>1</td>\n",
              "      <td>0</td>\n",
              "      <td>0</td>\n",
              "      <td>0</td>\n",
              "      <td>0</td>\n",
              "      <td>0</td>\n",
              "      <td>0</td>\n",
              "      <td>0</td>\n",
              "      <td>0</td>\n",
              "      <td>0</td>\n",
              "      <td>0</td>\n",
              "      <td>0</td>\n",
              "      <td>0</td>\n",
              "      <td>0</td>\n",
              "      <td>0</td>\n",
              "      <td>0</td>\n",
              "      <td>0</td>\n",
              "      <td>2</td>\n",
              "      <td>1</td>\n",
              "      <td>0</td>\n",
              "      <td>0</td>\n",
              "      <td>0</td>\n",
              "      <td>0</td>\n",
              "      <td>0</td>\n",
              "      <td>0</td>\n",
              "      <td>1</td>\n",
              "      <td>1</td>\n",
              "      <td>1</td>\n",
              "      <td>0</td>\n",
              "      <td>0</td>\n",
              "      <td>1</td>\n",
              "      <td>0</td>\n",
              "      <td>0</td>\n",
              "      <td>0</td>\n",
              "      <td>1</td>\n",
              "      <td>0</td>\n",
              "      <td>0</td>\n",
              "    </tr>\n",
              "    <tr>\n",
              "      <th>2</th>\n",
              "      <td>0</td>\n",
              "      <td>0</td>\n",
              "      <td>0</td>\n",
              "      <td>0</td>\n",
              "      <td>0</td>\n",
              "      <td>0</td>\n",
              "      <td>1</td>\n",
              "      <td>0</td>\n",
              "      <td>0</td>\n",
              "      <td>0</td>\n",
              "      <td>0</td>\n",
              "      <td>0</td>\n",
              "      <td>0</td>\n",
              "      <td>1</td>\n",
              "      <td>0</td>\n",
              "      <td>0</td>\n",
              "      <td>0</td>\n",
              "      <td>0</td>\n",
              "      <td>1</td>\n",
              "      <td>0</td>\n",
              "      <td>0</td>\n",
              "      <td>0</td>\n",
              "      <td>0</td>\n",
              "      <td>0</td>\n",
              "      <td>0</td>\n",
              "      <td>0</td>\n",
              "      <td>0</td>\n",
              "      <td>0</td>\n",
              "      <td>0</td>\n",
              "      <td>0</td>\n",
              "      <td>0</td>\n",
              "      <td>1</td>\n",
              "      <td>0</td>\n",
              "      <td>1</td>\n",
              "      <td>0</td>\n",
              "      <td>0</td>\n",
              "      <td>0</td>\n",
              "      <td>0</td>\n",
              "      <td>1</td>\n",
              "      <td>0</td>\n",
              "      <td>0</td>\n",
              "    </tr>\n",
              "    <tr>\n",
              "      <th>3</th>\n",
              "      <td>0</td>\n",
              "      <td>1</td>\n",
              "      <td>0</td>\n",
              "      <td>0</td>\n",
              "      <td>0</td>\n",
              "      <td>1</td>\n",
              "      <td>1</td>\n",
              "      <td>0</td>\n",
              "      <td>0</td>\n",
              "      <td>0</td>\n",
              "      <td>0</td>\n",
              "      <td>1</td>\n",
              "      <td>0</td>\n",
              "      <td>0</td>\n",
              "      <td>0</td>\n",
              "      <td>0</td>\n",
              "      <td>0</td>\n",
              "      <td>0</td>\n",
              "      <td>0</td>\n",
              "      <td>0</td>\n",
              "      <td>0</td>\n",
              "      <td>1</td>\n",
              "      <td>0</td>\n",
              "      <td>0</td>\n",
              "      <td>0</td>\n",
              "      <td>0</td>\n",
              "      <td>0</td>\n",
              "      <td>0</td>\n",
              "      <td>0</td>\n",
              "      <td>0</td>\n",
              "      <td>0</td>\n",
              "      <td>2</td>\n",
              "      <td>1</td>\n",
              "      <td>0</td>\n",
              "      <td>0</td>\n",
              "      <td>0</td>\n",
              "      <td>0</td>\n",
              "      <td>0</td>\n",
              "      <td>0</td>\n",
              "      <td>0</td>\n",
              "      <td>0</td>\n",
              "    </tr>\n",
              "    <tr>\n",
              "      <th>4</th>\n",
              "      <td>0</td>\n",
              "      <td>0</td>\n",
              "      <td>0</td>\n",
              "      <td>0</td>\n",
              "      <td>0</td>\n",
              "      <td>0</td>\n",
              "      <td>0</td>\n",
              "      <td>1</td>\n",
              "      <td>0</td>\n",
              "      <td>0</td>\n",
              "      <td>0</td>\n",
              "      <td>0</td>\n",
              "      <td>0</td>\n",
              "      <td>0</td>\n",
              "      <td>0</td>\n",
              "      <td>0</td>\n",
              "      <td>0</td>\n",
              "      <td>0</td>\n",
              "      <td>0</td>\n",
              "      <td>1</td>\n",
              "      <td>0</td>\n",
              "      <td>1</td>\n",
              "      <td>0</td>\n",
              "      <td>0</td>\n",
              "      <td>0</td>\n",
              "      <td>1</td>\n",
              "      <td>0</td>\n",
              "      <td>0</td>\n",
              "      <td>1</td>\n",
              "      <td>1</td>\n",
              "      <td>0</td>\n",
              "      <td>0</td>\n",
              "      <td>0</td>\n",
              "      <td>0</td>\n",
              "      <td>1</td>\n",
              "      <td>1</td>\n",
              "      <td>0</td>\n",
              "      <td>0</td>\n",
              "      <td>1</td>\n",
              "      <td>0</td>\n",
              "      <td>0</td>\n",
              "    </tr>\n",
              "  </tbody>\n",
              "</table>\n",
              "</div>"
            ],
            "text/plain": [
              "   abc  and  applications  binary  ...  unordered  user  well  widths\n",
              "0    1    0             1       0  ...          0     0     0       0\n",
              "1    0    0             0       0  ...          0     1     0       0\n",
              "2    0    0             0       0  ...          0     1     0       0\n",
              "3    0    1             0       0  ...          0     0     0       0\n",
              "4    0    0             0       0  ...          0     1     0       0\n",
              "\n",
              "[5 rows x 41 columns]"
            ]
          },
          "metadata": {},
          "execution_count": 6
        }
      ]
    },
    {
      "cell_type": "code",
      "metadata": {
        "id": "eVedCrE49UE5"
      },
      "source": [
        "cp = cv_df.transpose()\n",
        "sparse_counts = scipy.sparse.csr_matrix(cp)\n",
        "corpus_brown = matutils.Sparse2Corpus(sparse_counts)\n",
        "id2word = dict((v, k) for k, v in cv.vocabulary_.items())"
      ],
      "execution_count": null,
      "outputs": []
    },
    {
      "cell_type": "code",
      "metadata": {
        "colab": {
          "base_uri": "https://localhost:8080/"
        },
        "id": "5x5DcAkn-Em5",
        "outputId": "9b602bce-5e44-4623-ab5c-df5f571d47fe"
      },
      "source": [
        "lda = models.LdaModel(corpus=corpus_brown, id2word=id2word, num_topics=2, passes=150)\n",
        "lda.print_topics()"
      ],
      "execution_count": null,
      "outputs": [
        {
          "output_type": "execute_result",
          "data": {
            "text/plain": [
              "[(0,\n",
              "  '0.074*\"of\" + 0.073*\"trees\" + 0.073*\"graph\" + 0.054*\"the\" + 0.052*\"minors\" + 0.032*\"and\" + 0.031*\"well\" + 0.031*\"quasi\" + 0.031*\"ordering\" + 0.031*\"iv\"'),\n",
              " (1,\n",
              "  '0.074*\"system\" + 0.074*\"of\" + 0.058*\"user\" + 0.041*\"response\" + 0.041*\"time\" + 0.041*\"computer\" + 0.041*\"human\" + 0.041*\"interface\" + 0.041*\"eps\" + 0.025*\"survey\"')]"
            ]
          },
          "metadata": {},
          "execution_count": 9
        }
      ]
    },
    {
      "cell_type": "code",
      "metadata": {
        "id": "btpzL5Nxa-yG"
      },
      "source": [],
      "execution_count": null,
      "outputs": []
    }
  ]
}